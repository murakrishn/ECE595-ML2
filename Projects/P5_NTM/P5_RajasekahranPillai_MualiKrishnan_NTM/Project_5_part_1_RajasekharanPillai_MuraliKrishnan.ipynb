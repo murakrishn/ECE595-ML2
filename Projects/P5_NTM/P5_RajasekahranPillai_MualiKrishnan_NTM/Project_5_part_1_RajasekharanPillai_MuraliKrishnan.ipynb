{
  "nbformat": 4,
  "nbformat_minor": 0,
  "metadata": {
    "colab": {
      "name": "Project_5_part_1_RajasekharanPillai_MuraliKrishnan.ipynb",
      "provenance": [],
      "collapsed_sections": []
    },
    "kernelspec": {
      "name": "python3",
      "display_name": "Python 3"
    },
    "accelerator": "GPU"
  },
  "cells": [
    {
      "cell_type": "markdown",
      "metadata": {
        "id": "Ep1Ky-nDBZIr",
        "colab_type": "text"
      },
      "source": [
        "You might need to modify the third line in the code cell below, to make sure you cd to the actual directory which your ipynb file is located in.\n",
        "\n",
        "**Caution**: due to the nature of this project's setup, everytime you want to rerun some code cell below, please click **Runtime -> Restart and run all**; this operation clears the computational graphs and the local variables but allow training and testing data that are already loaded from google drive to stay in the colab runtime space. Please do **not** do the following if you just wish to rerun code: click Runtime -> reset all runtimes, and then click Runtime -> Run all; it will remount your google drive, and remove the training and testing data already loaded in your colab runtime space. **Runtime -> Restart and run all** automatically avoids remounting the drive after the first time you run the notebook file; the loaded data can usually stay in your colab runtime space for many hours.\n",
        "\n",
        "Loading the training and testing data after remounting your google drive takes 30 - 40 minutes."
      ]
    },
    {
      "cell_type": "code",
      "metadata": {
        "id": "7sWni0FseVUz",
        "colab_type": "code",
        "outputId": "64b58309-4793-4985-b187-f0dc58a6c2a1",
        "colab": {
          "base_uri": "https://localhost:8080/",
          "height": 124
        }
      },
      "source": [
        "from google.colab import drive\n",
        "drive.mount(\"/content/gdrive/\", force_remount=True)"
      ],
      "execution_count": 0,
      "outputs": [
        {
          "output_type": "stream",
          "text": [
            "Go to this URL in a browser: https://accounts.google.com/o/oauth2/auth?client_id=947318989803-6bn6qk8qdgf4n4g3pfee6491hc0brc4i.apps.googleusercontent.com&redirect_uri=urn%3aietf%3awg%3aoauth%3a2.0%3aoob&response_type=code&scope=email%20https%3a%2f%2fwww.googleapis.com%2fauth%2fdocs.test%20https%3a%2f%2fwww.googleapis.com%2fauth%2fdrive%20https%3a%2f%2fwww.googleapis.com%2fauth%2fdrive.photos.readonly%20https%3a%2f%2fwww.googleapis.com%2fauth%2fpeopleapi.readonly\n",
            "\n",
            "Enter your authorization code:\n",
            "··········\n",
            "Mounted at /content/gdrive/\n"
          ],
          "name": "stdout"
        }
      ]
    },
    {
      "cell_type": "code",
      "metadata": {
        "id": "i0dS7bihO3f0",
        "colab_type": "code",
        "outputId": "a921df0b-0a3f-41d1-df0c-f2321025e2b6",
        "colab": {
          "base_uri": "https://localhost:8080/",
          "height": 34
        }
      },
      "source": [
        "%cd ./gdrive/My Drive/ece595_ml2/P5_RajasekahranPillai_MualiKrishnan_NTM/"
      ],
      "execution_count": 0,
      "outputs": [
        {
          "output_type": "stream",
          "text": [
            "/content/gdrive/My Drive/ece595_ml2/P5_RajasekahranPillai_MualiKrishnan_NTM\n"
          ],
          "name": "stdout"
        }
      ]
    },
    {
      "cell_type": "code",
      "metadata": {
        "id": "R9gdekJg_-xa",
        "colab_type": "code",
        "outputId": "7d747692-8bdb-45a2-cfd0-9eb60aceb11e",
        "colab": {
          "base_uri": "https://localhost:8080/",
          "height": 98
        }
      },
      "source": [
        "from utils import OmniglotDataLoader, one_hot_decode, five_hot_decode\n",
        "import tensorflow as tf\n",
        "import argparse\n",
        "import numpy as np\n",
        "%tensorflow_version 1.x\n",
        "print(tf.__version__)"
      ],
      "execution_count": 0,
      "outputs": [
        {
          "output_type": "display_data",
          "data": {
            "text/html": [
              "<p style=\"color: red;\">\n",
              "The default version of TensorFlow in Colab will soon switch to TensorFlow 2.x.<br>\n",
              "We recommend you <a href=\"https://www.tensorflow.org/guide/migrate\" target=\"_blank\">upgrade</a> now \n",
              "or ensure your notebook will continue to use TensorFlow 1.x via the <code>%tensorflow_version 1.x</code> magic:\n",
              "<a href=\"https://colab.research.google.com/notebooks/tensorflow_version.ipynb\" target=\"_blank\">more info</a>.</p>\n"
            ],
            "text/plain": [
              "<IPython.core.display.HTML object>"
            ]
          },
          "metadata": {
            "tags": []
          }
        },
        {
          "output_type": "stream",
          "text": [
            "1.15.0\n"
          ],
          "name": "stdout"
        }
      ]
    },
    {
      "cell_type": "markdown",
      "metadata": {
        "id": "otNm4yidAQQB",
        "colab_type": "text"
      },
      "source": [
        "Already implemented, no need to change.\n",
        "\n",
        "This class is part of the training loop."
      ]
    },
    {
      "cell_type": "code",
      "metadata": {
        "id": "MZTXPodW_5_i",
        "colab_type": "code",
        "colab": {}
      },
      "source": [
        "class NTMOneShotLearningModel():\n",
        "  def __init__(self, model, n_classes, batch_size, seq_length, image_width, image_height,\n",
        "                rnn_size, num_memory_slots, rnn_num_layers, read_head_num, write_head_num, memory_vector_dim, learning_rate):\n",
        "    self.output_dim = n_classes\n",
        "\n",
        "    # Note: the images are flattened to 1D tensors\n",
        "    # The input data structure is of the following form:\n",
        "    # self.x_image[i,j,:] = jth image in the ith sequence (or, episode)\n",
        "    self.x_image = tf.placeholder(dtype=tf.float32, shape=[batch_size, seq_length, image_width * image_height])\n",
        "    # Model's output label is one-hot encoded\n",
        "    # The data structure is of the following form:\n",
        "    # self.x_label[i,j,:] = one-hot label of the jth image in \n",
        "    #             the ith sequence (or, episode)\n",
        "    self.x_label = tf.placeholder(dtype=tf.float32, shape=[batch_size, seq_length, self.output_dim])\n",
        "    # Target label is one-hot encoded\n",
        "    self.y = tf.placeholder(dtype=tf.float32, shape=[batch_size, seq_length, self.output_dim])\n",
        "    \n",
        "    # The dense layer for mapping controller output and retrieved\n",
        "    # memory content to classification labels\n",
        "    self.controller_output_to_ntm_output = tf.keras.layers.Dense(units=self.output_dim, use_bias=True)\n",
        "\n",
        "    if model == 'LSTM':\n",
        "      # Using a LSTM layer to serve as the controller, no memory\n",
        "      def rnn_cell(rnn_size):\n",
        "        return tf.nn.rnn_cell.BasicLSTMCell(rnn_size)\n",
        "      cell = tf.nn.rnn_cell.MultiRNNCell([rnn_cell(rnn_size) for _ in range(rnn_num_layers)])\n",
        "      state = cell.zero_state(batch_size=batch_size, dtype=tf.float32)\n",
        "    \n",
        "    # Initialize the controller model, including wiping its memory\n",
        "    # Also, get the initial state of the MANN model\n",
        "    \n",
        "    self.state_list = [state]\n",
        "    # Setup the NTM's output\n",
        "    self.o = []\n",
        "    \n",
        "    # Now iterate over every sample in the sequence \n",
        "    for t in range(seq_length):\n",
        "      output, state = cell(tf.concat([self.x_image[:, t, :], self.x_label[:, t, :]], axis=1), state)\n",
        "      # Map controller output (with retrieved memory) + current (offseted) label \n",
        "      # to the overall ntm's output with an affine operation\n",
        "      # The output is the classification labels\n",
        "      output = self.controller_output_to_ntm_output(output)\n",
        "      output = tf.nn.softmax(output, axis=1)\n",
        "      self.o.append(output)\n",
        "      self.state_list.append(state)\n",
        "    # post-process the output of the classifier\n",
        "    self.o = tf.stack(self.o, axis=1)\n",
        "    self.state_list.append(state)\n",
        "\n",
        "    eps = 1e-8\n",
        "    # cross entropy, between model output labels and target labels\n",
        "    self.learning_loss = -tf.reduce_mean(  \n",
        "        tf.reduce_sum(self.y * tf.log(self.o + eps), axis=[1, 2])\n",
        "    )\n",
        "    \n",
        "    self.o = tf.reshape(self.o, shape=[batch_size, seq_length, -1])\n",
        "    self.learning_loss_summary = tf.summary.scalar('learning_loss', self.learning_loss)\n",
        "\n",
        "    with tf.variable_scope('optimizer'):\n",
        "      self.optimizer = tf.train.AdamOptimizer(learning_rate=learning_rate)\n",
        "      self.train_op = self.optimizer.minimize(self.learning_loss)"
      ],
      "execution_count": 0,
      "outputs": []
    },
    {
      "cell_type": "markdown",
      "metadata": {
        "id": "X_qMlbTWAvg0",
        "colab_type": "text"
      },
      "source": [
        "The training and testing functions"
      ]
    },
    {
      "cell_type": "code",
      "metadata": {
        "id": "Se1yEaxmey6Z",
        "colab_type": "code",
        "colab": {}
      },
      "source": [
        "def train(learning_rate, image_width, image_height, n_train_classes, n_test_classes, restore_training, \\\n",
        "         num_epochs, n_classes, batch_size, seq_length, num_memory_slots, augment, save_dir, model_path, tensorboard_dir):\n",
        "  \n",
        "  # We always use one-hot encoding of the labels in this experiment\n",
        "  label_type = \"one_hot\"\n",
        "\n",
        "  # Initialize the model\n",
        "  model = NTMOneShotLearningModel(model=model_path, n_classes=n_classes,\\\n",
        "                    batch_size=batch_size, seq_length=seq_length,\\\n",
        "                    image_width=image_width, image_height=image_height, \\\n",
        "                    rnn_size=rnn_size, num_memory_slots=num_memory_slots,\\\n",
        "                    rnn_num_layers=rnn_num_layers, read_head_num=read_head_num,\\\n",
        "                    write_head_num=write_head_num, memory_vector_dim=memory_vector_dim,\\\n",
        "                    learning_rate=learning_rate)\n",
        "  print(\"Model initialized\")\n",
        "  data_loader = OmniglotDataLoader(\n",
        "      image_size=(image_width, image_height),\n",
        "      n_train_classses=n_train_classes,\n",
        "      n_test_classes=n_test_classes\n",
        "  )\n",
        "  print(\"Data loaded\")\n",
        "  # Note: our training loop is in the tensorflow 1.x style\n",
        "  with tf.Session() as sess:\n",
        "    if restore_training:\n",
        "      saver = tf.train.Saver()\n",
        "      ckpt = tf.train.get_checkpoint_state(save_dir + '/' + model_path)\n",
        "      saver.restore(sess, ckpt.model_checkpoint_path)\n",
        "    else:\n",
        "      saver = tf.train.Saver(tf.global_variables())\n",
        "      tf.global_variables_initializer().run()\n",
        "    train_writer = tf.summary.FileWriter(tensorboard_dir + '/' + model_path, sess.graph)\n",
        "    print(\"1st\\t2nd\\t3rd\\t4th\\t5th\\t6th\\t7th\\t8th\\t9th\\t10th\\tepoch\\tloss\")\n",
        "    for b in range(num_epochs):\n",
        "      # Test the model\n",
        "      if (b+1) % 100 == 0:\n",
        "        # Note: the images are flattened to 1D tensors\n",
        "        # The input data structure is of the following form:\n",
        "        # x_image[i,j,:] = jth image in the ith sequence (or, episode)\n",
        "        # And the sequence of 50 images x_image[i,:,:] constitute\n",
        "        # one episode, and each class (out of 5 classes) has around 10\n",
        "        # appearances in this sequence, as seq_length = 50 and \n",
        "        # n_classes = 5, as specified in the code block below\n",
        "        # See the details in utils.py, OmniglotDataLoader class\n",
        "        x_image, x_label, y = data_loader.fetch_batch(n_classes, batch_size, seq_length,\n",
        "                                  type='test',\n",
        "                                  augment=augment,\n",
        "                                  label_type=label_type)\n",
        "        feed_dict = {model.x_image: x_image, model.x_label: x_label, model.y: y}\n",
        "        output, learning_loss = sess.run([model.o, model.learning_loss], feed_dict=feed_dict)\n",
        "        merged_summary = sess.run(model.learning_loss_summary, feed_dict=feed_dict)\n",
        "        train_writer.add_summary(merged_summary, b)\n",
        "        accuracy = test(seq_length, y, output)\n",
        "        for accu in accuracy:\n",
        "          print('%.4f' % accu, end='\\t')\n",
        "        print('%d\\t%.4f' % (b, learning_loss))\n",
        "\n",
        "      # Save model per 2000 epochs\n",
        "      if b%2000==0 and b>0:\n",
        "        saver.save(sess, save_dir + '/' + model_path + '/model.tfmodel', global_step=b)\n",
        "\n",
        "      # Train the model\n",
        "      x_image, x_label, y = data_loader.fetch_batch(n_classes, batch_size, seq_length, \\\n",
        "                                type='train',\n",
        "                                augment=augment,\n",
        "                                label_type=label_type)\n",
        "      feed_dict = {model.x_image: x_image, model.x_label: x_label, model.y: y}\n",
        "      sess.run(model.train_op, feed_dict=feed_dict)\n",
        "\n",
        "\n",
        "# Fill in this function. You might not need seq_length (the length of an episode)\n",
        "# as an input, depending on your setup \n",
        "# Note: y is the true labels, and of shape (batch_size, seq_length, 5)\n",
        "# output is the network's classification labels\n",
        "def test(seq_length, y, output):\n",
        "  \"\"\"\n",
        "  Shape: (16, 50, 5)\n",
        "  \"\"\"\n",
        "  y_decode = np.argmax(y, axis=-1) # Shape (16, 50)\n",
        "  output_decode = np.argmax(output, axis=-1) # Shape (16, 50)\n",
        "  correct = [0] * seq_length\n",
        "  total = [0] * seq_length\n",
        "\n",
        "  for i in range(np.shape(y)[0]):\n",
        "    y_i = y_decode[i]\n",
        "    output_i = output_decode[i]\n",
        "    class_count = {}\n",
        "    for j in range(seq_length):\n",
        "      if y_i[j] not in class_count:\n",
        "        class_count[y_i[j]] = 0\n",
        "      class_count[y_i[j]] += 1\n",
        "      total[class_count[y_i[j]]] += 1\n",
        "      if y_i[j] == output_i[j]:\n",
        "        correct[class_count[y_i[j]]] += 1\n",
        "  return [float(correct[i]) / total[i] if total[i] > 0. else 0. for i in range(1, 11)]"
      ],
      "execution_count": 0,
      "outputs": []
    },
    {
      "cell_type": "code",
      "metadata": {
        "id": "VruOInLHkZUK",
        "colab_type": "code",
        "outputId": "b3f07a74-b71e-4d15-8486-fcdc34a4aef2",
        "colab": {
          "base_uri": "https://localhost:8080/",
          "height": 1000
        }
      },
      "source": [
        "restore_training = False\n",
        "label_type = \"one_hot\"\n",
        "n_classes = 5\n",
        "seq_length = 50\n",
        "augment = True\n",
        "read_head_num = 4\n",
        "batch_size = 16\n",
        "num_epochs = 10000\n",
        "learning_rate = 1e-3\n",
        "rnn_size = 200\n",
        "image_width = 20\n",
        "image_height = 20\n",
        "rnn_num_layers = 1\n",
        "num_memory_slots = 128\n",
        "memory_vector_dim = 40\n",
        "shift_range = 1\n",
        "write_head_num = 4\n",
        "test_batch_num = 100\n",
        "n_train_classes = 220\n",
        "n_test_classes = 60\n",
        "save_dir = './save/one_shot_learning'\n",
        "tensorboard_dir = './summary/one_shot_learning'\n",
        "model_path = 'LSTM'\n",
        "train(learning_rate, image_width, image_height, n_train_classes, n_test_classes, restore_training, \\\n",
        "         num_epochs, n_classes, batch_size, seq_length, num_memory_slots, augment, save_dir, model_path, tensorboard_dir)\n"
      ],
      "execution_count": 0,
      "outputs": [
        {
          "output_type": "stream",
          "text": [
            "WARNING:tensorflow:From <ipython-input-4-eb58e367ca65>:25: BasicLSTMCell.__init__ (from tensorflow.python.ops.rnn_cell_impl) is deprecated and will be removed in a future version.\n",
            "Instructions for updating:\n",
            "This class is equivalent as tf.keras.layers.LSTMCell, and will be replaced by that in Tensorflow 2.0.\n",
            "WARNING:tensorflow:From <ipython-input-4-eb58e367ca65>:26: MultiRNNCell.__init__ (from tensorflow.python.ops.rnn_cell_impl) is deprecated and will be removed in a future version.\n",
            "Instructions for updating:\n",
            "This class is equivalent as tf.keras.layers.StackedRNNCells, and will be replaced by that in Tensorflow 2.0.\n",
            "WARNING:tensorflow:From /usr/local/lib/python3.6/dist-packages/tensorflow_core/python/ops/rnn_cell_impl.py:735: Layer.add_variable (from tensorflow.python.keras.engine.base_layer) is deprecated and will be removed in a future version.\n",
            "Instructions for updating:\n",
            "Please use `layer.add_weight` method instead.\n",
            "WARNING:tensorflow:From /usr/local/lib/python3.6/dist-packages/tensorflow_core/python/ops/rnn_cell_impl.py:739: calling Zeros.__init__ (from tensorflow.python.ops.init_ops) with dtype is deprecated and will be removed in a future version.\n",
            "Instructions for updating:\n",
            "Call initializer instance with the dtype argument instead of passing it to the constructor\n",
            "WARNING:tensorflow:From /usr/local/lib/python3.6/dist-packages/tensorflow_core/python/ops/resource_variable_ops.py:1630: calling BaseResourceVariable.__init__ (from tensorflow.python.ops.resource_variable_ops) with constraint is deprecated and will be removed in a future version.\n",
            "Instructions for updating:\n",
            "If using Keras pass *_constraint arguments to layers.\n",
            "Model initialized\n",
            "Entered Dataloader\n",
            "10.0% data loaded.\n",
            "20.0% data loaded.\n",
            "30.0% data loaded.\n",
            "40.0% data loaded.\n",
            "50.0% data loaded.\n",
            "60.0% data loaded.\n",
            "70.0% data loaded.\n",
            "80.0% data loaded.\n",
            "90.0% data loaded.\n",
            "100.0% data loaded.\n",
            "Data loaded\n",
            "1st\t2nd\t3rd\t4th\t5th\t6th\t7th\t8th\t9th\t10th\tepoch\tloss\n",
            "0.2875\t0.2000\t0.1899\t0.2658\t0.1667\t0.2208\t0.1831\t0.2154\t0.2321\t0.0930\t99\t80.6982\n",
            "0.2375\t0.2000\t0.1899\t0.2025\t0.2500\t0.1200\t0.2027\t0.1940\t0.2241\t0.1739\t199\t80.3418\n",
            "0.1625\t0.2000\t0.1875\t0.2532\t0.1818\t0.2055\t0.2985\t0.1719\t0.3214\t0.2045\t299\t80.3991\n",
            "0.1875\t0.1000\t0.2125\t0.2500\t0.1899\t0.1948\t0.1429\t0.2222\t0.2642\t0.2292\t399\t80.5630\n",
            "0.2125\t0.1125\t0.2250\t0.1646\t0.2025\t0.1948\t0.2329\t0.1970\t0.0536\t0.1395\t499\t80.6133\n",
            "0.2500\t0.2125\t0.2375\t0.1750\t0.3205\t0.2133\t0.1857\t0.3016\t0.1852\t0.2619\t599\t80.4940\n",
            "0.2000\t0.1500\t0.1000\t0.0875\t0.2000\t0.2051\t0.2267\t0.1692\t0.1455\t0.1628\t699\t80.5920\n",
            "0.1750\t0.1250\t0.1625\t0.2000\t0.2051\t0.2297\t0.1618\t0.1774\t0.1852\t0.2444\t799\t80.5165\n",
            "0.2500\t0.2625\t0.1375\t0.2000\t0.1519\t0.1316\t0.1507\t0.2000\t0.2407\t0.2381\t899\t80.4928\n",
            "0.1875\t0.1875\t0.2125\t0.1750\t0.2125\t0.2405\t0.2105\t0.1806\t0.3387\t0.1333\t999\t80.4689\n",
            "0.2125\t0.2000\t0.1875\t0.2179\t0.2368\t0.1974\t0.1884\t0.1475\t0.1786\t0.1957\t1099\t80.4505\n",
            "0.2875\t0.2000\t0.2250\t0.2278\t0.3077\t0.2078\t0.1867\t0.2462\t0.2115\t0.2250\t1199\t80.4190\n",
            "0.2000\t0.1625\t0.1625\t0.2625\t0.1842\t0.1333\t0.1690\t0.1452\t0.2182\t0.1765\t1299\t80.5908\n",
            "0.2250\t0.1875\t0.1375\t0.1375\t0.1875\t0.2208\t0.2192\t0.2090\t0.2778\t0.2195\t1399\t80.4737\n",
            "0.2000\t0.2500\t0.2375\t0.2000\t0.1875\t0.1948\t0.1622\t0.1452\t0.2115\t0.2093\t1499\t80.5097\n",
            "0.2375\t0.1750\t0.1750\t0.1750\t0.1899\t0.2055\t0.1739\t0.1719\t0.1852\t0.1333\t1599\t80.5404\n",
            "0.2750\t0.2625\t0.1875\t0.2000\t0.2179\t0.2133\t0.2083\t0.1364\t0.1525\t0.1304\t1699\t80.4396\n",
            "0.2250\t0.1750\t0.2000\t0.0875\t0.2152\t0.1948\t0.1944\t0.2154\t0.2500\t0.1915\t1799\t80.5253\n",
            "0.2250\t0.1000\t0.2750\t0.2125\t0.2250\t0.1646\t0.1944\t0.2222\t0.2321\t0.2368\t1899\t80.4045\n",
            "0.2375\t0.1250\t0.1375\t0.1875\t0.1646\t0.1688\t0.1690\t0.2344\t0.2593\t0.2041\t1999\t80.4524\n",
            "0.2375\t0.1625\t0.2250\t0.1519\t0.1772\t0.1711\t0.1644\t0.2121\t0.1923\t0.2326\t2099\t80.4862\n",
            "0.2250\t0.2375\t0.1375\t0.1625\t0.2278\t0.1667\t0.1233\t0.3065\t0.2157\t0.1463\t2199\t80.4938\n",
            "0.2125\t0.2500\t0.2000\t0.2025\t0.1948\t0.2000\t0.2464\t0.2063\t0.1818\t0.1136\t2299\t80.4894\n",
            "0.2125\t0.2500\t0.1625\t0.1875\t0.1646\t0.2133\t0.2286\t0.1639\t0.2308\t0.1957\t2399\t80.4319\n",
            "0.2375\t0.2000\t0.2625\t0.1625\t0.2692\t0.1622\t0.1940\t0.1774\t0.2037\t0.1522\t2499\t80.4760\n",
            "0.2625\t0.1875\t0.2875\t0.1625\t0.2025\t0.2208\t0.1857\t0.3182\t0.1833\t0.1739\t2599\t80.4703\n",
            "0.2875\t0.2125\t0.2500\t0.2051\t0.2208\t0.1867\t0.2083\t0.2540\t0.1754\t0.1667\t2699\t80.4469\n",
            "0.2125\t0.1750\t0.2250\t0.2125\t0.1750\t0.2468\t0.1867\t0.2424\t0.2963\t0.1860\t2799\t80.4648\n",
            "0.2000\t0.2500\t0.2125\t0.2532\t0.1772\t0.2667\t0.1449\t0.2581\t0.2000\t0.1778\t2899\t80.4629\n",
            "0.1875\t0.1250\t0.2125\t0.2000\t0.1772\t0.2267\t0.1972\t0.3016\t0.2400\t0.1818\t2999\t80.4586\n",
            "0.1750\t0.1875\t0.2250\t0.2250\t0.1625\t0.1875\t0.2027\t0.1406\t0.2105\t0.2619\t3099\t80.5025\n",
            "0.1625\t0.1750\t0.1375\t0.1875\t0.1899\t0.2727\t0.2267\t0.1493\t0.2000\t0.2250\t3199\t80.5405\n",
            "0.2250\t0.1750\t0.2125\t0.2375\t0.1772\t0.1818\t0.1739\t0.1935\t0.1569\t0.1429\t3299\t80.5036\n",
            "0.2000\t0.1875\t0.0875\t0.1646\t0.2278\t0.2727\t0.2192\t0.2537\t0.1250\t0.1000\t3399\t80.4823\n",
            "0.2000\t0.2500\t0.1875\t0.2125\t0.2025\t0.1579\t0.2222\t0.2353\t0.2414\t0.2558\t3499\t80.4548\n",
            "0.1750\t0.2375\t0.1750\t0.2405\t0.1282\t0.1711\t0.2027\t0.1791\t0.2264\t0.1333\t3599\t80.5209\n",
            "0.1875\t0.1875\t0.1500\t0.2179\t0.1688\t0.1733\t0.1831\t0.1967\t0.2642\t0.2000\t3699\t80.5152\n",
            "0.2000\t0.2125\t0.2500\t0.1899\t0.1923\t0.1711\t0.2432\t0.2308\t0.2500\t0.1818\t3799\t80.4814\n",
            "0.2000\t0.2000\t0.1875\t0.2125\t0.1750\t0.2436\t0.1644\t0.1940\t0.1833\t0.1395\t3899\t80.4796\n",
            "0.1750\t0.1625\t0.2250\t0.1500\t0.1772\t0.1316\t0.1389\t0.2131\t0.2830\t0.1522\t3999\t80.4729\n",
            "0.1375\t0.2000\t0.1772\t0.2152\t0.2436\t0.2208\t0.1200\t0.2063\t0.2182\t0.1837\t4099\t80.5447\n",
            "0.2250\t0.2125\t0.2125\t0.1392\t0.2405\t0.2179\t0.2192\t0.1875\t0.2037\t0.2174\t4199\t80.4623\n",
            "0.1750\t0.2500\t0.1375\t0.2250\t0.1923\t0.2133\t0.2319\t0.2857\t0.2000\t0.1837\t4299\t80.4624\n",
            "0.2250\t0.2000\t0.2500\t0.2000\t0.2500\t0.1429\t0.1781\t0.2090\t0.1311\t0.1111\t4399\t80.5181\n",
            "0.1875\t0.1750\t0.1899\t0.1923\t0.2338\t0.2400\t0.1549\t0.2222\t0.2500\t0.2222\t4499\t80.4999\n",
            "0.2000\t0.1750\t0.1875\t0.1750\t0.1625\t0.2025\t0.1842\t0.1642\t0.1429\t0.3095\t4599\t80.5050\n",
            "0.2000\t0.2000\t0.2250\t0.2405\t0.2308\t0.1558\t0.2297\t0.2353\t0.1905\t0.2609\t4699\t80.4097\n",
            "0.2125\t0.2125\t0.1875\t0.1772\t0.2152\t0.2237\t0.2059\t0.2459\t0.2037\t0.2174\t4799\t80.4807\n",
            "0.2375\t0.2000\t0.2000\t0.2025\t0.2237\t0.2400\t0.1831\t0.1774\t0.3077\t0.2093\t4899\t80.4767\n",
            "0.2125\t0.1625\t0.1875\t0.1625\t0.2179\t0.1579\t0.2714\t0.1774\t0.1786\t0.1915\t4999\t80.4500\n",
            "0.2000\t0.2375\t0.2250\t0.2125\t0.2125\t0.2051\t0.2394\t0.2239\t0.1964\t0.1739\t5099\t80.4708\n",
            "0.1875\t0.2125\t0.1625\t0.1875\t0.2125\t0.1899\t0.1818\t0.1096\t0.2453\t0.2195\t5199\t80.4287\n",
            "0.2125\t0.2375\t0.2125\t0.2278\t0.2051\t0.1842\t0.1857\t0.1538\t0.2000\t0.2174\t5299\t80.4369\n",
            "0.1625\t0.1500\t0.2500\t0.1750\t0.2308\t0.1558\t0.2609\t0.2188\t0.1897\t0.2222\t5399\t80.4663\n",
            "0.1875\t0.1875\t0.2250\t0.2152\t0.2278\t0.1974\t0.2286\t0.2000\t0.2281\t0.1600\t5499\t80.4768\n",
            "0.1750\t0.1750\t0.1875\t0.1750\t0.1375\t0.1818\t0.1622\t0.1667\t0.0690\t0.1163\t5599\t80.4804\n",
            "0.2250\t0.2000\t0.2250\t0.1500\t0.2000\t0.2500\t0.1806\t0.2571\t0.1754\t0.2093\t5699\t80.4228\n",
            "0.2500\t0.2000\t0.2000\t0.2250\t0.2125\t0.2208\t0.2466\t0.2273\t0.1930\t0.1667\t5799\t80.4638\n",
            "0.2125\t0.2250\t0.1500\t0.1875\t0.2405\t0.1948\t0.2464\t0.2903\t0.2321\t0.2727\t5899\t80.4299\n",
            "0.2250\t0.2125\t0.2125\t0.1500\t0.2125\t0.1750\t0.1688\t0.1571\t0.2453\t0.2444\t5999\t80.4990\n",
            "0.1625\t0.2750\t0.2750\t0.1875\t0.1139\t0.2027\t0.1806\t0.2258\t0.1373\t0.1667\t6099\t80.4760\n",
            "0.2000\t0.1875\t0.2000\t0.2278\t0.2179\t0.2078\t0.2192\t0.1791\t0.1833\t0.2391\t6199\t80.4730\n",
            "0.2000\t0.1500\t0.2000\t0.1625\t0.1375\t0.1948\t0.1806\t0.2462\t0.2115\t0.2391\t6299\t80.4627\n",
            "0.2250\t0.2625\t0.2375\t0.2597\t0.1948\t0.2267\t0.1972\t0.2131\t0.2037\t0.2093\t6399\t80.4506\n",
            "0.1125\t0.1875\t0.2625\t0.3165\t0.3077\t0.2763\t0.2254\t0.2344\t0.2222\t0.1333\t6499\t80.4088\n",
            "0.2250\t0.2125\t0.2000\t0.1772\t0.2152\t0.1558\t0.1711\t0.2344\t0.2241\t0.2250\t6599\t80.4449\n",
            "0.2500\t0.2000\t0.2375\t0.2875\t0.1875\t0.2105\t0.2973\t0.3043\t0.2857\t0.2391\t6699\t80.3844\n",
            "0.1750\t0.2500\t0.2250\t0.1750\t0.1899\t0.1867\t0.2192\t0.2059\t0.2759\t0.1395\t6799\t80.4981\n",
            "0.1875\t0.1875\t0.1750\t0.2000\t0.2875\t0.2027\t0.1765\t0.1905\t0.1818\t0.2381\t6899\t80.4880\n",
            "0.2250\t0.2625\t0.2125\t0.1625\t0.2532\t0.2208\t0.2329\t0.1077\t0.1930\t0.1522\t6999\t80.5057\n",
            "0.1250\t0.2375\t0.1750\t0.1250\t0.2436\t0.1972\t0.1594\t0.1905\t0.2281\t0.2708\t7099\t80.4744\n",
            "0.1375\t0.2000\t0.1875\t0.2125\t0.1667\t0.2500\t0.1467\t0.1967\t0.2593\t0.2143\t7199\t80.4858\n",
            "0.1500\t0.1500\t0.1500\t0.2375\t0.2125\t0.2152\t0.1714\t0.2615\t0.2407\t0.2093\t7299\t80.4052\n",
            "0.1875\t0.2250\t0.1625\t0.1875\t0.2000\t0.1667\t0.2222\t0.1905\t0.3019\t0.2093\t7399\t80.5289\n",
            "0.1625\t0.1875\t0.2375\t0.2000\t0.2911\t0.1892\t0.1972\t0.2222\t0.2105\t0.1667\t7499\t80.3921\n",
            "0.1750\t0.1750\t0.1750\t0.2000\t0.1899\t0.2078\t0.1733\t0.1507\t0.1667\t0.1556\t7599\t80.2283\n",
            "0.1500\t0.2000\t0.2250\t0.1875\t0.2000\t0.2105\t0.2394\t0.2031\t0.2364\t0.1429\t7699\t79.9473\n",
            "0.1750\t0.1875\t0.2125\t0.1899\t0.2821\t0.2237\t0.2899\t0.2656\t0.1800\t0.2500\t7799\t78.5442\n",
            "0.1875\t0.1875\t0.2658\t0.2405\t0.2949\t0.2692\t0.3288\t0.3281\t0.2500\t0.3415\t7899\t77.2411\n",
            "0.1750\t0.3000\t0.2625\t0.3291\t0.2987\t0.4000\t0.3571\t0.3333\t0.4068\t0.3556\t7999\t73.4358\n",
            "0.2625\t0.2250\t0.3250\t0.3750\t0.3377\t0.3896\t0.3600\t0.3077\t0.3774\t0.3617\t8099\t73.1049\n",
            "0.1625\t0.2125\t0.2875\t0.3875\t0.4375\t0.2949\t0.4507\t0.3175\t0.4909\t0.3778\t8199\t71.3320\n",
            "0.1500\t0.3125\t0.3000\t0.2375\t0.3684\t0.2933\t0.3151\t0.3548\t0.3793\t0.3922\t8299\t70.6096\n",
            "0.1375\t0.2875\t0.2750\t0.3500\t0.3718\t0.3333\t0.3836\t0.3623\t0.4194\t0.4048\t8399\t71.7348\n",
            "0.2500\t0.2875\t0.3250\t0.3125\t0.3797\t0.3896\t0.4189\t0.5147\t0.3729\t0.4773\t8499\t67.2408\n",
            "0.1375\t0.2875\t0.3500\t0.4375\t0.4125\t0.3924\t0.3919\t0.3731\t0.3929\t0.3488\t8599\t69.4249\n",
            "0.2125\t0.3125\t0.3500\t0.3750\t0.3750\t0.3875\t0.4658\t0.4697\t0.4182\t0.4000\t8699\t66.9586\n",
            "0.1500\t0.2875\t0.3750\t0.3750\t0.4211\t0.3467\t0.4384\t0.3714\t0.3793\t0.3400\t8799\t69.1884\n",
            "0.2750\t0.2625\t0.4500\t0.3875\t0.3974\t0.3649\t0.4110\t0.3731\t0.1538\t0.3590\t8899\t69.9112\n",
            "0.1250\t0.3125\t0.4000\t0.4625\t0.4430\t0.4247\t0.4085\t0.4603\t0.4259\t0.4884\t8999\t65.3164\n",
            "0.1875\t0.3125\t0.4625\t0.4051\t0.4935\t0.5135\t0.4203\t0.3115\t0.4706\t0.3571\t9099\t64.1226\n",
            "0.1625\t0.2625\t0.3125\t0.3750\t0.4487\t0.3026\t0.3188\t0.4179\t0.4561\t0.3404\t9199\t68.6740\n",
            "0.2125\t0.3875\t0.3125\t0.5063\t0.4416\t0.4933\t0.4324\t0.4203\t0.3793\t0.2750\t9299\t67.6152\n",
            "0.2250\t0.3000\t0.4250\t0.3750\t0.3924\t0.3867\t0.4932\t0.3971\t0.5273\t0.4000\t9399\t66.1862\n",
            "0.1000\t0.4250\t0.4125\t0.4430\t0.5443\t0.4342\t0.4507\t0.4394\t0.5000\t0.5208\t9499\t63.6638\n",
            "0.2500\t0.3000\t0.4250\t0.4625\t0.4937\t0.4459\t0.3333\t0.5156\t0.4182\t0.3404\t9599\t65.6273\n",
            "0.1375\t0.3500\t0.4000\t0.5063\t0.5128\t0.4675\t0.3896\t0.4776\t0.3519\t0.4130\t9699\t64.8359\n",
            "0.1625\t0.3924\t0.4557\t0.4684\t0.3289\t0.4342\t0.4730\t0.5469\t0.4576\t0.5417\t9799\t63.1802\n",
            "0.1750\t0.2750\t0.3544\t0.4805\t0.3684\t0.4267\t0.3099\t0.4697\t0.4912\t0.3478\t9899\t63.5629\n",
            "0.2000\t0.2750\t0.4125\t0.4500\t0.5190\t0.3947\t0.3421\t0.3731\t0.4386\t0.4390\t9999\t69.9218\n"
          ],
          "name": "stdout"
        }
      ]
    },
    {
      "cell_type": "code",
      "metadata": {
        "id": "xGWRclD2PE1Q",
        "colab_type": "code",
        "colab": {}
      },
      "source": [
        ""
      ],
      "execution_count": 0,
      "outputs": []
    }
  ]
}