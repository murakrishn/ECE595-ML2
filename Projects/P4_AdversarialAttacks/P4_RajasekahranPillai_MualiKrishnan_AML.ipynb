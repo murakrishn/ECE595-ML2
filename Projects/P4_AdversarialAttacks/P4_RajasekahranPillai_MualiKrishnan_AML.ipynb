{
 "cells": [
  {
   "cell_type": "markdown",
   "metadata": {
    "colab_type": "text",
    "id": "NiZYmbLsCx8C"
   },
   "source": [
    "# Student Name: Murali Krishnan Rajasekharan Pillai\n",
    "# ECE 595 Machine Learning II\n",
    "# Project 4: Adversarial Machine Learning"
   ]
  },
  {
   "cell_type": "code",
   "execution_count": 1,
   "metadata": {
    "colab": {
     "base_uri": "https://localhost:8080/",
     "height": 419
    },
    "colab_type": "code",
    "id": "ZH3b6I2oq_6i",
    "outputId": "291cd596-0f4c-4560-8b1d-d963adf53304"
   },
   "outputs": [
    {
     "name": "stdout",
     "output_type": "stream",
     "text": [
      "Collecting cleverhans==2.1.0\n",
      "\u001b[?25l  Downloading https://files.pythonhosted.org/packages/cc/91/1f6f2d1f1bf2268dcebd097347b4d8fa952743ed46b6fb160a314ca67287/cleverhans-2.1.0-py3-none-any.whl (74kB)\n",
      "\u001b[K     |████████████████████████████████| 81kB 2.7MB/s \n",
      "\u001b[?25hCollecting pycodestyle\n",
      "\u001b[?25l  Downloading https://files.pythonhosted.org/packages/0e/0c/04a353e104d2f324f8ee5f4b32012618c1c86dd79e52a433b64fceed511b/pycodestyle-2.5.0-py2.py3-none-any.whl (51kB)\n",
      "\u001b[K     |████████████████████████████████| 51kB 8.0MB/s \n",
      "\u001b[?25hRequirement already satisfied: numpy in /usr/local/lib/python3.6/dist-packages (from cleverhans==2.1.0) (1.17.4)\n",
      "Requirement already satisfied: scipy in /usr/local/lib/python3.6/dist-packages (from cleverhans==2.1.0) (1.3.2)\n",
      "Collecting mnist~=0.2\n",
      "  Downloading https://files.pythonhosted.org/packages/c6/c4/5db3bfe009f8d71f1d532bbadbd0ec203764bba3a469e4703a889db8e5e0/mnist-0.2.2-py2.py3-none-any.whl\n",
      "Requirement already satisfied: matplotlib in /usr/local/lib/python3.6/dist-packages (from cleverhans==2.1.0) (3.1.1)\n",
      "Collecting nose\n",
      "\u001b[?25l  Downloading https://files.pythonhosted.org/packages/15/d8/dd071918c040f50fa1cf80da16423af51ff8ce4a0f2399b7bf8de45ac3d9/nose-1.3.7-py3-none-any.whl (154kB)\n",
      "\u001b[K     |████████████████████████████████| 163kB 8.7MB/s \n",
      "\u001b[?25hRequirement already satisfied: cycler>=0.10 in /usr/local/lib/python3.6/dist-packages (from matplotlib->cleverhans==2.1.0) (0.10.0)\n",
      "Requirement already satisfied: python-dateutil>=2.1 in /usr/local/lib/python3.6/dist-packages (from matplotlib->cleverhans==2.1.0) (2.6.1)\n",
      "Requirement already satisfied: pyparsing!=2.0.4,!=2.1.2,!=2.1.6,>=2.0.1 in /usr/local/lib/python3.6/dist-packages (from matplotlib->cleverhans==2.1.0) (2.4.5)\n",
      "Requirement already satisfied: kiwisolver>=1.0.1 in /usr/local/lib/python3.6/dist-packages (from matplotlib->cleverhans==2.1.0) (1.1.0)\n",
      "Requirement already satisfied: six in /usr/local/lib/python3.6/dist-packages (from cycler>=0.10->matplotlib->cleverhans==2.1.0) (1.12.0)\n",
      "Requirement already satisfied: setuptools in /usr/local/lib/python3.6/dist-packages (from kiwisolver>=1.0.1->matplotlib->cleverhans==2.1.0) (41.6.0)\n",
      "Installing collected packages: pycodestyle, mnist, nose, cleverhans\n",
      "Successfully installed cleverhans-2.1.0 mnist-0.2.2 nose-1.3.7 pycodestyle-2.5.0\n"
     ]
    }
   ],
   "source": [
    "#Install Cleverhans (version Cleverhans 2.1.0 is most compatable with Python 2.x)\n",
    "!pip install cleverhans==2.1.0"
   ]
  },
  {
   "cell_type": "code",
   "execution_count": 2,
   "metadata": {
    "colab": {
     "base_uri": "https://localhost:8080/",
     "height": 81
    },
    "colab_type": "code",
    "id": "mVKiKyxvrDio",
    "outputId": "728bcf14-b2b5-48c1-9f0c-03ca51b012fc"
   },
   "outputs": [
    {
     "data": {
      "text/html": [
       "<p style=\"color: red;\">\n",
       "The default version of TensorFlow in Colab will soon switch to TensorFlow 2.x.<br>\n",
       "We recommend you <a href=\"https://www.tensorflow.org/guide/migrate\" target=\"_blank\">upgrade</a> now \n",
       "or ensure your notebook will continue to use TensorFlow 1.x via the <code>%tensorflow_version 1.x</code> magic:\n",
       "<a href=\"https://colab.research.google.com/notebooks/tensorflow_version.ipynb\" target=\"_blank\">more info</a>.</p>\n"
      ],
      "text/plain": [
       "<IPython.core.display.HTML object>"
      ]
     },
     "metadata": {
      "tags": []
     },
     "output_type": "display_data"
    },
    {
     "name": "stderr",
     "output_type": "stream",
     "text": [
      "Using TensorFlow backend.\n"
     ]
    }
   ],
   "source": [
    "#Import necessary packages\n",
    "import pickle\n",
    "import tensorflow as tf\n",
    "import numpy as np\n",
    "import keras\n",
    "from keras import Sequential, backend\n",
    "from keras.datasets import mnist\n",
    "from keras.models import load_model, model_from_json\n",
    "from keras.layers import Dense, Conv2D, Dropout, Flatten, MaxPool2D, BatchNormalization\n",
    "import matplotlib.pyplot as plt\n",
    "from sklearn.decomposition import PCA\n",
    "from cleverhans.utils_keras import KerasModelWrapper\n",
    "from cleverhans.attacks import FastGradientMethod, MadryEtAl, DeepFool, CarliniWagnerL2"
   ]
  },
  {
   "cell_type": "code",
   "execution_count": 3,
   "metadata": {
    "colab": {
     "base_uri": "https://localhost:8080/",
     "height": 124
    },
    "colab_type": "code",
    "id": "3w-ogIIH3r2N",
    "outputId": "f19a79f0-4ccd-4014-d3dc-6fa894b9f008"
   },
   "outputs": [
    {
     "name": "stdout",
     "output_type": "stream",
     "text": [
      "Go to this URL in a browser: https://accounts.google.com/o/oauth2/auth?client_id=947318989803-6bn6qk8qdgf4n4g3pfee6491hc0brc4i.apps.googleusercontent.com&redirect_uri=urn%3aietf%3awg%3aoauth%3a2.0%3aoob&response_type=code&scope=email%20https%3a%2f%2fwww.googleapis.com%2fauth%2fdocs.test%20https%3a%2f%2fwww.googleapis.com%2fauth%2fdrive%20https%3a%2f%2fwww.googleapis.com%2fauth%2fdrive.photos.readonly%20https%3a%2f%2fwww.googleapis.com%2fauth%2fpeopleapi.readonly\n",
      "\n",
      "Enter your authorization code:\n",
      "··········\n",
      "Mounted at /content/gdrive\n"
     ]
    }
   ],
   "source": [
    "from google.colab import drive\n",
    "drive.mount('/content/gdrive')"
   ]
  },
  {
   "cell_type": "code",
   "execution_count": 0,
   "metadata": {
    "colab": {},
    "colab_type": "code",
    "id": "ByntObf_3xsP"
   },
   "outputs": [],
   "source": [
    "MODEL_LOCATION = './gdrive/My Drive/ece595_ml2/models/'"
   ]
  },
  {
   "cell_type": "markdown",
   "metadata": {
    "colab_type": "text",
    "id": "AR7lUPK3rL3d"
   },
   "source": [
    "# Part 1: Training a target classifier"
   ]
  },
  {
   "cell_type": "code",
   "execution_count": 5,
   "metadata": {
    "colab": {
     "base_uri": "https://localhost:8080/",
     "height": 52
    },
    "colab_type": "code",
    "id": "dRvltpU9rMZp",
    "outputId": "7a5d03f0-1464-4f54-faf8-f0e5b0885bf8"
   },
   "outputs": [
    {
     "name": "stdout",
     "output_type": "stream",
     "text": [
      "Downloading data from https://s3.amazonaws.com/img-datasets/mnist.npz\n",
      "11493376/11490434 [==============================] - 2s 0us/step\n"
     ]
    }
   ],
   "source": [
    "# Load data MNIST data and normalize to [0, 1]\n",
    "(data_train, labels_train), (data_test, labels_test) = mnist.load_data()\n",
    "data_train = data_train / 255.\n",
    "data_test = data_test / 255."
   ]
  },
  {
   "cell_type": "code",
   "execution_count": 0,
   "metadata": {
    "colab": {},
    "colab_type": "code",
    "id": "4ZLYhcm-icfE"
   },
   "outputs": [],
   "source": [
    "#Reshape training and testing data into 784-dimensional vectors \n",
    "data_train = data_train.reshape(-1, 784)\n",
    "data_test = data_test.reshape(-1, 784)"
   ]
  },
  {
   "cell_type": "code",
   "execution_count": 0,
   "metadata": {
    "colab": {},
    "colab_type": "code",
    "id": "P3j7FwWSifRS"
   },
   "outputs": [],
   "source": [
    "#Convert integer labels for training and testing data into one-hot vectors \n",
    "labels_train = keras.utils.np_utils.to_categorical(labels_train, num_classes=10)\n",
    "labels_test = keras.utils.np_utils.to_categorical(labels_test, num_classes=10)"
   ]
  },
  {
   "cell_type": "code",
   "execution_count": 0,
   "metadata": {
    "colab": {},
    "colab_type": "code",
    "id": "b-KpZuJGihCm"
   },
   "outputs": [],
   "source": [
    "#Create classifier architecture, compile it, and train it\n",
    "class model_methods(object):\n",
    "  def __init__(self, loss_fn, optim, ndim):\n",
    "    \"\"\"\n",
    "    Try to develop a class which contains common functionality of\n",
    "    NN models. Like saving a model and it's weights\n",
    "    \"\"\"\n",
    "    self.loss_fn = loss_fn\n",
    "    self.optim = optim\n",
    "    self.ndim = ndim\n",
    "\n",
    "  def save_model_weights(self, h5_file_name):\n",
    "    \"\"\"\n",
    "    Save weights of the model in .h5 format\n",
    "    Parameters:\n",
    "      :h5_file_name:    Identifier of the model weights h5 file\n",
    "    \"\"\"\n",
    "    self.model.save_weights(h5_file_name)\n",
    "\n",
    "  def save_model(self, json_file_name):\n",
    "    \"\"\"\n",
    "    Save the file in a .json file\n",
    "    Parameters:\n",
    "      :json_file_name:   Identifier of the model in json file\n",
    "    \"\"\"\n",
    "    model_json = self.model.to_json()\n",
    "    with open(json_file_name, 'w') as json_file:\n",
    "      json_file.write(model_json)\n",
    "\n",
    "  def load_model(self, json_file_name, h5_file_name):\n",
    "    json_file = open(MODEL_LOCATION + json_file_name, 'r')\n",
    "    loaded_from_json = json_file.read()\n",
    "    json_file.close()\n",
    "    model = model_from_json(loaded_from_json)\n",
    "    model.load_weights(MODEL_LOCATION + h5_file_name)\n",
    "    return model\n",
    "    \n",
    "  def save_model_history(self, model_history, file_name):\n",
    "    \"\"\"\n",
    "    Save model history as a pickle file\n",
    "    \"\"\"\n",
    "    with open(file_name, 'wb') as f:\n",
    "      pickle.dump(model_history, f)\n",
    "    \n",
    "  def load_model_history(self, pkl_file_name):\n",
    "    \"\"\"\n",
    "    Load model history pickle file\n",
    "    \"\"\"\n",
    "    with open(MODEL_LOCATION + pkl_file_name, 'rb') as f:\n",
    "      model_history = pickle.load(f)\n",
    "    return model_history"
   ]
  },
  {
   "cell_type": "code",
   "execution_count": 0,
   "metadata": {
    "colab": {},
    "colab_type": "code",
    "id": "SJtL3q-oakWD"
   },
   "outputs": [],
   "source": [
    "class CNN(model_methods):\n",
    "  def __init__(self, loss_fn, optim, ndim, num_classes):\n",
    "    super().__init__(loss_fn, optim, ndim)\n",
    "    self.num_classes = num_classes\n",
    "    self.model = self._build_model()\n",
    "\n",
    "  def _build_model(self):\n",
    "    \"\"\"\n",
    "    Defines and compiles the architecture\n",
    "    Parameters:\n",
    "      :loss_fn:      The loss function used in the model\n",
    "      :optim:        The optimizer used for the model\n",
    "    Returns:\n",
    "      :model:        The compiled model\n",
    "    \"\"\"\n",
    "    model = Sequential()\n",
    "    model.add(Dense(self.ndim*self.ndim,\n",
    "                    activation='relu',\n",
    "                    kernel_initializer='normal'))\n",
    "    model.add(BatchNormalization())\n",
    "    model.add(Dense(100,\n",
    "                    activation='relu',\n",
    "                    kernel_initializer='normal'))\n",
    "    model.add(BatchNormalization())\n",
    "    model.add(Dense(self.num_classes,\n",
    "                    activation='softmax'))\n",
    "    model.compile(loss=self.loss_fn,\n",
    "                  optimizer=self.optim,\n",
    "                  metrics=['accuracy'])\n",
    "    return model\n",
    "\n",
    "  def fit(self, d_train, d_test,\n",
    "          n_epochs=100, batch_size=50, display=25):\n",
    "    \"\"\"\n",
    "    Fit the model\n",
    "    Parameters:\n",
    "      :d_train:    Tuple of (training data, training labels)\n",
    "      :d_test:     Tuple of (testing data, testing labels)\n",
    "      :n_epochs:   Number of epochs for fit\n",
    "      :batch_size: Number of samples per gradient update\n",
    "    Returns:\n",
    "      :model_hist: History object containing all model history info\n",
    "    \"\"\"\n",
    "    data_train, labels_train = d_train\n",
    "    model_hist = self.model.fit(data_train, labels_train,\n",
    "                                validation_data=d_test,\n",
    "                                epochs=n_epochs,\n",
    "                                batch_size=batch_size,\n",
    "                                shuffle=True)\n",
    "    return model_hist"
   ]
  },
  {
   "cell_type": "code",
   "execution_count": 0,
   "metadata": {
    "colab": {
     "base_uri": "https://localhost:8080/",
     "height": 106
    },
    "colab_type": "code",
    "id": "FBcShfsbgV1u",
    "outputId": "67928449-ca68-4212-8b4e-c1675204e302"
   },
   "outputs": [
    {
     "name": "stdout",
     "output_type": "stream",
     "text": [
      "WARNING:tensorflow:From /usr/local/lib/python3.6/dist-packages/keras/backend/tensorflow_backend.py:66: The name tf.get_default_graph is deprecated. Please use tf.compat.v1.get_default_graph instead.\n",
      "\n",
      "WARNING:tensorflow:From /usr/local/lib/python3.6/dist-packages/keras/optimizers.py:793: The name tf.train.Optimizer is deprecated. Please use tf.compat.v1.train.Optimizer instead.\n",
      "\n"
     ]
    }
   ],
   "source": [
    "cnn = CNN('categorical_crossentropy', 'adam', 28, 10)"
   ]
  },
  {
   "cell_type": "code",
   "execution_count": 0,
   "metadata": {
    "colab": {
     "base_uri": "https://localhost:8080/",
     "height": 1000
    },
    "colab_type": "code",
    "id": "nFKD9JeziXIX",
    "outputId": "3a66c8ea-aab8-408a-c3e7-14ed5d876444"
   },
   "outputs": [
    {
     "name": "stdout",
     "output_type": "stream",
     "text": [
      "WARNING:tensorflow:From /usr/local/lib/python3.6/dist-packages/keras/backend/tensorflow_backend.py:541: The name tf.placeholder is deprecated. Please use tf.compat.v1.placeholder instead.\n",
      "\n",
      "WARNING:tensorflow:From /usr/local/lib/python3.6/dist-packages/keras/backend/tensorflow_backend.py:4409: The name tf.random_normal is deprecated. Please use tf.random.normal instead.\n",
      "\n",
      "WARNING:tensorflow:From /usr/local/lib/python3.6/dist-packages/keras/backend/tensorflow_backend.py:148: The name tf.placeholder_with_default is deprecated. Please use tf.compat.v1.placeholder_with_default instead.\n",
      "\n",
      "WARNING:tensorflow:From /usr/local/lib/python3.6/dist-packages/keras/backend/tensorflow_backend.py:4432: The name tf.random_uniform is deprecated. Please use tf.random.uniform instead.\n",
      "\n",
      "WARNING:tensorflow:From /usr/local/lib/python3.6/dist-packages/keras/backend/tensorflow_backend.py:3576: The name tf.log is deprecated. Please use tf.math.log instead.\n",
      "\n",
      "WARNING:tensorflow:From /usr/local/lib/python3.6/dist-packages/tensorflow_core/python/ops/math_grad.py:1424: where (from tensorflow.python.ops.array_ops) is deprecated and will be removed in a future version.\n",
      "Instructions for updating:\n",
      "Use tf.where in 2.0, which has the same broadcast rule as np.where\n",
      "WARNING:tensorflow:From /usr/local/lib/python3.6/dist-packages/keras/backend/tensorflow_backend.py:1033: The name tf.assign_add is deprecated. Please use tf.compat.v1.assign_add instead.\n",
      "\n",
      "WARNING:tensorflow:From /usr/local/lib/python3.6/dist-packages/keras/backend/tensorflow_backend.py:1020: The name tf.assign is deprecated. Please use tf.compat.v1.assign instead.\n",
      "\n",
      "WARNING:tensorflow:From /usr/local/lib/python3.6/dist-packages/keras/backend/tensorflow_backend.py:3005: The name tf.Session is deprecated. Please use tf.compat.v1.Session instead.\n",
      "\n",
      "Train on 60000 samples, validate on 10000 samples\n",
      "Epoch 1/50\n",
      "WARNING:tensorflow:From /usr/local/lib/python3.6/dist-packages/keras/backend/tensorflow_backend.py:190: The name tf.get_default_session is deprecated. Please use tf.compat.v1.get_default_session instead.\n",
      "\n",
      "WARNING:tensorflow:From /usr/local/lib/python3.6/dist-packages/keras/backend/tensorflow_backend.py:197: The name tf.ConfigProto is deprecated. Please use tf.compat.v1.ConfigProto instead.\n",
      "\n",
      "WARNING:tensorflow:From /usr/local/lib/python3.6/dist-packages/keras/backend/tensorflow_backend.py:207: The name tf.global_variables is deprecated. Please use tf.compat.v1.global_variables instead.\n",
      "\n",
      "WARNING:tensorflow:From /usr/local/lib/python3.6/dist-packages/keras/backend/tensorflow_backend.py:216: The name tf.is_variable_initialized is deprecated. Please use tf.compat.v1.is_variable_initialized instead.\n",
      "\n",
      "WARNING:tensorflow:From /usr/local/lib/python3.6/dist-packages/keras/backend/tensorflow_backend.py:223: The name tf.variables_initializer is deprecated. Please use tf.compat.v1.variables_initializer instead.\n",
      "\n",
      "60000/60000 [==============================] - 7s 119us/step - loss: 0.1955 - acc: 0.9426 - val_loss: 0.1049 - val_acc: 0.9679\n",
      "Epoch 2/50\n",
      "60000/60000 [==============================] - 2s 34us/step - loss: 0.0628 - acc: 0.9819 - val_loss: 0.0729 - val_acc: 0.9761\n",
      "Epoch 3/50\n",
      "60000/60000 [==============================] - 2s 35us/step - loss: 0.0347 - acc: 0.9903 - val_loss: 0.0790 - val_acc: 0.9761\n",
      "Epoch 4/50\n",
      "60000/60000 [==============================] - 2s 34us/step - loss: 0.0247 - acc: 0.9929 - val_loss: 0.0863 - val_acc: 0.9739\n",
      "Epoch 5/50\n",
      "60000/60000 [==============================] - 2s 35us/step - loss: 0.0166 - acc: 0.9952 - val_loss: 0.0629 - val_acc: 0.9808\n",
      "Epoch 6/50\n",
      "60000/60000 [==============================] - 2s 34us/step - loss: 0.0107 - acc: 0.9975 - val_loss: 0.0700 - val_acc: 0.9800\n",
      "Epoch 7/50\n",
      "60000/60000 [==============================] - 2s 35us/step - loss: 0.0106 - acc: 0.9969 - val_loss: 0.0792 - val_acc: 0.9795\n",
      "Epoch 8/50\n",
      "60000/60000 [==============================] - 2s 34us/step - loss: 0.0119 - acc: 0.9964 - val_loss: 0.0881 - val_acc: 0.9735\n",
      "Epoch 9/50\n",
      "60000/60000 [==============================] - 2s 34us/step - loss: 0.0126 - acc: 0.9961 - val_loss: 0.0952 - val_acc: 0.9742\n",
      "Epoch 10/50\n",
      "60000/60000 [==============================] - 2s 34us/step - loss: 0.0114 - acc: 0.9967 - val_loss: 0.0691 - val_acc: 0.9795\n",
      "Epoch 11/50\n",
      "60000/60000 [==============================] - 2s 34us/step - loss: 0.0071 - acc: 0.9981 - val_loss: 0.0791 - val_acc: 0.9789\n",
      "Epoch 12/50\n",
      "60000/60000 [==============================] - 2s 34us/step - loss: 0.0046 - acc: 0.9988 - val_loss: 0.0689 - val_acc: 0.9815\n",
      "Epoch 13/50\n",
      "60000/60000 [==============================] - 2s 34us/step - loss: 0.0058 - acc: 0.9983 - val_loss: 0.0880 - val_acc: 0.9788\n",
      "Epoch 14/50\n",
      "60000/60000 [==============================] - 2s 34us/step - loss: 0.0092 - acc: 0.9971 - val_loss: 0.0812 - val_acc: 0.9789\n",
      "Epoch 15/50\n",
      "60000/60000 [==============================] - 2s 34us/step - loss: 0.0103 - acc: 0.9968 - val_loss: 0.0835 - val_acc: 0.9789\n",
      "Epoch 16/50\n",
      "60000/60000 [==============================] - 2s 35us/step - loss: 0.0070 - acc: 0.9978 - val_loss: 0.0753 - val_acc: 0.9795\n",
      "Epoch 17/50\n",
      "60000/60000 [==============================] - 2s 34us/step - loss: 0.0057 - acc: 0.9984 - val_loss: 0.0794 - val_acc: 0.9803\n",
      "Epoch 18/50\n",
      "60000/60000 [==============================] - 2s 34us/step - loss: 0.0055 - acc: 0.9984 - val_loss: 0.0972 - val_acc: 0.9781\n",
      "Epoch 19/50\n",
      "60000/60000 [==============================] - 2s 34us/step - loss: 0.0074 - acc: 0.9976 - val_loss: 0.0844 - val_acc: 0.9795\n",
      "Epoch 20/50\n",
      "60000/60000 [==============================] - 2s 34us/step - loss: 0.0057 - acc: 0.9983 - val_loss: 0.0721 - val_acc: 0.9826\n",
      "Epoch 21/50\n",
      "60000/60000 [==============================] - 2s 35us/step - loss: 0.0029 - acc: 0.9991 - val_loss: 0.0840 - val_acc: 0.9807\n",
      "Epoch 22/50\n",
      "60000/60000 [==============================] - 2s 34us/step - loss: 0.0020 - acc: 0.9996 - val_loss: 0.0831 - val_acc: 0.9801\n",
      "Epoch 23/50\n",
      "60000/60000 [==============================] - 2s 35us/step - loss: 0.0041 - acc: 0.9987 - val_loss: 0.0778 - val_acc: 0.9815\n",
      "Epoch 24/50\n",
      "60000/60000 [==============================] - 2s 34us/step - loss: 0.0077 - acc: 0.9975 - val_loss: 0.0890 - val_acc: 0.9810\n",
      "Epoch 25/50\n",
      "60000/60000 [==============================] - 2s 34us/step - loss: 0.0087 - acc: 0.9972 - val_loss: 0.0837 - val_acc: 0.9807\n",
      "Epoch 26/50\n",
      "60000/60000 [==============================] - 2s 34us/step - loss: 0.0052 - acc: 0.9983 - val_loss: 0.0874 - val_acc: 0.9811\n",
      "Epoch 27/50\n",
      "60000/60000 [==============================] - 2s 34us/step - loss: 0.0044 - acc: 0.9984 - val_loss: 0.0847 - val_acc: 0.9808\n",
      "Epoch 28/50\n",
      "60000/60000 [==============================] - 2s 34us/step - loss: 0.0033 - acc: 0.9989 - val_loss: 0.0776 - val_acc: 0.9832\n",
      "Epoch 29/50\n",
      "60000/60000 [==============================] - 2s 35us/step - loss: 0.0024 - acc: 0.9993 - val_loss: 0.0844 - val_acc: 0.9818\n",
      "Epoch 30/50\n",
      "60000/60000 [==============================] - 2s 35us/step - loss: 0.0031 - acc: 0.9992 - val_loss: 0.0749 - val_acc: 0.9837\n",
      "Epoch 31/50\n",
      "60000/60000 [==============================] - 2s 35us/step - loss: 0.0015 - acc: 0.9996 - val_loss: 0.0798 - val_acc: 0.9840\n",
      "Epoch 32/50\n",
      "60000/60000 [==============================] - 2s 35us/step - loss: 0.0021 - acc: 0.9994 - val_loss: 0.0849 - val_acc: 0.9833\n",
      "Epoch 33/50\n",
      "60000/60000 [==============================] - 2s 35us/step - loss: 0.0029 - acc: 0.9992 - val_loss: 0.0932 - val_acc: 0.9801\n",
      "Epoch 34/50\n",
      "60000/60000 [==============================] - 2s 35us/step - loss: 0.0075 - acc: 0.9974 - val_loss: 0.1185 - val_acc: 0.9765\n",
      "Epoch 35/50\n",
      "60000/60000 [==============================] - 2s 35us/step - loss: 0.0076 - acc: 0.9976 - val_loss: 0.0923 - val_acc: 0.9815\n",
      "Epoch 36/50\n",
      "60000/60000 [==============================] - 2s 35us/step - loss: 0.0044 - acc: 0.9987 - val_loss: 0.0736 - val_acc: 0.9846\n",
      "Epoch 37/50\n",
      "60000/60000 [==============================] - 2s 35us/step - loss: 0.0026 - acc: 0.9993 - val_loss: 0.0739 - val_acc: 0.9849\n",
      "Epoch 38/50\n",
      "60000/60000 [==============================] - 2s 35us/step - loss: 0.0016 - acc: 0.9996 - val_loss: 0.0749 - val_acc: 0.9855\n",
      "Epoch 39/50\n",
      "60000/60000 [==============================] - 2s 35us/step - loss: 0.0010 - acc: 0.9997 - val_loss: 0.0832 - val_acc: 0.9828\n",
      "Epoch 40/50\n",
      "60000/60000 [==============================] - 2s 35us/step - loss: 0.0019 - acc: 0.9996 - val_loss: 0.0719 - val_acc: 0.9849\n",
      "Epoch 41/50\n",
      "60000/60000 [==============================] - 2s 35us/step - loss: 0.0018 - acc: 0.9996 - val_loss: 0.0827 - val_acc: 0.9828\n",
      "Epoch 42/50\n",
      "60000/60000 [==============================] - 2s 35us/step - loss: 0.0027 - acc: 0.9991 - val_loss: 0.0890 - val_acc: 0.9814\n",
      "Epoch 43/50\n",
      "60000/60000 [==============================] - 2s 35us/step - loss: 0.0041 - acc: 0.9987 - val_loss: 0.0884 - val_acc: 0.9821\n",
      "Epoch 44/50\n",
      "60000/60000 [==============================] - 2s 35us/step - loss: 0.0050 - acc: 0.9983 - val_loss: 0.0821 - val_acc: 0.9814\n",
      "Epoch 45/50\n",
      "60000/60000 [==============================] - 2s 35us/step - loss: 0.0031 - acc: 0.9992 - val_loss: 0.0759 - val_acc: 0.9842\n",
      "Epoch 46/50\n",
      "60000/60000 [==============================] - 2s 35us/step - loss: 0.0024 - acc: 0.9992 - val_loss: 0.0750 - val_acc: 0.9846\n",
      "Epoch 47/50\n",
      "60000/60000 [==============================] - 2s 35us/step - loss: 0.0018 - acc: 0.9994 - val_loss: 0.0711 - val_acc: 0.9849\n",
      "Epoch 48/50\n",
      "60000/60000 [==============================] - 2s 34us/step - loss: 7.9007e-04 - acc: 0.9998 - val_loss: 0.0778 - val_acc: 0.9842\n",
      "Epoch 49/50\n",
      "60000/60000 [==============================] - 2s 34us/step - loss: 6.2259e-04 - acc: 0.9999 - val_loss: 0.0703 - val_acc: 0.9855\n",
      "Epoch 50/50\n",
      "60000/60000 [==============================] - 2s 35us/step - loss: 0.0012 - acc: 0.9996 - val_loss: 0.0865 - val_acc: 0.9841\n"
     ]
    }
   ],
   "source": [
    "cnn_hist = cnn.fit((data_train, labels_train),\n",
    "                    (data_test, labels_test),\n",
    "                    n_epochs=50,\n",
    "                    batch_size=256)"
   ]
  },
  {
   "cell_type": "code",
   "execution_count": 0,
   "metadata": {
    "colab": {},
    "colab_type": "code",
    "id": "b8a4t8GCioGC"
   },
   "outputs": [],
   "source": [
    "cnn.save_model_weights(\"p4_model_weights.h5\")\n",
    "cnn.save_model(\"p4_model.json\")\n",
    "cnn.save_model_history(cnn_hist, \"p4_model_history.pkl\")\n",
    "cnn.model.save(\"p4_full_model.h5\")"
   ]
  },
  {
   "cell_type": "code",
   "execution_count": 0,
   "metadata": {
    "colab": {},
    "colab_type": "code",
    "id": "yMx9CQWfj7GA"
   },
   "outputs": [],
   "source": [
    "! cp -r p4_full_model.h5 p4_model.json p4_model_weights.h5 p4_model_history.pkl ./gdrive/My\\ Drive/ece595_ml2/models/"
   ]
  },
  {
   "cell_type": "code",
   "execution_count": 0,
   "metadata": {
    "colab": {},
    "colab_type": "code",
    "id": "lA8xOLuWmWB6"
   },
   "outputs": [],
   "source": [
    "cnn_model = cnn.load_model(\"p4_model.json\", \"p4_model_weights.h5\")"
   ]
  },
  {
   "cell_type": "code",
   "execution_count": 0,
   "metadata": {
    "colab": {},
    "colab_type": "code",
    "id": "6fAw6SN5mYLB"
   },
   "outputs": [],
   "source": [
    "cnn_reconstructions = cnn_model.predict(data_test)"
   ]
  },
  {
   "cell_type": "code",
   "execution_count": 0,
   "metadata": {
    "colab": {},
    "colab_type": "code",
    "id": "TrTJYcjboUpj"
   },
   "outputs": [],
   "source": [
    "def plot(hist, param):\n",
    "  plt.plot(hist.history[param])\n",
    "  plt.plot(hist.history['val_' + param])\n",
    "  plt.legend([param, 'val-' + param], loc='upper right')\n",
    "  plt.xlabel(\"epochs\")\n",
    "  if param == 'acc':\n",
    "    plt.ylabel(r\"Accuracy (%)\")\n",
    "  elif param == 'loss':\n",
    "    plt.ylabel(r\"Loss\")\n",
    "  plt.tight_layout()\n",
    "  plt.show()"
   ]
  },
  {
   "cell_type": "code",
   "execution_count": 0,
   "metadata": {
    "colab": {
     "base_uri": "https://localhost:8080/",
     "height": 577
    },
    "colab_type": "code",
    "id": "Se1pWC7WqLFI",
    "outputId": "cda11ad2-72af-41e6-d0af-61f851ee1e09"
   },
   "outputs": [
    {
     "data": {
      "image/png": "[encoded data removed]",
      "text/plain": [
       "<Figure size 432x288 with 1 Axes>"
      ]
     },
     "metadata": {
      "tags": []
     },
     "output_type": "display_data"
    },
    {
     "data": {
      "image/png": "[encoded data removed]",
      "text/plain": [
       "<Figure size 432x288 with 1 Axes>"
      ]
     },
     "metadata": {
      "tags": []
     },
     "output_type": "display_data"
    }
   ],
   "source": [
    "plot(cnn_hist, 'loss')\n",
    "plot(cnn_hist, 'acc')"
   ]
  },
  {
   "cell_type": "code",
   "execution_count": 0,
   "metadata": {
    "colab": {
     "base_uri": "https://localhost:8080/",
     "height": 52
    },
    "colab_type": "code",
    "id": "OU_SzvyKud-e",
    "outputId": "d8cc9fe3-76e6-4561-bb96-bee9b15a35e1"
   },
   "outputs": [
    {
     "name": "stdout",
     "output_type": "stream",
     "text": [
      "10000/10000 [==============================] - 1s 63us/step\n",
      "Accuracy: 98.41%\n"
     ]
    }
   ],
   "source": [
    "scores = cnn.model.evaluate(data_test, labels_test)\n",
    "print(\"Accuracy: %.2f%%\"%(scores[1]*100))"
   ]
  },
  {
   "cell_type": "code",
   "execution_count": 8,
   "metadata": {
    "colab": {
     "base_uri": "https://localhost:8080/",
     "height": 610
    },
    "colab_type": "code",
    "id": "YEcrqpjas3Xh",
    "outputId": "3b9d958f-1c80-453c-d34c-aeaf044ffac4"
   },
   "outputs": [
    {
     "name": "stdout",
     "output_type": "stream",
     "text": [
      "WARNING:tensorflow:From /usr/local/lib/python3.6/dist-packages/keras/backend/tensorflow_backend.py:541: The name tf.placeholder is deprecated. Please use tf.compat.v1.placeholder instead.\n",
      "\n",
      "WARNING:tensorflow:From /usr/local/lib/python3.6/dist-packages/keras/backend/tensorflow_backend.py:4409: The name tf.random_normal is deprecated. Please use tf.random.normal instead.\n",
      "\n",
      "WARNING:tensorflow:From /usr/local/lib/python3.6/dist-packages/keras/backend/tensorflow_backend.py:66: The name tf.get_default_graph is deprecated. Please use tf.compat.v1.get_default_graph instead.\n",
      "\n",
      "WARNING:tensorflow:From /usr/local/lib/python3.6/dist-packages/keras/backend/tensorflow_backend.py:148: The name tf.placeholder_with_default is deprecated. Please use tf.compat.v1.placeholder_with_default instead.\n",
      "\n",
      "WARNING:tensorflow:From /usr/local/lib/python3.6/dist-packages/keras/backend/tensorflow_backend.py:4432: The name tf.random_uniform is deprecated. Please use tf.random.uniform instead.\n",
      "\n",
      "WARNING:tensorflow:From /usr/local/lib/python3.6/dist-packages/keras/backend/tensorflow_backend.py:190: The name tf.get_default_session is deprecated. Please use tf.compat.v1.get_default_session instead.\n",
      "\n",
      "WARNING:tensorflow:From /usr/local/lib/python3.6/dist-packages/keras/backend/tensorflow_backend.py:197: The name tf.ConfigProto is deprecated. Please use tf.compat.v1.ConfigProto instead.\n",
      "\n",
      "WARNING:tensorflow:From /usr/local/lib/python3.6/dist-packages/keras/backend/tensorflow_backend.py:203: The name tf.Session is deprecated. Please use tf.compat.v1.Session instead.\n",
      "\n",
      "WARNING:tensorflow:From /usr/local/lib/python3.6/dist-packages/keras/backend/tensorflow_backend.py:207: The name tf.global_variables is deprecated. Please use tf.compat.v1.global_variables instead.\n",
      "\n",
      "WARNING:tensorflow:From /usr/local/lib/python3.6/dist-packages/keras/backend/tensorflow_backend.py:216: The name tf.is_variable_initialized is deprecated. Please use tf.compat.v1.is_variable_initialized instead.\n",
      "\n",
      "WARNING:tensorflow:From /usr/local/lib/python3.6/dist-packages/keras/backend/tensorflow_backend.py:223: The name tf.variables_initializer is deprecated. Please use tf.compat.v1.variables_initializer instead.\n",
      "\n",
      "WARNING:tensorflow:From /usr/local/lib/python3.6/dist-packages/keras/optimizers.py:793: The name tf.train.Optimizer is deprecated. Please use tf.compat.v1.train.Optimizer instead.\n",
      "\n",
      "WARNING:tensorflow:From /usr/local/lib/python3.6/dist-packages/keras/backend/tensorflow_backend.py:3576: The name tf.log is deprecated. Please use tf.math.log instead.\n",
      "\n",
      "WARNING:tensorflow:From /usr/local/lib/python3.6/dist-packages/tensorflow_core/python/ops/math_grad.py:1424: where (from tensorflow.python.ops.array_ops) is deprecated and will be removed in a future version.\n",
      "Instructions for updating:\n",
      "Use tf.where in 2.0, which has the same broadcast rule as np.where\n",
      "WARNING:tensorflow:From /usr/local/lib/python3.6/dist-packages/keras/backend/tensorflow_backend.py:1033: The name tf.assign_add is deprecated. Please use tf.compat.v1.assign_add instead.\n",
      "\n",
      "WARNING:tensorflow:From /usr/local/lib/python3.6/dist-packages/keras/backend/tensorflow_backend.py:1020: The name tf.assign is deprecated. Please use tf.compat.v1.assign instead.\n",
      "\n"
     ]
    }
   ],
   "source": [
    "# Import pre-trained classifier\n",
    "#mnist_classifier = cnn.load_model(\"p4_model.json\", \"p4_model_weights.h5\")\n",
    "mnist_classifier = load_model(MODEL_LOCATION + \"p4_full_model.h5\")"
   ]
  },
  {
   "cell_type": "code",
   "execution_count": 0,
   "metadata": {
    "colab": {},
    "colab_type": "code",
    "id": "Owj84XG0vQsG"
   },
   "outputs": [],
   "source": [
    "#Get TensorFlow Session to pass into Cleverhans modules\n",
    "sess = backend.get_session()"
   ]
  },
  {
   "cell_type": "code",
   "execution_count": 0,
   "metadata": {
    "colab": {},
    "colab_type": "code",
    "id": "DEsgSXkfvQ-D"
   },
   "outputs": [],
   "source": [
    "#Create wrapper for classifier model so that it can be passed into Cleverhans modules\n",
    "wrap = KerasModelWrapper(mnist_classifier)"
   ]
  },
  {
   "cell_type": "markdown",
   "metadata": {
    "colab_type": "text",
    "id": "8_Ehc7tas5YS"
   },
   "source": [
    "# Part 2: The Fast Gradient Method (FGM)"
   ]
  },
  {
   "cell_type": "code",
   "execution_count": 0,
   "metadata": {
    "colab": {},
    "colab_type": "code",
    "id": "GA5T9mkws9vJ"
   },
   "outputs": [],
   "source": [
    "#Implementing the FGSM attack\n",
    "\n",
    "#FGM Instance on trained classifier from Part 1\n",
    "fgm = FastGradientMethod(wrap, sess=sess)"
   ]
  },
  {
   "cell_type": "code",
   "execution_count": 0,
   "metadata": {
    "colab": {},
    "colab_type": "code",
    "id": "t6wU9Pc3eTdt"
   },
   "outputs": [],
   "source": [
    "#Attack parameters\n",
    "fgm_params = {'eps': 0.25,\n",
    "              'clip_min': 0.,\n",
    "              'clip_max': 1.}"
   ]
  },
  {
   "cell_type": "code",
   "execution_count": 36,
   "metadata": {
    "colab": {
     "base_uri": "https://localhost:8080/",
     "height": 228
    },
    "colab_type": "code",
    "id": "y_2lG_c-eUYO",
    "outputId": "cebb9057-46d7-4bcb-91d1-8cd1cc4b9d93"
   },
   "outputs": [
    {
     "name": "stdout",
     "output_type": "stream",
     "text": [
      "WARNING:tensorflow:From /usr/local/lib/python3.6/dist-packages/cleverhans/attacks_tf.py:62: calling reduce_sum_v1 (from tensorflow.python.ops.math_ops) with keep_dims is deprecated and will be removed in a future version.\n",
      "Instructions for updating:\n",
      "keep_dims is deprecated, use keepdims instead\n",
      "WARNING:tensorflow:From /usr/local/lib/python3.6/dist-packages/cleverhans/utils_tf.py:37: softmax_cross_entropy_with_logits (from tensorflow.python.ops.nn_ops) is deprecated and will be removed in a future version.\n",
      "Instructions for updating:\n",
      "\n",
      "Future major versions of TensorFlow will allow gradients to flow\n",
      "into the labels input on backprop by default.\n",
      "\n",
      "See `tf.nn.softmax_cross_entropy_with_logits_v2`.\n",
      "\n"
     ]
    }
   ],
   "source": [
    "#Generate adversarial data\n",
    "fgm_attack_data = fgm.generate_np(data_test, **fgm_params)"
   ]
  },
  {
   "cell_type": "code",
   "execution_count": 38,
   "metadata": {
    "colab": {
     "base_uri": "https://localhost:8080/",
     "height": 52
    },
    "colab_type": "code",
    "id": "T1gWZvgBeVE1",
    "outputId": "291567f0-a0ba-44d0-89de-08c0c40c88f4"
   },
   "outputs": [
    {
     "name": "stdout",
     "output_type": "stream",
     "text": [
      "10000/10000 [==============================] - 1s 82us/step\n",
      "Accuracy: 11.81%\n"
     ]
    }
   ],
   "source": [
    "#Evaluate accuracy on target classifier \n",
    "fgm_adv_scores = mnist_classifier.evaluate(fgm_attack_data, labels_test)\n",
    "print(\"Accuracy: %.2f%%\"%(fgm_adv_scores[1]*100))"
   ]
  },
  {
   "cell_type": "code",
   "execution_count": 39,
   "metadata": {
    "colab": {
     "base_uri": "https://localhost:8080/",
     "height": 729
    },
    "colab_type": "code",
    "id": "wE_rdYIrDeNZ",
    "outputId": "63771db5-f058-4afb-cd88-459b53c38ff3"
   },
   "outputs": [
    {
     "data": {
      "image/png": "[encoded data removed]",
      "text/plain": [
       "<Figure size 720x720 with 20 Axes>"
      ]
     },
     "metadata": {
      "tags": []
     },
     "output_type": "display_data"
    }
   ],
   "source": [
    "#Show ten original samples and their corresponding adversarial samples\n",
    "data_test_show = data_test.reshape(-1, 28, 28)\n",
    "fgm_attack_data_show = fgm_attack_data.reshape(-1, 28, 28)\n",
    "cols = [' Original Samples',\n",
    "         ' FGM Adversarial Samples']\n",
    "fig, axes = plt.subplots(nrows=10, ncols=2, figsize=(10, 10))\n",
    "for i in range(10):\n",
    "  axes[i, 0].imshow(data_test_show[i,:,:], \n",
    "                   cmap=plt.cm.gray)\n",
    "  axes[i, 1].imshow(fgm_attack_data_show[i,:,:],\n",
    "                    cmap=plt.cm.gray)\n",
    "  for ax, col in zip(axes[0], cols):\n",
    "    ax.set_title(col)\n",
    "  for j in range(2):\n",
    "    axes[i, j].get_xaxis().set_visible(False)\n",
    "    axes[i, j].get_yaxis().set_visible(False)\n",
    "fig.tight_layout()\n",
    "plt.show()"
   ]
  },
  {
   "cell_type": "code",
   "execution_count": 0,
   "metadata": {
    "colab": {},
    "colab_type": "code",
    "id": "9PSg4U_E_y_C"
   },
   "outputs": [],
   "source": [
    "# Load data MNIST data and normalize to [0, 1]\n",
    "(data_train, labels_train), (data_test, labels_test) = mnist.load_data()\n",
    "data_train = data_train / 255.\n",
    "data_test = data_test / 255.\n",
    "#Reshape training and testing data into 784-dimensional vectors \n",
    "data_train = data_train.reshape(-1, 784)\n",
    "data_test = data_test.reshape(-1, 784)\n",
    "#Convert integer labels for training and testing data into one-hot vectors \n",
    "labels_train = keras.utils.np_utils.to_categorical(labels_train, num_classes=10)\n",
    "labels_test = keras.utils.np_utils.to_categorical(labels_test, num_classes=10)"
   ]
  },
  {
   "cell_type": "code",
   "execution_count": 0,
   "metadata": {
    "colab": {},
    "colab_type": "code",
    "id": "qurgywiaJe-I"
   },
   "outputs": [],
   "source": [
    "def autoencoder():\n",
    "    ae = Sequential()\n",
    "    ae.add(Dense(400, activation='relu', kernel_initializer=\"normal\", input_dim=784))\n",
    "    ae.add(Dense(200, activation='relu', kernel_initializer='normal'))\n",
    "    ae.add(Dense(100, activation='relu', kernel_initializer='normal'))\n",
    "    ae.add(Dense(200, activation='relu', kernel_initializer='normal'))\n",
    "    ae.add(Dense(400, activation='relu', kernel_initializer='normal'))\n",
    "    ae.add(Dense(784, activation='sigmoid', kernel_initializer='normal'))\n",
    "    return ae"
   ]
  },
  {
   "cell_type": "code",
   "execution_count": 0,
   "metadata": {
    "colab": {},
    "colab_type": "code",
    "id": "icV-UT2N-6W8"
   },
   "outputs": [],
   "source": [
    "#Using the autoencoder for detection and to determine a threshold \n",
    "ae_model = autoencoder()\n",
    "ae_model.compile(loss='mse',\n",
    "                         optimizer='adam')"
   ]
  },
  {
   "cell_type": "code",
   "execution_count": 43,
   "metadata": {
    "colab": {
     "base_uri": "https://localhost:8080/",
     "height": 1000
    },
    "colab_type": "code",
    "id": "MmBne3VNA3Zb",
    "outputId": "c8aa6e89-bd64-4d9e-8f49-355452ce5258"
   },
   "outputs": [
    {
     "name": "stdout",
     "output_type": "stream",
     "text": [
      "Train on 60000 samples, validate on 10000 samples\n",
      "Epoch 1/50\n",
      "60000/60000 [==============================] - 2s 41us/step - loss: 0.0542 - val_loss: 0.0260\n",
      "Epoch 2/50\n",
      "60000/60000 [==============================] - 1s 24us/step - loss: 0.0213 - val_loss: 0.0173\n",
      "Epoch 3/50\n",
      "60000/60000 [==============================] - 1s 25us/step - loss: 0.0158 - val_loss: 0.0135\n",
      "Epoch 4/50\n",
      "60000/60000 [==============================] - 2s 25us/step - loss: 0.0129 - val_loss: 0.0117\n",
      "Epoch 5/50\n",
      "60000/60000 [==============================] - 1s 24us/step - loss: 0.0112 - val_loss: 0.0107\n",
      "Epoch 6/50\n",
      "60000/60000 [==============================] - 1s 23us/step - loss: 0.0100 - val_loss: 0.0095\n",
      "Epoch 7/50\n",
      "60000/60000 [==============================] - 1s 24us/step - loss: 0.0092 - val_loss: 0.0088\n",
      "Epoch 8/50\n",
      "60000/60000 [==============================] - 2s 25us/step - loss: 0.0086 - val_loss: 0.0083\n",
      "Epoch 9/50\n",
      "60000/60000 [==============================] - 1s 24us/step - loss: 0.0081 - val_loss: 0.0078\n",
      "Epoch 10/50\n",
      "60000/60000 [==============================] - 1s 24us/step - loss: 0.0076 - val_loss: 0.0074\n",
      "Epoch 11/50\n",
      "60000/60000 [==============================] - 1s 24us/step - loss: 0.0072 - val_loss: 0.0068\n",
      "Epoch 12/50\n",
      "60000/60000 [==============================] - 1s 24us/step - loss: 0.0069 - val_loss: 0.0066\n",
      "Epoch 13/50\n",
      "60000/60000 [==============================] - 2s 25us/step - loss: 0.0066 - val_loss: 0.0064\n",
      "Epoch 14/50\n",
      "60000/60000 [==============================] - 1s 24us/step - loss: 0.0063 - val_loss: 0.0061\n",
      "Epoch 15/50\n",
      "60000/60000 [==============================] - 1s 24us/step - loss: 0.0061 - val_loss: 0.0060\n",
      "Epoch 16/50\n",
      "60000/60000 [==============================] - 1s 24us/step - loss: 0.0058 - val_loss: 0.0056\n",
      "Epoch 17/50\n",
      "60000/60000 [==============================] - 1s 24us/step - loss: 0.0056 - val_loss: 0.0055\n",
      "Epoch 18/50\n",
      "60000/60000 [==============================] - 1s 24us/step - loss: 0.0054 - val_loss: 0.0053\n",
      "Epoch 19/50\n",
      "60000/60000 [==============================] - 1s 23us/step - loss: 0.0053 - val_loss: 0.0053\n",
      "Epoch 20/50\n",
      "60000/60000 [==============================] - 1s 24us/step - loss: 0.0052 - val_loss: 0.0052\n",
      "Epoch 21/50\n",
      "60000/60000 [==============================] - 1s 24us/step - loss: 0.0050 - val_loss: 0.0049\n",
      "Epoch 22/50\n",
      "60000/60000 [==============================] - 1s 24us/step - loss: 0.0049 - val_loss: 0.0048\n",
      "Epoch 23/50\n",
      "60000/60000 [==============================] - 1s 24us/step - loss: 0.0048 - val_loss: 0.0047\n",
      "Epoch 24/50\n",
      "60000/60000 [==============================] - 1s 24us/step - loss: 0.0047 - val_loss: 0.0047\n",
      "Epoch 25/50\n",
      "60000/60000 [==============================] - 1s 24us/step - loss: 0.0046 - val_loss: 0.0048\n",
      "Epoch 26/50\n",
      "60000/60000 [==============================] - 1s 24us/step - loss: 0.0045 - val_loss: 0.0045\n",
      "Epoch 27/50\n",
      "60000/60000 [==============================] - 1s 23us/step - loss: 0.0044 - val_loss: 0.0044\n",
      "Epoch 28/50\n",
      "60000/60000 [==============================] - 1s 24us/step - loss: 0.0044 - val_loss: 0.0044\n",
      "Epoch 29/50\n",
      "60000/60000 [==============================] - 1s 23us/step - loss: 0.0043 - val_loss: 0.0045\n",
      "Epoch 30/50\n",
      "60000/60000 [==============================] - 1s 24us/step - loss: 0.0042 - val_loss: 0.0042\n",
      "Epoch 31/50\n",
      "60000/60000 [==============================] - 1s 24us/step - loss: 0.0042 - val_loss: 0.0042\n",
      "Epoch 32/50\n",
      "60000/60000 [==============================] - 1s 25us/step - loss: 0.0041 - val_loss: 0.0041\n",
      "Epoch 33/50\n",
      "60000/60000 [==============================] - 1s 25us/step - loss: 0.0040 - val_loss: 0.0040\n",
      "Epoch 34/50\n",
      "60000/60000 [==============================] - 1s 24us/step - loss: 0.0040 - val_loss: 0.0041\n",
      "Epoch 35/50\n",
      "60000/60000 [==============================] - 1s 24us/step - loss: 0.0039 - val_loss: 0.0040\n",
      "Epoch 36/50\n",
      "60000/60000 [==============================] - 1s 23us/step - loss: 0.0039 - val_loss: 0.0041\n",
      "Epoch 37/50\n",
      "60000/60000 [==============================] - 1s 24us/step - loss: 0.0038 - val_loss: 0.0040\n",
      "Epoch 38/50\n",
      "60000/60000 [==============================] - 1s 23us/step - loss: 0.0038 - val_loss: 0.0039\n",
      "Epoch 39/50\n",
      "60000/60000 [==============================] - 1s 23us/step - loss: 0.0038 - val_loss: 0.0038\n",
      "Epoch 40/50\n",
      "60000/60000 [==============================] - 1s 23us/step - loss: 0.0037 - val_loss: 0.0038\n",
      "Epoch 41/50\n",
      "60000/60000 [==============================] - 1s 23us/step - loss: 0.0037 - val_loss: 0.0037\n",
      "Epoch 42/50\n",
      "60000/60000 [==============================] - 1s 23us/step - loss: 0.0036 - val_loss: 0.0038\n",
      "Epoch 43/50\n",
      "60000/60000 [==============================] - 1s 23us/step - loss: 0.0036 - val_loss: 0.0037\n",
      "Epoch 44/50\n",
      "60000/60000 [==============================] - 1s 24us/step - loss: 0.0035 - val_loss: 0.0036\n",
      "Epoch 45/50\n",
      "60000/60000 [==============================] - 1s 23us/step - loss: 0.0035 - val_loss: 0.0036\n",
      "Epoch 46/50\n",
      "60000/60000 [==============================] - 1s 24us/step - loss: 0.0034 - val_loss: 0.0034\n",
      "Epoch 47/50\n",
      "60000/60000 [==============================] - 1s 23us/step - loss: 0.0034 - val_loss: 0.0036\n",
      "Epoch 48/50\n",
      "60000/60000 [==============================] - 1s 23us/step - loss: 0.0034 - val_loss: 0.0036\n",
      "Epoch 49/50\n",
      "60000/60000 [==============================] - 1s 24us/step - loss: 0.0033 - val_loss: 0.0035\n",
      "Epoch 50/50\n",
      "60000/60000 [==============================] - 1s 23us/step - loss: 0.0033 - val_loss: 0.0035\n"
     ]
    }
   ],
   "source": [
    "#Create and train the autoencoder using the mean squared error loss and adam optimizer\n",
    "ae_model_history = ae_model.fit(data_train, data_train,\n",
    "                                validation_data=(data_test, data_test),\n",
    "                                epochs=50,\n",
    "                                batch_size=256,\n",
    "                                shuffle=True)"
   ]
  },
  {
   "cell_type": "code",
   "execution_count": 0,
   "metadata": {
    "colab": {},
    "colab_type": "code",
    "id": "psraNQIVGLkg"
   },
   "outputs": [],
   "source": [
    "# Create adversarial examples using FGSM on training data\n",
    "fgm_attack_data = fgm.generate_np(data_train, **fgm_params)"
   ]
  },
  {
   "cell_type": "code",
   "execution_count": 0,
   "metadata": {
    "colab": {},
    "colab_type": "code",
    "id": "Q9UVlateGYca"
   },
   "outputs": [],
   "source": [
    "# Obtain reconstruction errors on training set and determine a threshold \n",
    "reconstructions = ae_model.predict(fgm_attack_data)"
   ]
  },
  {
   "cell_type": "code",
   "execution_count": 0,
   "metadata": {
    "colab": {},
    "colab_type": "code",
    "id": "eqfKnzv5-5R5"
   },
   "outputs": [],
   "source": [
    "# Convert error tensor into NumPy array \n",
    "error = keras.losses.mean_squared_error(fgm_attack_data, reconstructions)\n",
    "error = error.eval(session=sess)"
   ]
  },
  {
   "cell_type": "code",
   "execution_count": 47,
   "metadata": {
    "colab": {
     "base_uri": "https://localhost:8080/",
     "height": 34
    },
    "colab_type": "code",
    "id": "W5rwZzKZHQ0V",
    "outputId": "236fb779-21cb-4011-8a6e-8c118fb55f4c"
   },
   "outputs": [
    {
     "name": "stdout",
     "output_type": "stream",
     "text": [
      "The threshold error is: 0.019591733813285828\n"
     ]
    }
   ],
   "source": [
    "# Determine threshold (based on min in this case) and print it \n",
    "threshold = min(error)\n",
    "print(\"The threshold error is: {}\".format(threshold))"
   ]
  },
  {
   "cell_type": "code",
   "execution_count": 0,
   "metadata": {
    "colab": {},
    "colab_type": "code",
    "id": "UGQntMazHm89"
   },
   "outputs": [],
   "source": [
    "# Calculate error of adversarial testing set\n",
    "fgm_test_attack_data = fgm.generate_np(data_test, **fgm_params)\n",
    "reconstructions_test = ae_model.predict(fgm_test_attack_data)\n",
    "# Convert error tensor into NumPy array \n",
    "test_error = keras.losses.mean_squared_error(fgm_test_attack_data, reconstructions_test)\n",
    "test_error = test_error.eval(session=sess)"
   ]
  },
  {
   "cell_type": "code",
   "execution_count": 0,
   "metadata": {
    "colab": {},
    "colab_type": "code",
    "id": "J1fLagYVJdaB"
   },
   "outputs": [],
   "source": [
    "true_positives = sum(np.where(test_error > threshold, 1, 0))"
   ]
  },
  {
   "cell_type": "code",
   "execution_count": 50,
   "metadata": {
    "colab": {
     "base_uri": "https://localhost:8080/",
     "height": 34
    },
    "colab_type": "code",
    "id": "rwwFtzEvJ-eJ",
    "outputId": "6612655c-9b5c-4e2c-b36a-25f568ce875b"
   },
   "outputs": [
    {
     "name": "stdout",
     "output_type": "stream",
     "text": [
      "10000\n"
     ]
    }
   ],
   "source": [
    "print(true_positives)"
   ]
  },
  {
   "cell_type": "code",
   "execution_count": 0,
   "metadata": {
    "colab": {},
    "colab_type": "code",
    "id": "WZTPLKQRKCvs"
   },
   "outputs": [],
   "source": [
    "reconstructions_tests = ae_model.predict(data_test)"
   ]
  },
  {
   "cell_type": "code",
   "execution_count": 0,
   "metadata": {
    "colab": {},
    "colab_type": "code",
    "id": "YQ43_P9RKQvd"
   },
   "outputs": [],
   "source": [
    "test_errors = keras.losses.mean_squared_error(data_test, reconstructions_tests)\n",
    "test_errors = test_errors.eval(session=sess)"
   ]
  },
  {
   "cell_type": "code",
   "execution_count": 0,
   "metadata": {
    "colab": {},
    "colab_type": "code",
    "id": "6_13EX4uKYUC"
   },
   "outputs": [],
   "source": [
    "false_positives = sum(np.where(test_errors > threshold, 1, 0))"
   ]
  },
  {
   "cell_type": "code",
   "execution_count": 56,
   "metadata": {
    "colab": {
     "base_uri": "https://localhost:8080/",
     "height": 34
    },
    "colab_type": "code",
    "id": "xglY8yneKgdI",
    "outputId": "d0d02933-0162-47ee-fb93-ce8d2a74430f"
   },
   "outputs": [
    {
     "name": "stdout",
     "output_type": "stream",
     "text": [
      "1\n"
     ]
    }
   ],
   "source": [
    "print(false_positives)"
   ]
  },
  {
   "cell_type": "markdown",
   "metadata": {
    "colab_type": "text",
    "id": "VE2WG6LnP14d"
   },
   "source": [
    "# Part 3: Projected Gradient Descent"
   ]
  },
  {
   "cell_type": "code",
   "execution_count": 0,
   "metadata": {
    "colab": {},
    "colab_type": "code",
    "id": "iEkYKPN-P4Sj"
   },
   "outputs": [],
   "source": [
    "#Implementing the PGD attack\n",
    "\n",
    "#PGD Instance on trained classifier from Part 1\n",
    "pgd = MadryEtAl(wrap, sess=sess)"
   ]
  },
  {
   "cell_type": "code",
   "execution_count": 0,
   "metadata": {
    "colab": {
     "base_uri": "https://localhost:8080/",
     "height": 52
    },
    "colab_type": "code",
    "id": "xjppFrDex6XH",
    "outputId": "9b6af897-0548-4b34-c0cb-794699a17c5c"
   },
   "outputs": [
    {
     "name": "stdout",
     "output_type": "stream",
     "text": [
      "(10000, 784)\n",
      "(10000, 10)\n"
     ]
    }
   ],
   "source": [
    "print(data_test.shape)\n",
    "print(labels_test.shape)"
   ]
  },
  {
   "cell_type": "code",
   "execution_count": 0,
   "metadata": {
    "colab": {},
    "colab_type": "code",
    "id": "u_iAiAK0LR8B"
   },
   "outputs": [],
   "source": [
    "#Attack parameters\n",
    "pgd_params = {'eps': 0.25,\n",
    "              'eps_iter': 0.01,\n",
    "              'nb_iter': 20,\n",
    "              'clip_min': 0.,\n",
    "              'clip_max': 1.}\n",
    "\n",
    "# Generating adversarial perturbations\n",
    "pgd_perturbations = pgd.generate_np(data_test, **pgd_params)"
   ]
  },
  {
   "cell_type": "code",
   "execution_count": 0,
   "metadata": {
    "colab": {
     "base_uri": "https://localhost:8080/",
     "height": 52
    },
    "colab_type": "code",
    "id": "9Sjv5OHkyVMF",
    "outputId": "fad09b6a-ee01-4caa-c9c7-8f25660ad51c"
   },
   "outputs": [
    {
     "name": "stdout",
     "output_type": "stream",
     "text": [
      "10000/10000 [==============================] - 3s 270us/step\n",
      "Accuracy: 1.00%\n"
     ]
    }
   ],
   "source": [
    "#Evaluate accuracy on target classifier \n",
    "pgd_adv_scores = mnist_classifier.evaluate(pgd_perturbations, labels_test)\n",
    "print(\"Accuracy: %.2f%%\"%(pgd_adv_scores[1]*100))"
   ]
  },
  {
   "cell_type": "code",
   "execution_count": 0,
   "metadata": {
    "colab": {
     "base_uri": "https://localhost:8080/",
     "height": 729
    },
    "colab_type": "code",
    "id": "urEHSPQISer1",
    "outputId": "c829ce4c-fd6b-4768-c4ab-0ed38c0a5391"
   },
   "outputs": [
    {
     "data": {
      "image/png": "[encoded data removed]",
      "text/plain": [
       "<Figure size 720x720 with 20 Axes>"
      ]
     },
     "metadata": {
      "tags": []
     },
     "output_type": "display_data"
    }
   ],
   "source": [
    "#Show ten original samples and their corresponding adversarial samples\n",
    "#Show ten original samples and their corresponding adversarial samples\n",
    "data_test_show = data_test.reshape(-1, 28, 28)\n",
    "pgd_perturbations_show = pgd_perturbations.reshape(-1, 28, 28)\n",
    "cols = [' Original Samples',\n",
    "         ' PGD Adversarial Samples']\n",
    "fig, axes = plt.subplots(nrows=10, ncols=2, figsize=(10, 10))\n",
    "for i in range(10):\n",
    "  axes[i, 0].imshow(data_test_show[i,:,:], \n",
    "                   cmap=plt.cm.gray)\n",
    "  axes[i, 1].imshow(pgd_perturbations_show[i,:,:],\n",
    "                    cmap=plt.cm.gray)\n",
    "  for ax, col in zip(axes[0], cols):\n",
    "    ax.set_title(col)\n",
    "  for j in range(2):\n",
    "    axes[i, j].get_xaxis().set_visible(False)\n",
    "    axes[i, j].get_yaxis().set_visible(False)\n",
    "fig.tight_layout()\n",
    "plt.show()"
   ]
  },
  {
   "cell_type": "code",
   "execution_count": 0,
   "metadata": {
    "colab": {},
    "colab_type": "code",
    "id": "WKYL2w4I05uV"
   },
   "outputs": [],
   "source": [
    "adv_train_clf = keras.models.clone_model(mnist_classifier)\n",
    "#modify model here if needed\n",
    "adv_train_clf.build()\n",
    "adv_train_clf.set_weights(mnist_classifier.get_weights())"
   ]
  },
  {
   "cell_type": "code",
   "execution_count": 0,
   "metadata": {
    "colab": {},
    "colab_type": "code",
    "id": "vrPRbxJh1aCU"
   },
   "outputs": [],
   "source": [
    "pgd_data = pgd.generate_np(data_train, **pgd_params)\n",
    "data_train1 = np.concatenate((data_train, pgd_data))"
   ]
  },
  {
   "cell_type": "code",
   "execution_count": 0,
   "metadata": {
    "colab": {},
    "colab_type": "code",
    "id": "G9-nSRck1L8u"
   },
   "outputs": [],
   "source": [
    "labels_train1 = np.concatenate((labels_train, labels_train))"
   ]
  },
  {
   "cell_type": "code",
   "execution_count": 0,
   "metadata": {
    "colab": {
     "base_uri": "https://localhost:8080/",
     "height": 52
    },
    "colab_type": "code",
    "id": "BmkAW4x-19vR",
    "outputId": "f3261cbc-683f-41ba-8161-148cad53919a"
   },
   "outputs": [
    {
     "name": "stdout",
     "output_type": "stream",
     "text": [
      "(120000, 784)\n",
      "(120000, 10)\n"
     ]
    }
   ],
   "source": [
    "print(data_train1.shape)\n",
    "print(labels_train1.shape)"
   ]
  },
  {
   "cell_type": "code",
   "execution_count": 0,
   "metadata": {
    "colab": {
     "base_uri": "https://localhost:8080/",
     "height": 34
    },
    "colab_type": "code",
    "id": "YxDW-RWz36Ov",
    "outputId": "660e1d73-ea82-471e-82bf-2572dca3d13a"
   },
   "outputs": [
    {
     "name": "stdout",
     "output_type": "stream",
     "text": [
      "(10000, 784)\n"
     ]
    }
   ],
   "source": [
    "print(data_test.shape)"
   ]
  },
  {
   "cell_type": "code",
   "execution_count": 0,
   "metadata": {
    "colab": {
     "base_uri": "https://localhost:8080/",
     "height": 1000
    },
    "colab_type": "code",
    "id": "JCEAR0yI2KuJ",
    "outputId": "4cdcceba-0419-4bc4-82e4-dbbff70a72ea"
   },
   "outputs": [
    {
     "name": "stdout",
     "output_type": "stream",
     "text": [
      "Train on 120000 samples, validate on 10000 samples\n",
      "Epoch 1/50\n",
      "120000/120000 [==============================] - 8s 69us/step - loss: 0.0206 - acc: 0.9933 - val_loss: 0.0172 - val_acc: 0.9940\n",
      "Epoch 2/50\n",
      "120000/120000 [==============================] - 6s 46us/step - loss: 0.0071 - acc: 0.9977 - val_loss: 0.0161 - val_acc: 0.9948\n",
      "Epoch 3/50\n",
      "120000/120000 [==============================] - 6s 47us/step - loss: 0.0048 - acc: 0.9985 - val_loss: 0.0138 - val_acc: 0.9954\n",
      "Epoch 4/50\n",
      "120000/120000 [==============================] - 6s 49us/step - loss: 0.0035 - acc: 0.9989 - val_loss: 0.0147 - val_acc: 0.9954\n",
      "Epoch 5/50\n",
      "120000/120000 [==============================] - 6s 51us/step - loss: 0.0026 - acc: 0.9992 - val_loss: 0.0138 - val_acc: 0.9955\n",
      "Epoch 6/50\n",
      "120000/120000 [==============================] - 6s 52us/step - loss: 0.0023 - acc: 0.9993 - val_loss: 0.0133 - val_acc: 0.9958\n",
      "Epoch 7/50\n",
      "120000/120000 [==============================] - 6s 52us/step - loss: 0.0020 - acc: 0.9993 - val_loss: 0.0138 - val_acc: 0.9958\n",
      "Epoch 8/50\n",
      "120000/120000 [==============================] - 6s 52us/step - loss: 0.0019 - acc: 0.9994 - val_loss: 0.0126 - val_acc: 0.9963\n",
      "Epoch 9/50\n",
      "120000/120000 [==============================] - 6s 51us/step - loss: 0.0019 - acc: 0.9994 - val_loss: 0.0147 - val_acc: 0.9958\n",
      "Epoch 10/50\n",
      "120000/120000 [==============================] - 6s 52us/step - loss: 0.0010 - acc: 0.9997 - val_loss: 0.0142 - val_acc: 0.9963\n",
      "Epoch 11/50\n",
      "120000/120000 [==============================] - 6s 52us/step - loss: 0.0010 - acc: 0.9997 - val_loss: 0.0131 - val_acc: 0.9961\n",
      "Epoch 12/50\n",
      "120000/120000 [==============================] - 6s 50us/step - loss: 0.0015 - acc: 0.9995 - val_loss: 0.0149 - val_acc: 0.9958\n",
      "Epoch 13/50\n",
      "120000/120000 [==============================] - 6s 50us/step - loss: 0.0013 - acc: 0.9996 - val_loss: 0.0158 - val_acc: 0.9958\n",
      "Epoch 14/50\n",
      "120000/120000 [==============================] - 6s 50us/step - loss: 9.7624e-04 - acc: 0.9997 - val_loss: 0.0130 - val_acc: 0.9963\n",
      "Epoch 15/50\n",
      "120000/120000 [==============================] - 6s 53us/step - loss: 9.8632e-04 - acc: 0.9997 - val_loss: 0.0139 - val_acc: 0.9962\n",
      "Epoch 16/50\n",
      "120000/120000 [==============================] - 6s 52us/step - loss: 9.4157e-04 - acc: 0.9997 - val_loss: 0.0148 - val_acc: 0.9961\n",
      "Epoch 17/50\n",
      "120000/120000 [==============================] - 6s 50us/step - loss: 9.4647e-04 - acc: 0.9997 - val_loss: 0.0142 - val_acc: 0.9962\n",
      "Epoch 18/50\n",
      "120000/120000 [==============================] - 6s 49us/step - loss: 8.7492e-04 - acc: 0.9997 - val_loss: 0.0135 - val_acc: 0.9962\n",
      "Epoch 19/50\n",
      "120000/120000 [==============================] - 6s 49us/step - loss: 6.6374e-04 - acc: 0.9998 - val_loss: 0.0144 - val_acc: 0.9959\n",
      "Epoch 20/50\n",
      "120000/120000 [==============================] - 6s 49us/step - loss: 8.0419e-04 - acc: 0.9997 - val_loss: 0.0161 - val_acc: 0.9959\n",
      "Epoch 21/50\n",
      "120000/120000 [==============================] - 6s 51us/step - loss: 6.7951e-04 - acc: 0.9998 - val_loss: 0.0123 - val_acc: 0.9970\n",
      "Epoch 22/50\n",
      "120000/120000 [==============================] - 6s 49us/step - loss: 7.3342e-04 - acc: 0.9998 - val_loss: 0.0136 - val_acc: 0.9966\n",
      "Epoch 23/50\n",
      "120000/120000 [==============================] - 6s 51us/step - loss: 9.0528e-04 - acc: 0.9997 - val_loss: 0.0131 - val_acc: 0.9968\n",
      "Epoch 24/50\n",
      "120000/120000 [==============================] - 6s 50us/step - loss: 3.7030e-04 - acc: 0.9999 - val_loss: 0.0139 - val_acc: 0.9967\n",
      "Epoch 25/50\n",
      "120000/120000 [==============================] - 6s 50us/step - loss: 4.6547e-04 - acc: 0.9998 - val_loss: 0.0150 - val_acc: 0.9963\n",
      "Epoch 26/50\n",
      "120000/120000 [==============================] - 6s 50us/step - loss: 3.6252e-04 - acc: 0.9999 - val_loss: 0.0143 - val_acc: 0.9967\n",
      "Epoch 27/50\n",
      "120000/120000 [==============================] - 6s 51us/step - loss: 5.9939e-04 - acc: 0.9998 - val_loss: 0.0166 - val_acc: 0.9961\n",
      "Epoch 28/50\n",
      "120000/120000 [==============================] - 6s 50us/step - loss: 7.6251e-04 - acc: 0.9997 - val_loss: 0.0167 - val_acc: 0.9962\n",
      "Epoch 29/50\n",
      "120000/120000 [==============================] - 6s 49us/step - loss: 5.6537e-04 - acc: 0.9998 - val_loss: 0.0127 - val_acc: 0.9968\n",
      "Epoch 30/50\n",
      "120000/120000 [==============================] - 6s 50us/step - loss: 5.2206e-04 - acc: 0.9998 - val_loss: 0.0146 - val_acc: 0.9966\n",
      "Epoch 31/50\n",
      "120000/120000 [==============================] - 6s 50us/step - loss: 4.1741e-04 - acc: 0.9999 - val_loss: 0.0154 - val_acc: 0.9964\n",
      "Epoch 32/50\n",
      "120000/120000 [==============================] - 6s 50us/step - loss: 4.3015e-04 - acc: 0.9999 - val_loss: 0.0154 - val_acc: 0.9965\n",
      "Epoch 33/50\n",
      "120000/120000 [==============================] - 6s 49us/step - loss: 3.1711e-04 - acc: 0.9999 - val_loss: 0.0148 - val_acc: 0.9966\n",
      "Epoch 34/50\n",
      "120000/120000 [==============================] - 6s 50us/step - loss: 6.0660e-04 - acc: 0.9998 - val_loss: 0.0147 - val_acc: 0.9965\n",
      "Epoch 35/50\n",
      "120000/120000 [==============================] - 6s 50us/step - loss: 5.3772e-04 - acc: 0.9998 - val_loss: 0.0139 - val_acc: 0.9968\n",
      "Epoch 36/50\n",
      "120000/120000 [==============================] - 6s 49us/step - loss: 4.3571e-04 - acc: 0.9998 - val_loss: 0.0154 - val_acc: 0.9963\n",
      "Epoch 37/50\n",
      "120000/120000 [==============================] - 6s 50us/step - loss: 3.5285e-04 - acc: 0.9999 - val_loss: 0.0153 - val_acc: 0.9966\n",
      "Epoch 38/50\n",
      "120000/120000 [==============================] - 6s 51us/step - loss: 3.2939e-04 - acc: 0.9999 - val_loss: 0.0159 - val_acc: 0.9964\n",
      "Epoch 39/50\n",
      "120000/120000 [==============================] - 6s 51us/step - loss: 3.0955e-04 - acc: 0.9999 - val_loss: 0.0145 - val_acc: 0.9969\n",
      "Epoch 40/50\n",
      "120000/120000 [==============================] - 6s 50us/step - loss: 2.6533e-04 - acc: 0.9999 - val_loss: 0.0156 - val_acc: 0.9968\n",
      "Epoch 41/50\n",
      "120000/120000 [==============================] - 6s 51us/step - loss: 5.5736e-04 - acc: 0.9998 - val_loss: 0.0153 - val_acc: 0.9964\n",
      "Epoch 42/50\n",
      "120000/120000 [==============================] - 6s 50us/step - loss: 4.9232e-04 - acc: 0.9998 - val_loss: 0.0149 - val_acc: 0.9967\n",
      "Epoch 43/50\n",
      "120000/120000 [==============================] - 6s 51us/step - loss: 2.7092e-04 - acc: 0.9999 - val_loss: 0.0145 - val_acc: 0.9968\n",
      "Epoch 44/50\n",
      "120000/120000 [==============================] - 6s 51us/step - loss: 1.3696e-04 - acc: 1.0000 - val_loss: 0.0137 - val_acc: 0.9971\n",
      "Epoch 45/50\n",
      "120000/120000 [==============================] - 6s 50us/step - loss: 1.2502e-04 - acc: 1.0000 - val_loss: 0.0137 - val_acc: 0.9971\n",
      "Epoch 46/50\n",
      "120000/120000 [==============================] - 6s 51us/step - loss: 5.5670e-05 - acc: 1.0000 - val_loss: 0.0146 - val_acc: 0.9970\n",
      "Epoch 47/50\n",
      "120000/120000 [==============================] - 6s 51us/step - loss: 5.3551e-04 - acc: 0.9998 - val_loss: 0.0171 - val_acc: 0.9963\n",
      "Epoch 48/50\n",
      "120000/120000 [==============================] - 6s 51us/step - loss: 6.9112e-04 - acc: 0.9998 - val_loss: 0.0146 - val_acc: 0.9969\n",
      "Epoch 49/50\n",
      "120000/120000 [==============================] - 6s 51us/step - loss: 3.8870e-04 - acc: 0.9999 - val_loss: 0.0147 - val_acc: 0.9968\n",
      "Epoch 50/50\n",
      "120000/120000 [==============================] - 6s 50us/step - loss: 1.9802e-04 - acc: 0.9999 - val_loss: 0.0144 - val_acc: 0.9970\n"
     ]
    }
   ],
   "source": [
    "#Implementing the adversarial training defense\n",
    "adv_train_clf.compile(loss=\"binary_crossentropy\",\n",
    "                      optimizer='adam',\n",
    "                      metrics=['accuracy'])\n",
    "adv_train_clf_hist = adv_train_clf.fit(data_train1, labels_train1,\n",
    "                  validation_data=(data_test.reshape(-1, 784), labels_test),\n",
    "                  epochs=50,\n",
    "                  batch_size=256,\n",
    "                  shuffle=True)"
   ]
  },
  {
   "cell_type": "code",
   "execution_count": 0,
   "metadata": {
    "colab": {},
    "colab_type": "code",
    "id": "WJWuO0KZ4fhj"
   },
   "outputs": [],
   "source": [
    "adv_train_clf.save('adversarial_trained_classifier.h5')"
   ]
  },
  {
   "cell_type": "code",
   "execution_count": 0,
   "metadata": {
    "colab": {},
    "colab_type": "code",
    "id": "APRtubB04zUE"
   },
   "outputs": [],
   "source": [
    "!cp adversarial_trained_classifier.h5 ./gdrive/My\\ Drive/ece595_ml2/models/"
   ]
  },
  {
   "cell_type": "code",
   "execution_count": 0,
   "metadata": {
    "colab": {},
    "colab_type": "code",
    "id": "YcAgbYEO5LmZ"
   },
   "outputs": [],
   "source": [
    " adv_mnist_classifier = load_model(\"adversarial_trained_classifier.h5\")"
   ]
  },
  {
   "cell_type": "code",
   "execution_count": 0,
   "metadata": {
    "colab": {
     "base_uri": "https://localhost:8080/",
     "height": 52
    },
    "colab_type": "code",
    "id": "yxTzmO_I8U-X",
    "outputId": "844a3959-33a6-4cd9-e894-a6a439b51145"
   },
   "outputs": [
    {
     "name": "stdout",
     "output_type": "stream",
     "text": [
      "(10000, 784)\n",
      "(10000, 10)\n"
     ]
    }
   ],
   "source": [
    "print(pgd_perturbations.shape)\n",
    "print(labels_test.shape)"
   ]
  },
  {
   "cell_type": "code",
   "execution_count": 0,
   "metadata": {
    "colab": {
     "base_uri": "https://localhost:8080/",
     "height": 52
    },
    "colab_type": "code",
    "id": "gTygGikdUWU8",
    "outputId": "fc0a3d11-cbe0-47dc-b94d-9bd5e6a072f0"
   },
   "outputs": [
    {
     "name": "stdout",
     "output_type": "stream",
     "text": [
      "10000/10000 [==============================] - 1s 76us/step\n",
      "Accuracy: 99.67%\n"
     ]
    }
   ],
   "source": [
    "#Evaluate accuracy on target classifier \n",
    "pgd_adv_scores = adv_mnist_classifier.evaluate(pgd_perturbations, labels_test)\n",
    "print(\"Accuracy: %.2f%%\"%(pgd_adv_scores[1]*100))"
   ]
  },
  {
   "cell_type": "code",
   "execution_count": 0,
   "metadata": {
    "colab": {},
    "colab_type": "code",
    "id": "i6dMEXGBUlci"
   },
   "outputs": [],
   "source": [
    "#Using the defense to evaluate the accuracy of the perturbed data\n",
    "#FILL THIS IN "
   ]
  },
  {
   "cell_type": "markdown",
   "metadata": {
    "colab_type": "text",
    "id": "MqIEiMdar_5q"
   },
   "source": [
    "# Part 4: Carlini and Wagner Attack"
   ]
  },
  {
   "cell_type": "code",
   "execution_count": 15,
   "metadata": {
    "colab": {
     "base_uri": "https://localhost:8080/",
     "height": 72
    },
    "colab_type": "code",
    "id": "P2gypE5H_BOb",
    "outputId": "7345ad12-33ce-4294-945e-2d5c17499e37"
   },
   "outputs": [
    {
     "name": "stdout",
     "output_type": "stream",
     "text": [
      "WARNING:tensorflow:From /usr/local/lib/python3.6/dist-packages/cleverhans/utils_tf.py:368: The name tf.GraphKeys is deprecated. Please use tf.compat.v1.GraphKeys instead.\n",
      "\n"
     ]
    }
   ],
   "source": [
    "#Implementing the CW attack\n",
    "\n",
    "#CW Instance on trained classifier from Part 1\n",
    "cwa = CarliniWagnerL2(wrap, sess=sess)"
   ]
  },
  {
   "cell_type": "code",
   "execution_count": 0,
   "metadata": {
    "colab": {},
    "colab_type": "code",
    "id": "Rw8JhnHg_NhO"
   },
   "outputs": [],
   "source": [
    "#Attack parameters\n",
    "cwa_params = {'binary_search_steps': 1,\n",
    "              'y': None,\n",
    "              'learning_rate': 1.25,\n",
    "              'batch_size': 16,\n",
    "              'initial_const': 10,\n",
    "              'clip_min': 0.0,\n",
    "              'clip_max': 1.0}"
   ]
  },
  {
   "cell_type": "code",
   "execution_count": 17,
   "metadata": {
    "colab": {
     "base_uri": "https://localhost:8080/",
     "height": 402
    },
    "colab_type": "code",
    "id": "B2Z7O8T9ASmh",
    "outputId": "dd897263-a895-465a-ab83-d6e16cb26347"
   },
   "outputs": [
    {
     "name": "stdout",
     "output_type": "stream",
     "text": [
      "WARNING:tensorflow:From /usr/local/lib/python3.6/dist-packages/cleverhans/attacks.py:216: calling reduce_max_v1 (from tensorflow.python.ops.math_ops) with keep_dims is deprecated and will be removed in a future version.\n",
      "Instructions for updating:\n",
      "keep_dims is deprecated, use keepdims instead\n",
      "WARNING:tensorflow:From /usr/local/lib/python3.6/dist-packages/cleverhans/attacks.py:218: to_float (from tensorflow.python.ops.math_ops) is deprecated and will be removed in a future version.\n",
      "Instructions for updating:\n",
      "Use `tf.cast` instead.\n",
      "WARNING:tensorflow:From /usr/local/lib/python3.6/dist-packages/cleverhans/attacks_tf.py:725: The name tf.train.AdamOptimizer is deprecated. Please use tf.compat.v1.train.AdamOptimizer instead.\n",
      "\n",
      "WARNING:tensorflow:From /usr/local/lib/python3.6/dist-packages/cleverhans/attacks.py:909: py_func (from tensorflow.python.ops.script_ops) is deprecated and will be removed in a future version.\n",
      "Instructions for updating:\n",
      "tf.py_func is deprecated in TF V2. Instead, there are two\n",
      "    options available in V2.\n",
      "    - tf.py_function takes a python function which manipulates tf eager\n",
      "    tensors instead of numpy arrays. It's easy to convert a tf eager tensor to\n",
      "    an ndarray (just call tensor.numpy()) but having access to eager tensors\n",
      "    means `tf.py_function`s can use accelerators such as GPUs as well as\n",
      "    being differentiable using a gradient tape.\n",
      "    - tf.numpy_function maintains the semantics of the deprecated tf.py_func\n",
      "    (it is not differentiable, and manipulates numpy arrays). It drops the\n",
      "    stateful argument making all functions stateful.\n",
      "    \n"
     ]
    }
   ],
   "source": [
    "# Generating adversarial perturbations\n",
    "cwa_perturbations = cwa.generate_np(data_test, **cwa_params)"
   ]
  },
  {
   "cell_type": "code",
   "execution_count": 0,
   "metadata": {
    "colab": {},
    "colab_type": "code",
    "id": "MexRp6MyAjBM"
   },
   "outputs": [],
   "source": [
    "with open('cwa_perturbations.pkl', 'wb') as f:\n",
    "      pickle.dump(cwa_perturbations, f)"
   ]
  },
  {
   "cell_type": "code",
   "execution_count": 0,
   "metadata": {
    "colab": {},
    "colab_type": "code",
    "id": "0vO9vNAoBS0h"
   },
   "outputs": [],
   "source": [
    "!cp cwa_perturbations.pkl ./gdrive/My\\ Drive/ece595_ml2/models/"
   ]
  },
  {
   "cell_type": "code",
   "execution_count": 0,
   "metadata": {
    "colab": {},
    "colab_type": "code",
    "id": "e5eHATVLD752"
   },
   "outputs": [],
   "source": [
    "with open(MODEL_LOCATION + 'cwa_perturbations.pkl', 'rb') as f:\n",
    "      cwa_perturbations = pickle.load(f)"
   ]
  },
  {
   "cell_type": "code",
   "execution_count": 22,
   "metadata": {
    "colab": {
     "base_uri": "https://localhost:8080/",
     "height": 52
    },
    "colab_type": "code",
    "id": "yasHKMfpAeyh",
    "outputId": "9dfe9b47-024d-490a-a151-5d9df876b3ca"
   },
   "outputs": [
    {
     "name": "stdout",
     "output_type": "stream",
     "text": [
      "10000/10000 [==============================] - 0s 49us/step\n",
      "Accuracy: 1.11%\n"
     ]
    }
   ],
   "source": [
    "#Evaluate accuracy on target classifier \n",
    "cwa_adv_scores = mnist_classifier.evaluate(cwa_perturbations, labels_test)\n",
    "print(\"Accuracy: %.2f%%\"%(cwa_adv_scores[1]*100))"
   ]
  },
  {
   "cell_type": "code",
   "execution_count": 23,
   "metadata": {
    "colab": {
     "base_uri": "https://localhost:8080/",
     "height": 729
    },
    "colab_type": "code",
    "id": "rlEMqrlPurRL",
    "outputId": "87a01423-4fce-4a82-8ae9-a70052a1f9d4"
   },
   "outputs": [
    {
     "data": {
      "image/png": "[encoded data removed]",
      "text/plain": [
       "<Figure size 720x720 with 20 Axes>"
      ]
     },
     "metadata": {
      "tags": []
     },
     "output_type": "display_data"
    }
   ],
   "source": [
    "#Show ten original samples and their corresponding adversarial samples\n",
    "data_test_show = data_test.reshape(-1, 28, 28)\n",
    "cwa_perturbations_show = cwa_perturbations.reshape(-1, 28, 28)\n",
    "cols = [' Original Samples',\n",
    "         ' CWA Adversarial Samples']\n",
    "fig, axes = plt.subplots(nrows=10, ncols=2, figsize=(10, 10))\n",
    "for i in range(10):\n",
    "  axes[i, 0].imshow(data_test_show[i,:,:], \n",
    "                   cmap=plt.cm.gray)\n",
    "  axes[i, 1].imshow(cwa_perturbations_show[i,:,:],\n",
    "                    cmap=plt.cm.gray)\n",
    "  for ax, col in zip(axes[0], cols):\n",
    "    ax.set_title(col)\n",
    "  for j in range(2):\n",
    "    axes[i, j].get_xaxis().set_visible(False)\n",
    "    axes[i, j].get_yaxis().set_visible(False)\n",
    "fig.tight_layout()\n",
    "plt.show()"
   ]
  },
  {
   "cell_type": "code",
   "execution_count": 0,
   "metadata": {
    "colab": {},
    "colab_type": "code",
    "id": "P-VhQHQ2uvmV"
   },
   "outputs": [],
   "source": [
    "#Implementing the dimensionality reduction (PCA) defense \n",
    "\n",
    "#Calculate PCA projection\n",
    "pca = PCA(100)\n",
    "pca.fit(data_train)\n",
    "pca_train = pca.transform(data_train)\n",
    "pca_test = pca.transform(data_test)"
   ]
  },
  {
   "cell_type": "code",
   "execution_count": 25,
   "metadata": {
    "colab": {
     "base_uri": "https://localhost:8080/",
     "height": 34
    },
    "colab_type": "code",
    "id": "Lx6gWVnYHe05",
    "outputId": "b8482c2e-194b-4ade-aac7-28571215409d"
   },
   "outputs": [
    {
     "name": "stdout",
     "output_type": "stream",
     "text": [
      "(60000, 100) (10000, 100)\n"
     ]
    }
   ],
   "source": [
    "print(pca_train.shape, pca_test.shape)"
   ]
  },
  {
   "cell_type": "code",
   "execution_count": 0,
   "metadata": {
    "colab": {},
    "colab_type": "code",
    "id": "kPxE41e7HQfT"
   },
   "outputs": [],
   "source": [
    "#Transform perturbed CW data using the subspace from the original training data\n",
    "cwa_pert_pca = pca.transform(cwa_perturbations)"
   ]
  },
  {
   "cell_type": "code",
   "execution_count": 0,
   "metadata": {
    "colab": {},
    "colab_type": "code",
    "id": "sN_xcN9YHTH7"
   },
   "outputs": [],
   "source": [
    "# create model for PCA\n",
    "def pca_model():\n",
    "    model = Sequential()\n",
    "    model.add(Dense(100,\n",
    "                    activation='relu'))\n",
    "    model.add(BatchNormalization())\n",
    "    model.add(Dense(100,\n",
    "                    activation='relu'))\n",
    "    model.add(BatchNormalization())\n",
    "    model.add(Dense(10,\n",
    "                    activation='softmax'))\n",
    "\n",
    "    return model"
   ]
  },
  {
   "cell_type": "code",
   "execution_count": 0,
   "metadata": {
    "colab": {},
    "colab_type": "code",
    "id": "QHVB4Sh-HVno"
   },
   "outputs": [],
   "source": [
    "#Create model graph, compile it, and train it using pca_train lables_train \n",
    "model = pca_model()\n",
    "model.compile(loss='categorical_crossentropy',\n",
    "              optimizer='adam',\n",
    "              metrics=['accuracy'])"
   ]
  },
  {
   "cell_type": "code",
   "execution_count": 29,
   "metadata": {
    "colab": {
     "base_uri": "https://localhost:8080/",
     "height": 1000
    },
    "colab_type": "code",
    "id": "g0UpIK0tIYCJ",
    "outputId": "fa344ccc-111b-49a1-9837-928b71fe0a51"
   },
   "outputs": [
    {
     "name": "stdout",
     "output_type": "stream",
     "text": [
      "Train on 60000 samples, validate on 10000 samples\n",
      "Epoch 1/50\n",
      "60000/60000 [==============================] - 2s 38us/step - loss: 0.4592 - acc: 0.8616 - val_loss: 0.1805 - val_acc: 0.9479\n",
      "Epoch 2/50\n",
      "60000/60000 [==============================] - 1s 24us/step - loss: 0.1505 - acc: 0.9570 - val_loss: 0.1226 - val_acc: 0.9639\n",
      "Epoch 3/50\n",
      "60000/60000 [==============================] - 1s 24us/step - loss: 0.1002 - acc: 0.9712 - val_loss: 0.1012 - val_acc: 0.9692\n",
      "Epoch 4/50\n",
      "60000/60000 [==============================] - 1s 25us/step - loss: 0.0746 - acc: 0.9789 - val_loss: 0.0889 - val_acc: 0.9741\n",
      "Epoch 5/50\n",
      "60000/60000 [==============================] - 1s 25us/step - loss: 0.0591 - acc: 0.9828 - val_loss: 0.0846 - val_acc: 0.9736\n",
      "Epoch 6/50\n",
      "60000/60000 [==============================] - 1s 24us/step - loss: 0.0457 - acc: 0.9876 - val_loss: 0.0814 - val_acc: 0.9737\n",
      "Epoch 7/50\n",
      "60000/60000 [==============================] - 1s 25us/step - loss: 0.0365 - acc: 0.9896 - val_loss: 0.0745 - val_acc: 0.9776\n",
      "Epoch 8/50\n",
      "60000/60000 [==============================] - 1s 23us/step - loss: 0.0297 - acc: 0.9921 - val_loss: 0.0778 - val_acc: 0.9776\n",
      "Epoch 9/50\n",
      "60000/60000 [==============================] - 1s 23us/step - loss: 0.0244 - acc: 0.9935 - val_loss: 0.0749 - val_acc: 0.9788\n",
      "Epoch 10/50\n",
      "60000/60000 [==============================] - 1s 23us/step - loss: 0.0195 - acc: 0.9952 - val_loss: 0.0798 - val_acc: 0.9779\n",
      "Epoch 11/50\n",
      "60000/60000 [==============================] - 1s 23us/step - loss: 0.0166 - acc: 0.9961 - val_loss: 0.0768 - val_acc: 0.9777\n",
      "Epoch 12/50\n",
      "60000/60000 [==============================] - 1s 23us/step - loss: 0.0138 - acc: 0.9966 - val_loss: 0.0789 - val_acc: 0.9784\n",
      "Epoch 13/50\n",
      "60000/60000 [==============================] - 1s 24us/step - loss: 0.0120 - acc: 0.9973 - val_loss: 0.0812 - val_acc: 0.9788\n",
      "Epoch 14/50\n",
      "60000/60000 [==============================] - 1s 23us/step - loss: 0.0103 - acc: 0.9977 - val_loss: 0.0828 - val_acc: 0.9780\n",
      "Epoch 15/50\n",
      "60000/60000 [==============================] - 1s 23us/step - loss: 0.0093 - acc: 0.9977 - val_loss: 0.0851 - val_acc: 0.9775\n",
      "Epoch 16/50\n",
      "60000/60000 [==============================] - 1s 23us/step - loss: 0.0076 - acc: 0.9984 - val_loss: 0.0822 - val_acc: 0.9797\n",
      "Epoch 17/50\n",
      "60000/60000 [==============================] - 1s 23us/step - loss: 0.0069 - acc: 0.9985 - val_loss: 0.0814 - val_acc: 0.9798\n",
      "Epoch 18/50\n",
      "60000/60000 [==============================] - 1s 23us/step - loss: 0.0079 - acc: 0.9981 - val_loss: 0.0858 - val_acc: 0.9790\n",
      "Epoch 19/50\n",
      "60000/60000 [==============================] - 1s 23us/step - loss: 0.0076 - acc: 0.9980 - val_loss: 0.0880 - val_acc: 0.9789\n",
      "Epoch 20/50\n",
      "60000/60000 [==============================] - 1s 24us/step - loss: 0.0061 - acc: 0.9986 - val_loss: 0.0871 - val_acc: 0.9782\n",
      "Epoch 21/50\n",
      "60000/60000 [==============================] - 1s 23us/step - loss: 0.0051 - acc: 0.9988 - val_loss: 0.0913 - val_acc: 0.9774\n",
      "Epoch 22/50\n",
      "60000/60000 [==============================] - 1s 24us/step - loss: 0.0055 - acc: 0.9986 - val_loss: 0.0963 - val_acc: 0.9775\n",
      "Epoch 23/50\n",
      "60000/60000 [==============================] - 1s 23us/step - loss: 0.0051 - acc: 0.9988 - val_loss: 0.0948 - val_acc: 0.9775\n",
      "Epoch 24/50\n",
      "60000/60000 [==============================] - 1s 23us/step - loss: 0.0046 - acc: 0.9990 - val_loss: 0.0967 - val_acc: 0.9785\n",
      "Epoch 25/50\n",
      "60000/60000 [==============================] - 1s 22us/step - loss: 0.0062 - acc: 0.9984 - val_loss: 0.1030 - val_acc: 0.9766\n",
      "Epoch 26/50\n",
      "60000/60000 [==============================] - 1s 23us/step - loss: 0.0061 - acc: 0.9983 - val_loss: 0.1048 - val_acc: 0.9773\n",
      "Epoch 27/50\n",
      "60000/60000 [==============================] - 1s 23us/step - loss: 0.0052 - acc: 0.9984 - val_loss: 0.0980 - val_acc: 0.9784\n",
      "Epoch 28/50\n",
      "60000/60000 [==============================] - 1s 23us/step - loss: 0.0044 - acc: 0.9988 - val_loss: 0.0944 - val_acc: 0.9781\n",
      "Epoch 29/50\n",
      "60000/60000 [==============================] - 1s 23us/step - loss: 0.0030 - acc: 0.9993 - val_loss: 0.0957 - val_acc: 0.9794\n",
      "Epoch 30/50\n",
      "60000/60000 [==============================] - 1s 24us/step - loss: 0.0039 - acc: 0.9989 - val_loss: 0.1085 - val_acc: 0.9764\n",
      "Epoch 31/50\n",
      "60000/60000 [==============================] - 1s 23us/step - loss: 0.0045 - acc: 0.9986 - val_loss: 0.1110 - val_acc: 0.9768\n",
      "Epoch 32/50\n",
      "60000/60000 [==============================] - 1s 23us/step - loss: 0.0039 - acc: 0.9990 - val_loss: 0.1071 - val_acc: 0.9779\n",
      "Epoch 33/50\n",
      "60000/60000 [==============================] - 1s 23us/step - loss: 0.0048 - acc: 0.9985 - val_loss: 0.1145 - val_acc: 0.9766\n",
      "Epoch 34/50\n",
      "60000/60000 [==============================] - 1s 23us/step - loss: 0.0063 - acc: 0.9979 - val_loss: 0.1129 - val_acc: 0.9771\n",
      "Epoch 35/50\n",
      "60000/60000 [==============================] - 1s 23us/step - loss: 0.0033 - acc: 0.9992 - val_loss: 0.1024 - val_acc: 0.9785\n",
      "Epoch 36/50\n",
      "60000/60000 [==============================] - 1s 24us/step - loss: 0.0023 - acc: 0.9996 - val_loss: 0.1025 - val_acc: 0.9794\n",
      "Epoch 37/50\n",
      "60000/60000 [==============================] - 1s 24us/step - loss: 0.0016 - acc: 0.9997 - val_loss: 0.1007 - val_acc: 0.9783\n",
      "Epoch 38/50\n",
      "60000/60000 [==============================] - 1s 23us/step - loss: 0.0019 - acc: 0.9996 - val_loss: 0.1083 - val_acc: 0.9766\n",
      "Epoch 39/50\n",
      "60000/60000 [==============================] - 1s 23us/step - loss: 0.0031 - acc: 0.9994 - val_loss: 0.1097 - val_acc: 0.9758\n",
      "Epoch 40/50\n",
      "60000/60000 [==============================] - 1s 22us/step - loss: 0.0025 - acc: 0.9994 - val_loss: 0.1123 - val_acc: 0.9774\n",
      "Epoch 41/50\n",
      "60000/60000 [==============================] - 1s 24us/step - loss: 0.0088 - acc: 0.9970 - val_loss: 0.1073 - val_acc: 0.9776\n",
      "Epoch 42/50\n",
      "60000/60000 [==============================] - 1s 25us/step - loss: 0.0057 - acc: 0.9983 - val_loss: 0.1031 - val_acc: 0.9777\n",
      "Epoch 43/50\n",
      "60000/60000 [==============================] - 1s 23us/step - loss: 0.0032 - acc: 0.9991 - val_loss: 0.1082 - val_acc: 0.9768\n",
      "Epoch 44/50\n",
      "60000/60000 [==============================] - 1s 24us/step - loss: 0.0033 - acc: 0.9990 - val_loss: 0.1056 - val_acc: 0.9776\n",
      "Epoch 45/50\n",
      "60000/60000 [==============================] - 1s 24us/step - loss: 0.0020 - acc: 0.9995 - val_loss: 0.1004 - val_acc: 0.9791\n",
      "Epoch 46/50\n",
      "60000/60000 [==============================] - 1s 24us/step - loss: 0.0012 - acc: 0.9997 - val_loss: 0.1030 - val_acc: 0.9797\n",
      "Epoch 47/50\n",
      "60000/60000 [==============================] - 1s 24us/step - loss: 0.0014 - acc: 0.9996 - val_loss: 0.0974 - val_acc: 0.9800\n",
      "Epoch 48/50\n",
      "60000/60000 [==============================] - 1s 24us/step - loss: 0.0030 - acc: 0.9993 - val_loss: 0.1092 - val_acc: 0.9785\n",
      "Epoch 49/50\n",
      "60000/60000 [==============================] - 1s 24us/step - loss: 0.0033 - acc: 0.9992 - val_loss: 0.1009 - val_acc: 0.9791\n",
      "Epoch 50/50\n",
      "60000/60000 [==============================] - 1s 24us/step - loss: 0.0042 - acc: 0.9987 - val_loss: 0.1137 - val_acc: 0.9775\n"
     ]
    }
   ],
   "source": [
    "model_hist = model.fit(pca_train, labels_train,\n",
    "                       validation_data=(pca_test, labels_test),\n",
    "                       shuffle=True,\n",
    "                       batch_size=256,\n",
    "                       epochs=50)"
   ]
  },
  {
   "cell_type": "code",
   "execution_count": 32,
   "metadata": {
    "colab": {
     "base_uri": "https://localhost:8080/",
     "height": 577
    },
    "colab_type": "code",
    "id": "2RxQJz76I2xm",
    "outputId": "9ea6a96a-b37f-4375-a51f-0163d5523247"
   },
   "outputs": [
    {
     "data": {
      "image/png": "[encoded data removed]",
      "text/plain": [
       "<Figure size 432x288 with 1 Axes>"
      ]
     },
     "metadata": {
      "tags": []
     },
     "output_type": "display_data"
    },
    {
     "data": {
      "image/png": "[encoded data removed]",
      "text/plain": [
       "<Figure size 432x288 with 1 Axes>"
      ]
     },
     "metadata": {
      "tags": []
     },
     "output_type": "display_data"
    }
   ],
   "source": [
    "plot(model_hist, 'acc')\n",
    "plot(model_hist, 'loss')"
   ]
  },
  {
   "cell_type": "code",
   "execution_count": 33,
   "metadata": {
    "colab": {
     "base_uri": "https://localhost:8080/",
     "height": 52
    },
    "colab_type": "code",
    "id": "y1V8OEPiJr0T",
    "outputId": "238b982c-7255-4e73-9611-982f1081bd30"
   },
   "outputs": [
    {
     "name": "stdout",
     "output_type": "stream",
     "text": [
      "10000/10000 [==============================] - 0s 41us/step\n",
      "Accuracy: 80.82%\n"
     ]
    }
   ],
   "source": [
    "#Evaluate accuracy on target classifier \n",
    "pca_adv_scores = model.evaluate(cwa_pert_pca, labels_test)\n",
    "print(\"Accuracy: %.2f%%\"%(pca_adv_scores[1]*100))"
   ]
  },
  {
   "cell_type": "code",
   "execution_count": 0,
   "metadata": {
    "colab": {},
    "colab_type": "code",
    "id": "o9L61AfG2y94"
   },
   "outputs": [],
   "source": [
    "#Using the defense (and comparing to baseline accuracy)\n",
    "#FILL THIS IN \n",
    "# Print the accuracy of the classifier, afterre-training it, on the perturbed data from #3 ????"
   ]
  },
  {
   "cell_type": "markdown",
   "metadata": {
    "colab_type": "text",
    "id": "KP0mENqGhDt0"
   },
   "source": [
    "# Part 5: DeepFool "
   ]
  },
  {
   "cell_type": "code",
   "execution_count": 0,
   "metadata": {
    "colab": {
     "base_uri": "https://localhost:8080/",
     "height": 72
    },
    "colab_type": "code",
    "id": "zHraovc2hES3",
    "outputId": "90d2cfc7-c254-49c8-9f16-1ae639d20490"
   },
   "outputs": [
    {
     "name": "stdout",
     "output_type": "stream",
     "text": [
      "WARNING:tensorflow:From /usr/local/lib/python3.6/dist-packages/cleverhans/utils_tf.py:368: The name tf.GraphKeys is deprecated. Please use tf.compat.v1.GraphKeys instead.\n",
      "\n"
     ]
    }
   ],
   "source": [
    "#Implementing the DeepFool attack\n",
    "\n",
    "#DeepFool Instance on trained classifier from Part 1\n",
    "dfa = DeepFool(wrap, sess=sess)"
   ]
  },
  {
   "cell_type": "code",
   "execution_count": 0,
   "metadata": {
    "colab": {},
    "colab_type": "code",
    "id": "CinQuvK_Kp5m"
   },
   "outputs": [],
   "source": [
    "#Attack parameters\n",
    "dfa_params = {'nb_candidate': 10,\n",
    "              'max_iter': 50,\n",
    "              'clip_min': 0.0,\n",
    "              'clip_max': 1.0}"
   ]
  },
  {
   "cell_type": "code",
   "execution_count": 0,
   "metadata": {
    "colab": {
     "base_uri": "https://localhost:8080/",
     "height": 263
    },
    "colab_type": "code",
    "id": "e_ROpu4DKs6G",
    "outputId": "d686c545-a034-4d53-c1ac-607546727553"
   },
   "outputs": [
    {
     "name": "stdout",
     "output_type": "stream",
     "text": [
      "WARNING:tensorflow:From /usr/local/lib/python3.6/dist-packages/cleverhans/attacks.py:1119: py_func (from tensorflow.python.ops.script_ops) is deprecated and will be removed in a future version.\n",
      "Instructions for updating:\n",
      "tf.py_func is deprecated in TF V2. Instead, there are two\n",
      "    options available in V2.\n",
      "    - tf.py_function takes a python function which manipulates tf eager\n",
      "    tensors instead of numpy arrays. It's easy to convert a tf eager tensor to\n",
      "    an ndarray (just call tensor.numpy()) but having access to eager tensors\n",
      "    means `tf.py_function`s can use accelerators such as GPUs as well as\n",
      "    being differentiable using a gradient tape.\n",
      "    - tf.numpy_function maintains the semantics of the deprecated tf.py_func\n",
      "    (it is not differentiable, and manipulates numpy arrays). It drops the\n",
      "    stateful argument making all functions stateful.\n",
      "    \n"
     ]
    }
   ],
   "source": [
    "# Generating adversarial perturbations\n",
    "dfa_perturbations = dfa.generate_np(data_test, **dfa_params)"
   ]
  },
  {
   "cell_type": "code",
   "execution_count": 0,
   "metadata": {
    "colab": {
     "base_uri": "https://localhost:8080/",
     "height": 52
    },
    "colab_type": "code",
    "id": "T7NQEoJFKurR",
    "outputId": "02974a2b-ad44-49e1-cab4-caae0bacc194"
   },
   "outputs": [
    {
     "name": "stdout",
     "output_type": "stream",
     "text": [
      "10000/10000 [==============================] - 1s 116us/step\n",
      "Accuracy: 1.14%\n"
     ]
    }
   ],
   "source": [
    "#Evaluate accuracy of perturbed data on target classifier\n",
    "dfa_adv_scores = mnist_classifier.evaluate(dfa_perturbations, labels_test)\n",
    "print(\"Accuracy: %.2f%%\"%(dfa_adv_scores[1]*100))"
   ]
  },
  {
   "cell_type": "code",
   "execution_count": 0,
   "metadata": {
    "colab": {},
    "colab_type": "code",
    "id": "dwVMhbEyRiNR"
   },
   "outputs": [],
   "source": [
    "data_test_show = data_test.reshape(-1, 28, 28)\n",
    "dfa_perturbations_show = dfa_perturbations.reshape(-1, 28, 28)"
   ]
  },
  {
   "cell_type": "code",
   "execution_count": 0,
   "metadata": {
    "colab": {
     "base_uri": "https://localhost:8080/",
     "height": 52
    },
    "colab_type": "code",
    "id": "gKzqzFfTRnjI",
    "outputId": "db2db3e2-1b6c-4781-cf9b-2b26373773b5"
   },
   "outputs": [
    {
     "name": "stdout",
     "output_type": "stream",
     "text": [
      "(10000, 28, 28)\n",
      "(10000, 28, 28)\n"
     ]
    }
   ],
   "source": [
    "print(data_test_show.shape)\n",
    "print(dfa_perturbations_show.shape)"
   ]
  },
  {
   "cell_type": "code",
   "execution_count": 0,
   "metadata": {
    "colab": {
     "base_uri": "https://localhost:8080/",
     "height": 729
    },
    "colab_type": "code",
    "id": "zEsLfmxThZ6M",
    "outputId": "51675d32-7926-4bd7-8545-b8ce6d050a5c"
   },
   "outputs": [
    {
     "data": {
      "image/png": "[encoded data removed]",
      "text/plain": [
       "<Figure size 720x720 with 20 Axes>"
      ]
     },
     "metadata": {
      "tags": []
     },
     "output_type": "display_data"
    }
   ],
   "source": [
    "#Show ten original samples and their corresponding adversarial samples\n",
    "cols = [' Original Samples',\n",
    "        ' DFA Adversarial Samples']\n",
    "fig, axes = plt.subplots(nrows=10, ncols=2, figsize=(10, 10))\n",
    "for i in range(10):\n",
    "  axes[i, 0].imshow(data_test_show[i,:,:], \n",
    "                   cmap=plt.cm.gray)\n",
    "  axes[i, 1].imshow(dfa_perturbations_show[i,:,:],\n",
    "                    cmap=plt.cm.gray)\n",
    "  for ax, col in zip(axes[0], cols):\n",
    "    ax.set_title(col)\n",
    "  for j in range(2):\n",
    "    axes[i, j].get_xaxis().set_visible(False)\n",
    "    axes[i, j].get_yaxis().set_visible(False)\n",
    "fig.tight_layout()\n",
    "plt.show()"
   ]
  },
  {
   "cell_type": "code",
   "execution_count": 0,
   "metadata": {
    "colab": {},
    "colab_type": "code",
    "id": "tOapt7QaM4U_"
   },
   "outputs": [],
   "source": [
    "#Implementing the Denoising Autoencoder Defense\n",
    "\n",
    "def autoencoder():\n",
    "    ae = Sequential()\n",
    "    ae.add(Dense(400, activation='relu', kernel_initializer=\"normal\", input_dim=784))\n",
    "    ae.add(Dense(200, activation='relu', kernel_initializer='normal'))\n",
    "    ae.add(Dense(100, activation='relu', kernel_initializer='normal'))\n",
    "    ae.add(Dense(200, activation='relu', kernel_initializer='normal'))\n",
    "    ae.add(Dense(400, activation='relu', kernel_initializer='normal'))\n",
    "    ae.add(Dense(784, activation='sigmoid', kernel_initializer='normal'))\n",
    "    return ae\n",
    "\n",
    "#Create training data for DAE \n",
    "df_attack_data_train = dfa.generate_np(data_train, **dfa_params)\n",
    "data_total_train = np.concatenate([df_attack_data_train, data_train])\n",
    "labels_total_train = np.concatenate([labels_train, labels_train])"
   ]
  },
  {
   "cell_type": "code",
   "execution_count": 0,
   "metadata": {
    "colab": {},
    "colab_type": "code",
    "id": "yYnelPKTUEuE"
   },
   "outputs": [],
   "source": [
    "#Create and train DAE graph\n",
    "ae_model = autoencoder()\n",
    "ae_model.compile(loss=\"categorical_crossentropy\",\n",
    "                 optimizer='adam',\n",
    "                 metrics=['accuracy'])"
   ]
  },
  {
   "cell_type": "code",
   "execution_count": 0,
   "metadata": {
    "colab": {
     "base_uri": "https://localhost:8080/",
     "height": 1000
    },
    "colab_type": "code",
    "id": "E4I2V9q1WItO",
    "outputId": "3487c5d7-9400-4529-c916-df9c85897a46"
   },
   "outputs": [
    {
     "name": "stdout",
     "output_type": "stream",
     "text": [
      "Train on 120000 samples, validate on 10000 samples\n",
      "Epoch 1/50\n",
      "120000/120000 [==============================] - 4s 37us/step - loss: 606.4622 - acc: 0.0057 - val_loss: 534.9524 - val_acc: 0.0093\n",
      "Epoch 2/50\n",
      "120000/120000 [==============================] - 3s 28us/step - loss: 576.1069 - acc: 0.0081 - val_loss: 526.1260 - val_acc: 0.0105\n",
      "Epoch 3/50\n",
      "120000/120000 [==============================] - 3s 29us/step - loss: 570.7725 - acc: 0.0099 - val_loss: 522.5440 - val_acc: 0.0128\n",
      "Epoch 4/50\n",
      "120000/120000 [==============================] - 3s 28us/step - loss: 568.2008 - acc: 0.0112 - val_loss: 520.8387 - val_acc: 0.0126\n",
      "Epoch 5/50\n",
      "120000/120000 [==============================] - 3s 28us/step - loss: 566.6137 - acc: 0.0116 - val_loss: 519.8814 - val_acc: 0.0129\n",
      "Epoch 6/50\n",
      "120000/120000 [==============================] - 3s 28us/step - loss: 565.4910 - acc: 0.0117 - val_loss: 518.8726 - val_acc: 0.0099\n",
      "Epoch 7/50\n",
      "120000/120000 [==============================] - 3s 28us/step - loss: 564.6161 - acc: 0.0119 - val_loss: 518.3271 - val_acc: 0.0111\n",
      "Epoch 8/50\n",
      "120000/120000 [==============================] - 3s 28us/step - loss: 563.9767 - acc: 0.0122 - val_loss: 517.7158 - val_acc: 0.0121\n",
      "Epoch 9/50\n",
      "120000/120000 [==============================] - 3s 28us/step - loss: 563.4158 - acc: 0.0124 - val_loss: 517.3348 - val_acc: 0.0122\n",
      "Epoch 10/50\n",
      "120000/120000 [==============================] - 3s 28us/step - loss: 562.9612 - acc: 0.0131 - val_loss: 517.1766 - val_acc: 0.0139\n",
      "Epoch 11/50\n",
      "120000/120000 [==============================] - 3s 28us/step - loss: 562.5661 - acc: 0.0127 - val_loss: 516.8055 - val_acc: 0.0120\n",
      "Epoch 12/50\n",
      "120000/120000 [==============================] - 3s 28us/step - loss: 562.2514 - acc: 0.0127 - val_loss: 516.5296 - val_acc: 0.0128\n",
      "Epoch 13/50\n",
      "120000/120000 [==============================] - 3s 28us/step - loss: 561.9617 - acc: 0.0134 - val_loss: 516.4581 - val_acc: 0.0119\n",
      "Epoch 14/50\n",
      "120000/120000 [==============================] - 3s 28us/step - loss: 561.6841 - acc: 0.0132 - val_loss: 516.1995 - val_acc: 0.0113\n",
      "Epoch 15/50\n",
      "120000/120000 [==============================] - 3s 28us/step - loss: 561.4894 - acc: 0.0136 - val_loss: 516.1145 - val_acc: 0.0125\n",
      "Epoch 16/50\n",
      "120000/120000 [==============================] - 3s 29us/step - loss: 561.2463 - acc: 0.0137 - val_loss: 515.8139 - val_acc: 0.0121\n",
      "Epoch 17/50\n",
      "120000/120000 [==============================] - 3s 28us/step - loss: 561.0834 - acc: 0.0143 - val_loss: 515.9232 - val_acc: 0.0121\n",
      "Epoch 18/50\n",
      "120000/120000 [==============================] - 3s 28us/step - loss: 560.8825 - acc: 0.0142 - val_loss: 515.6699 - val_acc: 0.0129\n",
      "Epoch 19/50\n",
      "120000/120000 [==============================] - 3s 28us/step - loss: 560.7406 - acc: 0.0146 - val_loss: 515.3757 - val_acc: 0.0126\n",
      "Epoch 20/50\n",
      "120000/120000 [==============================] - 3s 27us/step - loss: 560.5951 - acc: 0.0144 - val_loss: 515.2499 - val_acc: 0.0141\n",
      "Epoch 21/50\n",
      "120000/120000 [==============================] - 3s 28us/step - loss: 560.4891 - acc: 0.0143 - val_loss: 515.5526 - val_acc: 0.0145\n",
      "Epoch 22/50\n",
      "120000/120000 [==============================] - 3s 28us/step - loss: 560.3356 - acc: 0.0145 - val_loss: 515.0359 - val_acc: 0.0163\n",
      "Epoch 23/50\n",
      "120000/120000 [==============================] - 3s 28us/step - loss: 560.2134 - acc: 0.0148 - val_loss: 515.0584 - val_acc: 0.0127\n",
      "Epoch 24/50\n",
      "120000/120000 [==============================] - 3s 28us/step - loss: 560.1382 - acc: 0.0147 - val_loss: 515.0900 - val_acc: 0.0124\n",
      "Epoch 25/50\n",
      "120000/120000 [==============================] - 3s 28us/step - loss: 560.0317 - acc: 0.0146 - val_loss: 514.8468 - val_acc: 0.0130\n",
      "Epoch 26/50\n",
      "120000/120000 [==============================] - 3s 28us/step - loss: 559.9374 - acc: 0.0153 - val_loss: 515.0401 - val_acc: 0.0134\n",
      "Epoch 27/50\n",
      "120000/120000 [==============================] - 3s 28us/step - loss: 559.8609 - acc: 0.0151 - val_loss: 514.7410 - val_acc: 0.0145\n",
      "Epoch 28/50\n",
      "120000/120000 [==============================] - 3s 28us/step - loss: 559.7781 - acc: 0.0148 - val_loss: 514.7826 - val_acc: 0.0112\n",
      "Epoch 29/50\n",
      "120000/120000 [==============================] - 4s 29us/step - loss: 559.6891 - acc: 0.0151 - val_loss: 514.7620 - val_acc: 0.0125\n",
      "Epoch 30/50\n",
      "120000/120000 [==============================] - 3s 28us/step - loss: 559.6127 - acc: 0.0153 - val_loss: 514.6291 - val_acc: 0.0158\n",
      "Epoch 31/50\n",
      "120000/120000 [==============================] - 3s 28us/step - loss: 559.5683 - acc: 0.0152 - val_loss: 514.4706 - val_acc: 0.0144\n",
      "Epoch 32/50\n",
      "120000/120000 [==============================] - 3s 29us/step - loss: 559.4929 - acc: 0.0155 - val_loss: 514.5157 - val_acc: 0.0146\n",
      "Epoch 33/50\n",
      "120000/120000 [==============================] - 3s 29us/step - loss: 559.4222 - acc: 0.0157 - val_loss: 514.5098 - val_acc: 0.0137\n",
      "Epoch 34/50\n",
      "120000/120000 [==============================] - 3s 28us/step - loss: 559.3625 - acc: 0.0157 - val_loss: 514.3647 - val_acc: 0.0143\n",
      "Epoch 35/50\n",
      "120000/120000 [==============================] - 3s 28us/step - loss: 559.3242 - acc: 0.0154 - val_loss: 514.4526 - val_acc: 0.0129\n",
      "Epoch 36/50\n",
      "120000/120000 [==============================] - 3s 28us/step - loss: 559.2682 - acc: 0.0153 - val_loss: 514.2844 - val_acc: 0.0155\n",
      "Epoch 37/50\n",
      "120000/120000 [==============================] - 3s 28us/step - loss: 559.2117 - acc: 0.0159 - val_loss: 514.3456 - val_acc: 0.0139\n",
      "Epoch 38/50\n",
      "120000/120000 [==============================] - 3s 28us/step - loss: 559.1686 - acc: 0.0155 - val_loss: 514.2649 - val_acc: 0.0159\n",
      "Epoch 39/50\n",
      "120000/120000 [==============================] - 3s 28us/step - loss: 559.1017 - acc: 0.0156 - val_loss: 514.2196 - val_acc: 0.0165\n",
      "Epoch 40/50\n",
      "120000/120000 [==============================] - 3s 28us/step - loss: 559.0844 - acc: 0.0156 - val_loss: 514.1515 - val_acc: 0.0151\n",
      "Epoch 41/50\n",
      "120000/120000 [==============================] - 3s 27us/step - loss: 559.0168 - acc: 0.0160 - val_loss: 514.1221 - val_acc: 0.0174\n",
      "Epoch 42/50\n",
      "120000/120000 [==============================] - 4s 29us/step - loss: 558.9881 - acc: 0.0160 - val_loss: 514.1156 - val_acc: 0.0164\n",
      "Epoch 43/50\n",
      "120000/120000 [==============================] - 3s 28us/step - loss: 558.9494 - acc: 0.0161 - val_loss: 514.1805 - val_acc: 0.0147\n",
      "Epoch 44/50\n",
      "120000/120000 [==============================] - 3s 28us/step - loss: 558.8885 - acc: 0.0164 - val_loss: 514.0478 - val_acc: 0.0168\n",
      "Epoch 45/50\n",
      "120000/120000 [==============================] - 3s 28us/step - loss: 558.8644 - acc: 0.0162 - val_loss: 514.0718 - val_acc: 0.0134\n",
      "Epoch 46/50\n",
      "120000/120000 [==============================] - 3s 28us/step - loss: 558.8346 - acc: 0.0165 - val_loss: 513.9967 - val_acc: 0.0139\n",
      "Epoch 47/50\n",
      "120000/120000 [==============================] - 3s 28us/step - loss: 558.7825 - acc: 0.0163 - val_loss: 514.0060 - val_acc: 0.0134\n",
      "Epoch 48/50\n",
      "120000/120000 [==============================] - 3s 28us/step - loss: 558.7659 - acc: 0.0162 - val_loss: 513.9645 - val_acc: 0.0138\n",
      "Epoch 49/50\n",
      "120000/120000 [==============================] - 3s 28us/step - loss: 558.7247 - acc: 0.0165 - val_loss: 513.9103 - val_acc: 0.0148\n",
      "Epoch 50/50\n",
      "120000/120000 [==============================] - 3s 28us/step - loss: 558.7012 - acc: 0.0166 - val_loss: 513.9919 - val_acc: 0.0175\n"
     ]
    }
   ],
   "source": [
    "ae_hist = ae_model.fit(data_total_train, data_total_train,\n",
    "                       validation_data=(data_test, data_test),\n",
    "                       shuffle=True,\n",
    "                       epochs=50,\n",
    "                       batch_size=256)"
   ]
  },
  {
   "cell_type": "code",
   "execution_count": 0,
   "metadata": {
    "colab": {},
    "colab_type": "code",
    "id": "5CjKifVRNMMV"
   },
   "outputs": [],
   "source": [
    "#Using the defense\n",
    "\n",
    "#Use DAE to to remove adversarial perturbation \n",
    "restorations = ae_model.predict(dfa_perturbations)"
   ]
  },
  {
   "cell_type": "code",
   "execution_count": 0,
   "metadata": {
    "colab": {
     "base_uri": "https://localhost:8080/",
     "height": 52
    },
    "colab_type": "code",
    "id": "PxzFxNn1YhSy",
    "outputId": "b62d2187-fe38-469b-879c-6496acc7689b"
   },
   "outputs": [
    {
     "name": "stdout",
     "output_type": "stream",
     "text": [
      "10000/10000 [==============================] - 1s 58us/step\n",
      "Accuracy: 90.81%\n"
     ]
    }
   ],
   "source": [
    "#Evaluate accuracy on target classifier \n",
    "dfa_adv_scores = mnist_classifier.evaluate(restorations, labels_test)\n",
    "print(\"Accuracy: %.2f%%\"%(dfa_adv_scores[1]*100))"
   ]
  },
  {
   "cell_type": "code",
   "execution_count": 0,
   "metadata": {
    "colab": {
     "base_uri": "https://localhost:8080/",
     "height": 729
    },
    "colab_type": "code",
    "id": "6NSAW0v3NSMB",
    "outputId": "7f963ea8-a84e-4c61-bf30-a82081006ed8"
   },
   "outputs": [
    {
     "data": {
      "image/png": "[encoded data removed]",
      "text/plain": [
       "<Figure size 720x720 with 30 Axes>"
      ]
     },
     "metadata": {
      "tags": []
     },
     "output_type": "display_data"
    }
   ],
   "source": [
    "#Show ten samples of adversarial samples after denoising\n",
    "data_test_show = data_test.reshape(-1, 28, 28)\n",
    "dfa_perturbations_show = dfa_perturbations.reshape(-1, 28, 28)\n",
    "restorations_show = restorations.reshape(-1, 28, 28)\n",
    "\n",
    "cols = [' Original Samples',\n",
    "        ' DFA Adversarial Samples',\n",
    "        ' DFA Adversarial Samples after De-noising']\n",
    "fig, axes = plt.subplots(nrows=10, ncols=3, figsize=(10, 10))\n",
    "for i in range(10):\n",
    "  axes[i, 0].imshow(data_test_show[i,:,:], \n",
    "                   cmap=plt.cm.gray)\n",
    "  axes[i, 1].imshow(dfa_perturbations_show[i,:,:],\n",
    "                    cmap=plt.cm.gray)\n",
    "  axes[i, 2].imshow(restorations_show[i,:,:],\n",
    "                    cmap=plt.cm.gray)\n",
    "  for ax, col in zip(axes[0], cols):\n",
    "    ax.set_title(col)\n",
    "  for j in range(3):\n",
    "    axes[i, j].get_xaxis().set_visible(False)\n",
    "    axes[i, j].get_yaxis().set_visible(False)\n",
    "fig.tight_layout()\n",
    "plt.show()"
   ]
  }
 ],
 "metadata": {
  "accelerator": "GPU",
  "colab": {
   "collapsed_sections": [],
   "machine_shape": "hm",
   "name": "P4_RajasekahranPillai_MualiKrishnan_AML.ipynb",
   "provenance": []
  },
  "kernelspec": {
   "display_name": "py36-tf1",
   "language": "python",
   "name": "python3"
  },
  "language_info": {
   "codemirror_mode": {
    "name": "ipython",
    "version": 3
   },
   "file_extension": ".py",
   "mimetype": "text/x-python",
   "name": "python",
   "nbconvert_exporter": "python",
   "pygments_lexer": "ipython3",
   "version": "3.6.9"
  }
 },
 "nbformat": 4,
 "nbformat_minor": 1
}
