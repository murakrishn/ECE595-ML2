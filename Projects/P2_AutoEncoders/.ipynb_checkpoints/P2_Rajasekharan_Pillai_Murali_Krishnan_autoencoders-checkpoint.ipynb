{
 "cells": [
  {
   "cell_type": "markdown",
   "metadata": {
    "colab_type": "text",
    "id": "xR4A9aGPpiuZ"
   },
   "source": [
    "#Student Name: Murali Krishnan Rajasekharan Pillai\n",
    "#ECE 595 Machine Learning II\n",
    "#Project 2: Autoencoders - Student Code"
   ]
  },
  {
   "cell_type": "code",
   "execution_count": 1,
   "metadata": {
    "colab": {
     "base_uri": "https://localhost:8080/",
     "height": 306
    },
    "colab_type": "code",
    "id": "K1t9JmX1ycW6",
    "outputId": "80bf0151-0eb6-469b-f1a4-670c409f9186"
   },
   "outputs": [
    {
     "name": "stdout",
     "output_type": "stream",
     "text": [
      "Mon Sep 30 23:26:47 2019       \n",
      "+-----------------------------------------------------------------------------+\n",
      "| NVIDIA-SMI 430.40       Driver Version: 418.67       CUDA Version: 10.1     |\n",
      "|-------------------------------+----------------------+----------------------+\n",
      "| GPU  Name        Persistence-M| Bus-Id        Disp.A | Volatile Uncorr. ECC |\n",
      "| Fan  Temp  Perf  Pwr:Usage/Cap|         Memory-Usage | GPU-Util  Compute M. |\n",
      "|===============================+======================+======================|\n",
      "|   0  Tesla K80           Off  | 00000000:00:04.0 Off |                    0 |\n",
      "| N/A   33C    P8    29W / 149W |      0MiB / 11441MiB |      0%      Default |\n",
      "+-------------------------------+----------------------+----------------------+\n",
      "                                                                               \n",
      "+-----------------------------------------------------------------------------+\n",
      "| Processes:                                                       GPU Memory |\n",
      "|  GPU       PID   Type   Process name                             Usage      |\n",
      "|=============================================================================|\n",
      "|  No running processes found                                                 |\n",
      "+-----------------------------------------------------------------------------+\n"
     ]
    }
   ],
   "source": [
    "!nvidia-smi"
   ]
  },
  {
   "cell_type": "code",
   "execution_count": 2,
   "metadata": {
    "colab": {
     "base_uri": "https://localhost:8080/",
     "height": 34
    },
    "colab_type": "code",
    "id": "viCY7Zn5psMN",
    "outputId": "259cc4a0-48f3-4e38-a12f-77b04af976c1"
   },
   "outputs": [
    {
     "name": "stderr",
     "output_type": "stream",
     "text": [
      "Using TensorFlow backend.\n"
     ]
    }
   ],
   "source": [
    "#Import necessary packages\n",
    "import numpy as np\n",
    "from keras.datasets import mnist\n",
    "from keras.layers import Dense, Conv2D, MaxPooling2D, UpSampling2D\n",
    "from keras.models import Sequential\n",
    "import matplotlib.pyplot as plt\n",
    "from keras import backend as K\n",
    "import pickle"
   ]
  },
  {
   "cell_type": "markdown",
   "metadata": {
    "colab_type": "text",
    "id": "2vATVUR9pxNT"
   },
   "source": [
    "#Part 0: Importing and Normalizing Data"
   ]
  },
  {
   "cell_type": "code",
   "execution_count": 3,
   "metadata": {
    "colab": {
     "base_uri": "https://localhost:8080/",
     "height": 51
    },
    "colab_type": "code",
    "id": "nN1cUmn1p0vn",
    "outputId": "0c43003e-28db-4611-e4f7-db82e07c62a8"
   },
   "outputs": [
    {
     "name": "stdout",
     "output_type": "stream",
     "text": [
      "Downloading data from https://s3.amazonaws.com/img-datasets/mnist.npz\n",
      "11493376/11490434 [==============================] - 2s 0us/step\n"
     ]
    }
   ],
   "source": [
    "#Load MNIST data and normalize to [0,1]\n",
    "(data_train, _), (data_test, _) = mnist.load_data()\n",
    "data_train = data_train/255.0\n",
    "data_test = data_test/255.0"
   ]
  },
  {
   "cell_type": "code",
   "execution_count": 0,
   "metadata": {
    "colab": {},
    "colab_type": "code",
    "id": "DUwjSmhTp9w1"
   },
   "outputs": [],
   "source": [
    "#Reshape training and testing data into 784-dimensional vectors\n",
    "data_train = data_train.reshape(-1, 784)\n",
    "data_test = data_test.reshape(-1, 784)"
   ]
  },
  {
   "cell_type": "markdown",
   "metadata": {
    "colab_type": "text",
    "id": "Yu2WUcQZgPT9"
   },
   "source": [
    "# Part 1 : Fully Connected Autoencoder"
   ]
  },
  {
   "cell_type": "code",
   "execution_count": 0,
   "metadata": {
    "colab": {},
    "colab_type": "code",
    "id": "Vb3KExLvhAPj"
   },
   "outputs": [],
   "source": [
    "class deep_autoencoder:\n",
    "  def __init__(self, ndim):\n",
    "    self.ndim = ndim\n",
    "    self.model = self._build_model()\n",
    "\n",
    "  \n",
    "  def _build_model(self):\n",
    "    model = Sequential()\n",
    "    # First Hidden Layer\n",
    "    model.add(Dense(400,\n",
    "                    activation='relu',\n",
    "                    kernel_initializer='uniform',\n",
    "                    input_dim=self.ndim))\n",
    "    # Second Hidden Layer\n",
    "    model.add(Dense(200,\n",
    "                    activation='relu',\n",
    "                    kernel_initializer='uniform'))\n",
    "    # third Hidden Layer (BottleNeck)\n",
    "    model.add(Dense(100,\n",
    "                    activation='relu',\n",
    "                    kernel_initializer='uniform'))\n",
    "    # Fourth Hidden Layer\n",
    "    model.add(Dense(200,\n",
    "                    activation='relu',\n",
    "                    kernel_initializer='uniform'))\n",
    "    # Fifth Hidden Layer\n",
    "    model.add(Dense(400,\n",
    "                    activation='relu',\n",
    "                    kernel_initializer='uniform'))\n",
    "    # Output Layer                                                                                                          \n",
    "    model.add(Dense(self.ndim,\n",
    "                    activation='sigmoid',\n",
    "                    kernel_initializer='uniform'))\n",
    "    return model\n",
    "    \n",
    "    def save(self, name):\n",
    "      self.model.save_weights(name)\n"
   ]
  },
  {
   "cell_type": "code",
   "execution_count": 6,
   "metadata": {
    "colab": {
     "base_uri": "https://localhost:8080/",
     "height": 173
    },
    "colab_type": "code",
    "id": "_ho3e5V-q0W9",
    "outputId": "ee811403-37f1-47ac-8d61-44482d284fe3"
   },
   "outputs": [
    {
     "name": "stdout",
     "output_type": "stream",
     "text": [
      "WARNING:tensorflow:From /usr/local/lib/python3.6/dist-packages/keras/backend/tensorflow_backend.py:66: The name tf.get_default_graph is deprecated. Please use tf.compat.v1.get_default_graph instead.\n",
      "\n",
      "WARNING:tensorflow:From /usr/local/lib/python3.6/dist-packages/keras/backend/tensorflow_backend.py:541: The name tf.placeholder is deprecated. Please use tf.compat.v1.placeholder instead.\n",
      "\n",
      "WARNING:tensorflow:From /usr/local/lib/python3.6/dist-packages/keras/backend/tensorflow_backend.py:4432: The name tf.random_uniform is deprecated. Please use tf.random.uniform instead.\n",
      "\n",
      "WARNING:tensorflow:From /usr/local/lib/python3.6/dist-packages/keras/optimizers.py:793: The name tf.train.Optimizer is deprecated. Please use tf.compat.v1.train.Optimizer instead.\n",
      "\n"
     ]
    }
   ],
   "source": [
    "autoencoder = deep_autoencoder(784)\n",
    "autoencoder.model.compile(loss='mse',\n",
    "                          optimizer='adam')"
   ]
  },
  {
   "cell_type": "code",
   "execution_count": 0,
   "metadata": {
    "colab": {},
    "colab_type": "code",
    "id": "mI8xM_WZq11a"
   },
   "outputs": [],
   "source": [
    "batch_size = 1024\n",
    "num_epochs = 150"
   ]
  },
  {
   "cell_type": "code",
   "execution_count": 8,
   "metadata": {
    "colab": {
     "base_uri": "https://localhost:8080/",
     "height": 5222
    },
    "colab_type": "code",
    "id": "KrMbJEEQq-s3",
    "outputId": "68ec469f-eaa3-4299-d9a1-5feec3805791",
    "scrolled": false
   },
   "outputs": [
    {
     "name": "stdout",
     "output_type": "stream",
     "text": [
      "WARNING:tensorflow:From /usr/local/lib/python3.6/dist-packages/keras/backend/tensorflow_backend.py:1033: The name tf.assign_add is deprecated. Please use tf.compat.v1.assign_add instead.\n",
      "\n",
      "WARNING:tensorflow:From /usr/local/lib/python3.6/dist-packages/keras/backend/tensorflow_backend.py:1020: The name tf.assign is deprecated. Please use tf.compat.v1.assign instead.\n",
      "\n",
      "Train on 60000 samples, validate on 10000 samples\n",
      "Epoch 1/150\n",
      "60000/60000 [==============================] - 6s 93us/step - loss: 0.1063 - val_loss: 0.0727\n",
      "Epoch 2/150\n",
      "60000/60000 [==============================] - 1s 21us/step - loss: 0.0686 - val_loss: 0.0638\n",
      "Epoch 3/150\n",
      "60000/60000 [==============================] - 1s 21us/step - loss: 0.0597 - val_loss: 0.0561\n",
      "Epoch 4/150\n",
      "60000/60000 [==============================] - 1s 21us/step - loss: 0.0531 - val_loss: 0.0484\n",
      "Epoch 5/150\n",
      "60000/60000 [==============================] - 1s 21us/step - loss: 0.0443 - val_loss: 0.0393\n",
      "Epoch 6/150\n",
      "60000/60000 [==============================] - 1s 21us/step - loss: 0.0368 - val_loss: 0.0340\n",
      "Epoch 7/150\n",
      "60000/60000 [==============================] - 1s 21us/step - loss: 0.0328 - val_loss: 0.0309\n",
      "Epoch 8/150\n",
      "60000/60000 [==============================] - 1s 21us/step - loss: 0.0299 - val_loss: 0.0284\n",
      "Epoch 9/150\n",
      "60000/60000 [==============================] - 1s 21us/step - loss: 0.0276 - val_loss: 0.0260\n",
      "Epoch 10/150\n",
      "60000/60000 [==============================] - 1s 21us/step - loss: 0.0254 - val_loss: 0.0242\n",
      "Epoch 11/150\n",
      "60000/60000 [==============================] - 1s 21us/step - loss: 0.0239 - val_loss: 0.0231\n",
      "Epoch 12/150\n",
      "60000/60000 [==============================] - 1s 21us/step - loss: 0.0229 - val_loss: 0.0219\n",
      "Epoch 13/150\n",
      "60000/60000 [==============================] - 1s 21us/step - loss: 0.0217 - val_loss: 0.0210\n",
      "Epoch 14/150\n",
      "60000/60000 [==============================] - 1s 21us/step - loss: 0.0209 - val_loss: 0.0203\n",
      "Epoch 15/150\n",
      "60000/60000 [==============================] - 1s 21us/step - loss: 0.0203 - val_loss: 0.0198\n",
      "Epoch 16/150\n",
      "60000/60000 [==============================] - 1s 21us/step - loss: 0.0197 - val_loss: 0.0191\n",
      "Epoch 17/150\n",
      "60000/60000 [==============================] - 1s 21us/step - loss: 0.0190 - val_loss: 0.0186\n",
      "Epoch 18/150\n",
      "60000/60000 [==============================] - 1s 21us/step - loss: 0.0184 - val_loss: 0.0178\n",
      "Epoch 19/150\n",
      "60000/60000 [==============================] - 1s 21us/step - loss: 0.0178 - val_loss: 0.0173\n",
      "Epoch 20/150\n",
      "60000/60000 [==============================] - 1s 21us/step - loss: 0.0173 - val_loss: 0.0169\n",
      "Epoch 21/150\n",
      "60000/60000 [==============================] - 1s 21us/step - loss: 0.0168 - val_loss: 0.0163\n",
      "Epoch 22/150\n",
      "60000/60000 [==============================] - 1s 21us/step - loss: 0.0163 - val_loss: 0.0158\n",
      "Epoch 23/150\n",
      "60000/60000 [==============================] - 1s 21us/step - loss: 0.0157 - val_loss: 0.0153\n",
      "Epoch 24/150\n",
      "60000/60000 [==============================] - 1s 21us/step - loss: 0.0152 - val_loss: 0.0150\n",
      "Epoch 25/150\n",
      "60000/60000 [==============================] - 1s 21us/step - loss: 0.0148 - val_loss: 0.0145\n",
      "Epoch 26/150\n",
      "60000/60000 [==============================] - 1s 21us/step - loss: 0.0144 - val_loss: 0.0141\n",
      "Epoch 27/150\n",
      "60000/60000 [==============================] - 1s 21us/step - loss: 0.0141 - val_loss: 0.0137\n",
      "Epoch 28/150\n",
      "60000/60000 [==============================] - 1s 21us/step - loss: 0.0137 - val_loss: 0.0137\n",
      "Epoch 29/150\n",
      "60000/60000 [==============================] - 1s 21us/step - loss: 0.0134 - val_loss: 0.0131\n",
      "Epoch 30/150\n",
      "60000/60000 [==============================] - 1s 21us/step - loss: 0.0131 - val_loss: 0.0128\n",
      "Epoch 31/150\n",
      "60000/60000 [==============================] - 1s 21us/step - loss: 0.0128 - val_loss: 0.0125\n",
      "Epoch 32/150\n",
      "60000/60000 [==============================] - 1s 21us/step - loss: 0.0125 - val_loss: 0.0123\n",
      "Epoch 33/150\n",
      "60000/60000 [==============================] - 1s 21us/step - loss: 0.0123 - val_loss: 0.0120\n",
      "Epoch 34/150\n",
      "60000/60000 [==============================] - 1s 21us/step - loss: 0.0120 - val_loss: 0.0119\n",
      "Epoch 35/150\n",
      "60000/60000 [==============================] - 1s 21us/step - loss: 0.0118 - val_loss: 0.0118\n",
      "Epoch 36/150\n",
      "60000/60000 [==============================] - 1s 21us/step - loss: 0.0116 - val_loss: 0.0114\n",
      "Epoch 37/150\n",
      "60000/60000 [==============================] - 1s 21us/step - loss: 0.0113 - val_loss: 0.0113\n",
      "Epoch 38/150\n",
      "60000/60000 [==============================] - 1s 21us/step - loss: 0.0111 - val_loss: 0.0111\n",
      "Epoch 39/150\n",
      "60000/60000 [==============================] - 1s 21us/step - loss: 0.0110 - val_loss: 0.0110\n",
      "Epoch 40/150\n",
      "60000/60000 [==============================] - 1s 21us/step - loss: 0.0108 - val_loss: 0.0108\n",
      "Epoch 41/150\n",
      "60000/60000 [==============================] - 1s 21us/step - loss: 0.0106 - val_loss: 0.0106\n",
      "Epoch 42/150\n",
      "60000/60000 [==============================] - 1s 21us/step - loss: 0.0105 - val_loss: 0.0103\n",
      "Epoch 43/150\n",
      "60000/60000 [==============================] - 1s 21us/step - loss: 0.0103 - val_loss: 0.0102\n",
      "Epoch 44/150\n",
      "60000/60000 [==============================] - 1s 21us/step - loss: 0.0101 - val_loss: 0.0101\n",
      "Epoch 45/150\n",
      "60000/60000 [==============================] - 1s 21us/step - loss: 0.0100 - val_loss: 0.0099\n",
      "Epoch 46/150\n",
      "60000/60000 [==============================] - 1s 21us/step - loss: 0.0098 - val_loss: 0.0098\n",
      "Epoch 47/150\n",
      "60000/60000 [==============================] - 1s 21us/step - loss: 0.0097 - val_loss: 0.0097\n",
      "Epoch 48/150\n",
      "60000/60000 [==============================] - 1s 21us/step - loss: 0.0095 - val_loss: 0.0095\n",
      "Epoch 49/150\n",
      "60000/60000 [==============================] - 1s 21us/step - loss: 0.0094 - val_loss: 0.0094\n",
      "Epoch 50/150\n",
      "60000/60000 [==============================] - 1s 21us/step - loss: 0.0092 - val_loss: 0.0092\n",
      "Epoch 51/150\n",
      "60000/60000 [==============================] - 1s 21us/step - loss: 0.0091 - val_loss: 0.0092\n",
      "Epoch 52/150\n",
      "60000/60000 [==============================] - 1s 21us/step - loss: 0.0090 - val_loss: 0.0091\n",
      "Epoch 53/150\n",
      "60000/60000 [==============================] - 1s 21us/step - loss: 0.0089 - val_loss: 0.0090\n",
      "Epoch 54/150\n",
      "60000/60000 [==============================] - 1s 21us/step - loss: 0.0088 - val_loss: 0.0089\n",
      "Epoch 55/150\n",
      "60000/60000 [==============================] - 1s 21us/step - loss: 0.0087 - val_loss: 0.0088\n",
      "Epoch 56/150\n",
      "60000/60000 [==============================] - 1s 21us/step - loss: 0.0086 - val_loss: 0.0087\n",
      "Epoch 57/150\n",
      "60000/60000 [==============================] - 1s 21us/step - loss: 0.0085 - val_loss: 0.0085\n",
      "Epoch 58/150\n",
      "60000/60000 [==============================] - 1s 21us/step - loss: 0.0084 - val_loss: 0.0086\n",
      "Epoch 59/150\n",
      "60000/60000 [==============================] - 1s 21us/step - loss: 0.0083 - val_loss: 0.0084\n",
      "Epoch 60/150\n",
      "60000/60000 [==============================] - 1s 21us/step - loss: 0.0082 - val_loss: 0.0084\n",
      "Epoch 61/150\n",
      "60000/60000 [==============================] - 1s 21us/step - loss: 0.0082 - val_loss: 0.0082\n",
      "Epoch 62/150\n",
      "60000/60000 [==============================] - 1s 21us/step - loss: 0.0080 - val_loss: 0.0081\n",
      "Epoch 63/150\n",
      "60000/60000 [==============================] - 1s 21us/step - loss: 0.0080 - val_loss: 0.0081\n",
      "Epoch 64/150\n",
      "60000/60000 [==============================] - 1s 21us/step - loss: 0.0079 - val_loss: 0.0079\n",
      "Epoch 65/150\n",
      "60000/60000 [==============================] - 1s 21us/step - loss: 0.0078 - val_loss: 0.0080\n",
      "Epoch 66/150\n",
      "60000/60000 [==============================] - 1s 21us/step - loss: 0.0077 - val_loss: 0.0079\n",
      "Epoch 67/150\n",
      "60000/60000 [==============================] - 1s 21us/step - loss: 0.0077 - val_loss: 0.0077\n",
      "Epoch 68/150\n",
      "60000/60000 [==============================] - 1s 21us/step - loss: 0.0076 - val_loss: 0.0078\n",
      "Epoch 69/150\n",
      "60000/60000 [==============================] - 1s 21us/step - loss: 0.0075 - val_loss: 0.0077\n",
      "Epoch 70/150\n",
      "60000/60000 [==============================] - 1s 21us/step - loss: 0.0074 - val_loss: 0.0076\n",
      "Epoch 71/150\n",
      "60000/60000 [==============================] - 1s 21us/step - loss: 0.0074 - val_loss: 0.0076\n",
      "Epoch 72/150\n",
      "60000/60000 [==============================] - 1s 21us/step - loss: 0.0074 - val_loss: 0.0076\n",
      "Epoch 73/150\n",
      "60000/60000 [==============================] - 1s 21us/step - loss: 0.0073 - val_loss: 0.0075\n",
      "Epoch 74/150\n",
      "60000/60000 [==============================] - 1s 22us/step - loss: 0.0072 - val_loss: 0.0075\n",
      "Epoch 75/150\n",
      "60000/60000 [==============================] - 1s 21us/step - loss: 0.0072 - val_loss: 0.0074\n",
      "Epoch 76/150\n",
      "60000/60000 [==============================] - 1s 22us/step - loss: 0.0071 - val_loss: 0.0073\n",
      "Epoch 77/150\n",
      "60000/60000 [==============================] - 1s 22us/step - loss: 0.0071 - val_loss: 0.0072\n",
      "Epoch 78/150\n",
      "60000/60000 [==============================] - 1s 21us/step - loss: 0.0070 - val_loss: 0.0072\n",
      "Epoch 79/150\n",
      "60000/60000 [==============================] - 1s 21us/step - loss: 0.0070 - val_loss: 0.0073\n",
      "Epoch 80/150\n",
      "60000/60000 [==============================] - 1s 21us/step - loss: 0.0069 - val_loss: 0.0071\n",
      "Epoch 81/150\n",
      "60000/60000 [==============================] - 1s 21us/step - loss: 0.0069 - val_loss: 0.0071\n",
      "Epoch 82/150\n",
      "60000/60000 [==============================] - 1s 21us/step - loss: 0.0068 - val_loss: 0.0070\n",
      "Epoch 83/150\n",
      "60000/60000 [==============================] - 1s 21us/step - loss: 0.0068 - val_loss: 0.0070\n",
      "Epoch 84/150\n",
      "60000/60000 [==============================] - 1s 21us/step - loss: 0.0067 - val_loss: 0.0070\n",
      "Epoch 85/150\n",
      "60000/60000 [==============================] - 1s 22us/step - loss: 0.0067 - val_loss: 0.0069\n",
      "Epoch 86/150\n",
      "60000/60000 [==============================] - 1s 21us/step - loss: 0.0066 - val_loss: 0.0069\n",
      "Epoch 87/150\n",
      "60000/60000 [==============================] - 1s 22us/step - loss: 0.0066 - val_loss: 0.0069\n",
      "Epoch 88/150\n",
      "60000/60000 [==============================] - 1s 21us/step - loss: 0.0066 - val_loss: 0.0069\n",
      "Epoch 89/150\n",
      "60000/60000 [==============================] - 1s 21us/step - loss: 0.0065 - val_loss: 0.0068\n",
      "Epoch 90/150\n",
      "60000/60000 [==============================] - 1s 21us/step - loss: 0.0065 - val_loss: 0.0067\n",
      "Epoch 91/150\n",
      "60000/60000 [==============================] - 1s 21us/step - loss: 0.0064 - val_loss: 0.0067\n",
      "Epoch 92/150\n",
      "60000/60000 [==============================] - 1s 21us/step - loss: 0.0064 - val_loss: 0.0066\n",
      "Epoch 93/150\n",
      "60000/60000 [==============================] - 1s 22us/step - loss: 0.0064 - val_loss: 0.0066\n",
      "Epoch 94/150\n",
      "60000/60000 [==============================] - 1s 21us/step - loss: 0.0063 - val_loss: 0.0066\n",
      "Epoch 95/150\n",
      "60000/60000 [==============================] - 1s 22us/step - loss: 0.0063 - val_loss: 0.0066\n",
      "Epoch 96/150\n",
      "60000/60000 [==============================] - 1s 22us/step - loss: 0.0063 - val_loss: 0.0065\n",
      "Epoch 97/150\n",
      "60000/60000 [==============================] - 1s 21us/step - loss: 0.0062 - val_loss: 0.0065\n",
      "Epoch 98/150\n",
      "60000/60000 [==============================] - 1s 21us/step - loss: 0.0062 - val_loss: 0.0064\n",
      "Epoch 99/150\n",
      "60000/60000 [==============================] - 1s 21us/step - loss: 0.0062 - val_loss: 0.0063\n",
      "Epoch 100/150\n",
      "60000/60000 [==============================] - 1s 21us/step - loss: 0.0061 - val_loss: 0.0063\n",
      "Epoch 101/150\n",
      "60000/60000 [==============================] - 1s 21us/step - loss: 0.0061 - val_loss: 0.0064\n",
      "Epoch 102/150\n",
      "60000/60000 [==============================] - 1s 21us/step - loss: 0.0060 - val_loss: 0.0062\n",
      "Epoch 103/150\n",
      "60000/60000 [==============================] - 1s 21us/step - loss: 0.0060 - val_loss: 0.0062\n",
      "Epoch 104/150\n",
      "60000/60000 [==============================] - 1s 21us/step - loss: 0.0059 - val_loss: 0.0062\n",
      "Epoch 105/150\n",
      "60000/60000 [==============================] - 1s 21us/step - loss: 0.0059 - val_loss: 0.0062\n",
      "Epoch 106/150\n",
      "60000/60000 [==============================] - 1s 21us/step - loss: 0.0059 - val_loss: 0.0063\n",
      "Epoch 107/150\n",
      "60000/60000 [==============================] - 1s 21us/step - loss: 0.0059 - val_loss: 0.0061\n",
      "Epoch 108/150\n",
      "60000/60000 [==============================] - 1s 21us/step - loss: 0.0058 - val_loss: 0.0061\n",
      "Epoch 109/150\n",
      "60000/60000 [==============================] - 1s 21us/step - loss: 0.0058 - val_loss: 0.0061\n",
      "Epoch 110/150\n",
      "60000/60000 [==============================] - 1s 21us/step - loss: 0.0058 - val_loss: 0.0060\n",
      "Epoch 111/150\n",
      "60000/60000 [==============================] - 1s 21us/step - loss: 0.0057 - val_loss: 0.0060\n",
      "Epoch 112/150\n",
      "60000/60000 [==============================] - 1s 22us/step - loss: 0.0057 - val_loss: 0.0059\n",
      "Epoch 113/150\n",
      "60000/60000 [==============================] - 1s 22us/step - loss: 0.0057 - val_loss: 0.0059\n",
      "Epoch 114/150\n",
      "60000/60000 [==============================] - 1s 21us/step - loss: 0.0056 - val_loss: 0.0059\n",
      "Epoch 115/150\n",
      "60000/60000 [==============================] - 1s 22us/step - loss: 0.0056 - val_loss: 0.0059\n",
      "Epoch 116/150\n",
      "60000/60000 [==============================] - 1s 21us/step - loss: 0.0056 - val_loss: 0.0059\n",
      "Epoch 117/150\n",
      "60000/60000 [==============================] - 1s 21us/step - loss: 0.0056 - val_loss: 0.0059\n",
      "Epoch 118/150\n",
      "60000/60000 [==============================] - 1s 22us/step - loss: 0.0055 - val_loss: 0.0058\n",
      "Epoch 119/150\n",
      "60000/60000 [==============================] - 1s 22us/step - loss: 0.0055 - val_loss: 0.0058\n",
      "Epoch 120/150\n",
      "60000/60000 [==============================] - 1s 22us/step - loss: 0.0055 - val_loss: 0.0057\n",
      "Epoch 121/150\n",
      "60000/60000 [==============================] - 1s 22us/step - loss: 0.0055 - val_loss: 0.0058\n",
      "Epoch 122/150\n",
      "60000/60000 [==============================] - 1s 21us/step - loss: 0.0055 - val_loss: 0.0057\n",
      "Epoch 123/150\n",
      "60000/60000 [==============================] - 1s 21us/step - loss: 0.0054 - val_loss: 0.0057\n",
      "Epoch 124/150\n",
      "60000/60000 [==============================] - 1s 22us/step - loss: 0.0054 - val_loss: 0.0057\n",
      "Epoch 125/150\n",
      "60000/60000 [==============================] - 1s 21us/step - loss: 0.0054 - val_loss: 0.0057\n",
      "Epoch 126/150\n",
      "60000/60000 [==============================] - 1s 21us/step - loss: 0.0054 - val_loss: 0.0056\n",
      "Epoch 127/150\n",
      "60000/60000 [==============================] - 1s 21us/step - loss: 0.0053 - val_loss: 0.0057\n",
      "Epoch 128/150\n",
      "60000/60000 [==============================] - 1s 22us/step - loss: 0.0053 - val_loss: 0.0057\n",
      "Epoch 129/150\n",
      "60000/60000 [==============================] - 1s 21us/step - loss: 0.0053 - val_loss: 0.0056\n",
      "Epoch 130/150\n",
      "60000/60000 [==============================] - 1s 21us/step - loss: 0.0053 - val_loss: 0.0055\n",
      "Epoch 131/150\n",
      "60000/60000 [==============================] - 1s 21us/step - loss: 0.0052 - val_loss: 0.0055\n",
      "Epoch 132/150\n",
      "60000/60000 [==============================] - 1s 22us/step - loss: 0.0052 - val_loss: 0.0055\n",
      "Epoch 133/150\n",
      "60000/60000 [==============================] - 1s 21us/step - loss: 0.0052 - val_loss: 0.0055\n",
      "Epoch 134/150\n",
      "60000/60000 [==============================] - 1s 22us/step - loss: 0.0052 - val_loss: 0.0055\n",
      "Epoch 135/150\n",
      "60000/60000 [==============================] - 1s 21us/step - loss: 0.0051 - val_loss: 0.0054\n",
      "Epoch 136/150\n",
      "60000/60000 [==============================] - 1s 21us/step - loss: 0.0051 - val_loss: 0.0054\n",
      "Epoch 137/150\n",
      "60000/60000 [==============================] - 1s 21us/step - loss: 0.0051 - val_loss: 0.0054\n",
      "Epoch 138/150\n",
      "60000/60000 [==============================] - 1s 21us/step - loss: 0.0051 - val_loss: 0.0054\n",
      "Epoch 139/150\n",
      "60000/60000 [==============================] - 1s 22us/step - loss: 0.0051 - val_loss: 0.0054\n",
      "Epoch 140/150\n",
      "60000/60000 [==============================] - 1s 22us/step - loss: 0.0051 - val_loss: 0.0055\n",
      "Epoch 141/150\n",
      "60000/60000 [==============================] - 1s 22us/step - loss: 0.0050 - val_loss: 0.0053\n",
      "Epoch 142/150\n",
      "60000/60000 [==============================] - 1s 21us/step - loss: 0.0050 - val_loss: 0.0053\n",
      "Epoch 143/150\n",
      "60000/60000 [==============================] - 1s 21us/step - loss: 0.0050 - val_loss: 0.0054\n",
      "Epoch 144/150\n",
      "60000/60000 [==============================] - 1s 22us/step - loss: 0.0050 - val_loss: 0.0053\n",
      "Epoch 145/150\n",
      "60000/60000 [==============================] - 1s 21us/step - loss: 0.0050 - val_loss: 0.0053\n",
      "Epoch 146/150\n",
      "60000/60000 [==============================] - 1s 21us/step - loss: 0.0049 - val_loss: 0.0054\n",
      "Epoch 147/150\n",
      "60000/60000 [==============================] - 1s 21us/step - loss: 0.0050 - val_loss: 0.0053\n",
      "Epoch 148/150\n",
      "60000/60000 [==============================] - 1s 21us/step - loss: 0.0049 - val_loss: 0.0052\n",
      "Epoch 149/150\n",
      "60000/60000 [==============================] - 1s 21us/step - loss: 0.0049 - val_loss: 0.0053\n",
      "Epoch 150/150\n",
      "60000/60000 [==============================] - 1s 22us/step - loss: 0.0049 - val_loss: 0.0052\n"
     ]
    }
   ],
   "source": [
    "autoencoder_history = autoencoder.model.fit(data_train, data_train,\n",
    "                                            validation_data=(data_test, data_test),\n",
    "                                            epochs=num_epochs,\n",
    "                                            batch_size=batch_size,\n",
    "                                            shuffle=True)"
   ]
  },
  {
   "cell_type": "code",
   "execution_count": 0,
   "metadata": {
    "colab": {},
    "colab_type": "code",
    "id": "PRGGfFVYqwqS"
   },
   "outputs": [],
   "source": [
    "reconstructions = autoencoder.model.predict(data_test)"
   ]
  },
  {
   "cell_type": "code",
   "execution_count": 0,
   "metadata": {
    "colab": {},
    "colab_type": "code",
    "id": "neIfZmr-rY3l"
   },
   "outputs": [],
   "source": [
    "get_in = K.function([autoencoder.model.layers[0].input], [autoencoder.model.layers[0].output])\n",
    "get_h = K.function([autoencoder.model.layers[1].input], [autoencoder.model.layers[1].output])\n",
    "get_hl = K.function([autoencoder.model.layers[2].input], [autoencoder.model.layers[2].output])\n",
    "data_test_hidden_layer_rep = get_hl(get_h(get_in([data_test])))[0]"
   ]
  },
  {
   "cell_type": "markdown",
   "metadata": {
    "colab_type": "text",
    "id": "3IWuBN8ufFqj"
   },
   "source": [
    "## Original Test Data"
   ]
  },
  {
   "cell_type": "code",
   "execution_count": 11,
   "metadata": {
    "colab": {
     "base_uri": "https://localhost:8080/",
     "height": 145
    },
    "colab_type": "code",
    "id": "KAXvMAFWwaLR",
    "outputId": "935af4b8-445d-4aaa-b2b1-ac8814d3f4d7"
   },
   "outputs": [
    {
     "data": {
      "image/png": "[encoded data removed]",
      "text/plain": [
       "<Figure size 1440x288 with 10 Axes>"
      ]
     },
     "metadata": {
      "tags": []
     },
     "output_type": "display_data"
    }
   ],
   "source": [
    "n = 10\n",
    "plt.figure(figsize=(20, 4))\n",
    "for i in range(n):\n",
    "  ax = plt.subplot(1, n, i+1)\n",
    "  plt.imshow(data_test[i].reshape(28, 28))\n",
    "  \n",
    "  plt.gray()\n",
    "  ax.get_xaxis().set_visible(False)\n",
    "  ax.get_yaxis().set_visible(False)"
   ]
  },
  {
   "cell_type": "markdown",
   "metadata": {
    "colab_type": "text",
    "id": "7Bwzfm60fPeU"
   },
   "source": [
    "## Reconstructed Hidden Layer Representation"
   ]
  },
  {
   "cell_type": "code",
   "execution_count": 12,
   "metadata": {
    "colab": {
     "base_uri": "https://localhost:8080/",
     "height": 145
    },
    "colab_type": "code",
    "id": "4wRTTZi6tj68",
    "outputId": "1ab81f82-7ec6-4a22-9629-c406739c9d5f"
   },
   "outputs": [
    {
     "data": {
      "image/png": "[encoded data removed]",
      "text/plain": [
       "<Figure size 1440x288 with 10 Axes>"
      ]
     },
     "metadata": {
      "tags": []
     },
     "output_type": "display_data"
    }
   ],
   "source": [
    "n = 10\n",
    "plt.figure(figsize=(20, 4))\n",
    "for i in range(n):\n",
    "  ax = plt.subplot(1, n, i+1)\n",
    "  plt.imshow(data_test_hidden_layer_rep[i].reshape(10, 10))\n",
    "  plt.gray()\n",
    "  ax.get_xaxis().set_visible(False)\n",
    "  ax.get_yaxis().set_visible(False)"
   ]
  },
  {
   "cell_type": "markdown",
   "metadata": {
    "colab_type": "text",
    "id": "IzoRrhFMfabG"
   },
   "source": [
    "## Reconstruction of the Original Test Data"
   ]
  },
  {
   "cell_type": "code",
   "execution_count": 13,
   "metadata": {
    "colab": {
     "base_uri": "https://localhost:8080/",
     "height": 145
    },
    "colab_type": "code",
    "id": "WO5JakWdtpez",
    "outputId": "feb17989-20e2-4fcb-ea0f-338f25b6a4ad"
   },
   "outputs": [
    {
     "data": {
      "image/png": "[encoded data removed]",
      "text/plain": [
       "<Figure size 1440x288 with 10 Axes>"
      ]
     },
     "metadata": {
      "tags": []
     },
     "output_type": "display_data"
    }
   ],
   "source": [
    "n = 10\n",
    "plt.figure(figsize=(20, 4))\n",
    "for i in range(n):\n",
    "  ax = plt.subplot(1, n, i+1)\n",
    "  plt.imshow(reconstructions[i].reshape(28, 28))\n",
    "  plt.gray()\n",
    "  ax.get_xaxis().set_visible(False)\n",
    "  ax.get_yaxis().set_visible(False)"
   ]
  },
  {
   "cell_type": "markdown",
   "metadata": {
    "colab_type": "text",
    "id": "HOcfUuMNfeix"
   },
   "source": [
    "## Loss Curves"
   ]
  },
  {
   "cell_type": "code",
   "execution_count": 16,
   "metadata": {
    "colab": {
     "base_uri": "https://localhost:8080/",
     "height": 295
    },
    "colab_type": "code",
    "id": "kChQkvA5lNLm",
    "outputId": "d2325648-66e6-4e75-84e9-f69ec28657e1"
   },
   "outputs": [
    {
     "data": {
      "image/png": "[encoded data removed]",
      "text/plain": [
       "<Figure size 432x288 with 1 Axes>"
      ]
     },
     "metadata": {
      "tags": []
     },
     "output_type": "display_data"
    }
   ],
   "source": [
    "plt.plot(autoencoder_history.history['loss'])\n",
    "plt.plot(autoencoder_history.history['val_loss'])\n",
    "plt.xlabel(\"Epochs\")\n",
    "plt.ylabel(\"Loss\")\n",
    "plt.title(\"Loss v/s Epochs\")\n",
    "plt.legend(['train', 'test'], loc='upper right')\n",
    "plt.show()"
   ]
  },
  {
   "cell_type": "markdown",
   "metadata": {
    "colab_type": "text",
    "id": "TA4O3FwRt-sO"
   },
   "source": [
    "#Part 2: Deep Convolutional AutoEncoder"
   ]
  },
  {
   "cell_type": "code",
   "execution_count": 0,
   "metadata": {
    "colab": {},
    "colab_type": "code",
    "id": "3CuUyUCp2TbK"
   },
   "outputs": [],
   "source": [
    "#Reshape training and testing data into 784-dimensional vectors\n",
    "data_train = data_train.reshape(-1, 28, 28, 1)\n",
    "data_test = data_test.reshape(-1, 28, 28, 1)"
   ]
  },
  {
   "cell_type": "code",
   "execution_count": 0,
   "metadata": {
    "colab": {},
    "colab_type": "code",
    "id": "G-1-t2TX2dcx"
   },
   "outputs": [],
   "source": [
    "class convolutional_autoencoder:\n",
    "  def __init__(self, ndim):\n",
    "    self.ndim = ndim\n",
    "    self.model = self._build_model()\n",
    "\n",
    "  \n",
    "  def _build_model(self):\n",
    "    model = Sequential()\n",
    "\n",
    "    # First Hidden Layer\n",
    "    model.add(Conv2D(16,\n",
    "                    kernel_size=3,\n",
    "                    activation='relu',\n",
    "                    kernel_initializer='uniform',\n",
    "                    padding='same',\n",
    "                    input_shape=(self.ndim, self.ndim, 1)))\n",
    "    \n",
    "    # Second Hidden Layer\n",
    "    model.add(MaxPooling2D(pool_size=(2, 2),\n",
    "                           padding='same'))\n",
    "    # Third Hidden Layer\n",
    "    model.add(Conv2D(8,\n",
    "                     kernel_size=3,\n",
    "                     activation='relu',\n",
    "                     padding='same',\n",
    "                     kernel_initializer='uniform'))\n",
    "    \n",
    "    # Fourth Hidden Layer (Bottleneck)\n",
    "    model.add(MaxPooling2D(pool_size=(2, 2),\n",
    "                           padding='same'))\n",
    "    #Fifth Hidden Layer\n",
    "    model.add(Conv2D(8,\n",
    "                     kernel_size=3,\n",
    "                     padding='same',\n",
    "                     activation='relu',\n",
    "                     kernel_initializer='uniform'))\n",
    "    # Sixth Hidden Layer\n",
    "    model.add(UpSampling2D(size=(2, 2)))\n",
    "    #Seventh Hidden Layer\n",
    "    model.add(Conv2D(16,\n",
    "                     kernel_size=3,\n",
    "                     activation='relu',\n",
    "                     padding='same',\n",
    "                     kernel_initializer='uniform'))\n",
    "    # Eighth hidden layer\n",
    "    model.add(UpSampling2D(size=(2, 2)))\n",
    "    # Output layer\n",
    "    model.add(Conv2D(1,\n",
    "                     kernel_size=3,\n",
    "                     kernel_initializer='uniform',\n",
    "                     padding='same',\n",
    "                     activation='sigmoid'))\n",
    "    return model\n",
    "    \n",
    "    def save(self, name):\n",
    "      self.model.save_weights(name)\n"
   ]
  },
  {
   "cell_type": "code",
   "execution_count": 19,
   "metadata": {
    "colab": {
     "base_uri": "https://localhost:8080/",
     "height": 105
    },
    "colab_type": "code",
    "id": "4JFrJUAT8Jow",
    "outputId": "bcbc987a-9185-42a4-8c44-92ee02902345"
   },
   "outputs": [
    {
     "name": "stdout",
     "output_type": "stream",
     "text": [
      "WARNING:tensorflow:From /usr/local/lib/python3.6/dist-packages/keras/backend/tensorflow_backend.py:4267: The name tf.nn.max_pool is deprecated. Please use tf.nn.max_pool2d instead.\n",
      "\n",
      "WARNING:tensorflow:From /usr/local/lib/python3.6/dist-packages/keras/backend/tensorflow_backend.py:2239: The name tf.image.resize_nearest_neighbor is deprecated. Please use tf.compat.v1.image.resize_nearest_neighbor instead.\n",
      "\n"
     ]
    }
   ],
   "source": [
    "conv_ae = convolutional_autoencoder(28)"
   ]
  },
  {
   "cell_type": "code",
   "execution_count": 20,
   "metadata": {
    "colab": {
     "base_uri": "https://localhost:8080/",
     "height": 88
    },
    "colab_type": "code",
    "id": "SuxK_nn38SJZ",
    "outputId": "e0d519a4-e95c-4c1f-a44d-2002331bbd4a"
   },
   "outputs": [
    {
     "name": "stdout",
     "output_type": "stream",
     "text": [
      "WARNING:tensorflow:From /usr/local/lib/python3.6/dist-packages/tensorflow/python/ops/nn_impl.py:180: add_dispatch_support.<locals>.wrapper (from tensorflow.python.ops.array_ops) is deprecated and will be removed in a future version.\n",
      "Instructions for updating:\n",
      "Use tf.where in 2.0, which has the same broadcast rule as np.where\n"
     ]
    }
   ],
   "source": [
    "conv_ae.model.compile(loss='binary_crossentropy',\n",
    "                      optimizer='adam')"
   ]
  },
  {
   "cell_type": "code",
   "execution_count": 21,
   "metadata": {
    "colab": {
     "base_uri": "https://localhost:8080/",
     "height": 5134
    },
    "colab_type": "code",
    "id": "RAimX9IO8W-K",
    "outputId": "94e1723c-efd2-4f45-f7aa-f8b6ad616800",
    "scrolled": false
   },
   "outputs": [
    {
     "name": "stdout",
     "output_type": "stream",
     "text": [
      "Train on 60000 samples, validate on 10000 samples\n",
      "Epoch 1/150\n",
      "60000/60000 [==============================] - 6s 94us/step - loss: 0.5721 - val_loss: 0.4508\n",
      "Epoch 2/150\n",
      "60000/60000 [==============================] - 3s 46us/step - loss: 0.3840 - val_loss: 0.2697\n",
      "Epoch 3/150\n",
      "60000/60000 [==============================] - 3s 45us/step - loss: 0.2056 - val_loss: 0.1726\n",
      "Epoch 4/150\n",
      "60000/60000 [==============================] - 3s 45us/step - loss: 0.1653 - val_loss: 0.1573\n",
      "Epoch 5/150\n",
      "60000/60000 [==============================] - 3s 46us/step - loss: 0.1509 - val_loss: 0.1423\n",
      "Epoch 6/150\n",
      "60000/60000 [==============================] - 3s 46us/step - loss: 0.1351 - val_loss: 0.1252\n",
      "Epoch 7/150\n",
      "60000/60000 [==============================] - 3s 46us/step - loss: 0.1188 - val_loss: 0.1110\n",
      "Epoch 8/150\n",
      "60000/60000 [==============================] - 3s 46us/step - loss: 0.1080 - val_loss: 0.1036\n",
      "Epoch 9/150\n",
      "60000/60000 [==============================] - 3s 46us/step - loss: 0.1029 - val_loss: 0.1000\n",
      "Epoch 10/150\n",
      "60000/60000 [==============================] - 3s 45us/step - loss: 0.0998 - val_loss: 0.0975\n",
      "Epoch 11/150\n",
      "60000/60000 [==============================] - 3s 46us/step - loss: 0.0976 - val_loss: 0.0956\n",
      "Epoch 12/150\n",
      "60000/60000 [==============================] - 3s 46us/step - loss: 0.0959 - val_loss: 0.0940\n",
      "Epoch 13/150\n",
      "60000/60000 [==============================] - 3s 46us/step - loss: 0.0945 - val_loss: 0.0927\n",
      "Epoch 14/150\n",
      "60000/60000 [==============================] - 3s 45us/step - loss: 0.0933 - val_loss: 0.0916\n",
      "Epoch 15/150\n",
      "60000/60000 [==============================] - 3s 45us/step - loss: 0.0922 - val_loss: 0.0906\n",
      "Epoch 16/150\n",
      "60000/60000 [==============================] - 3s 46us/step - loss: 0.0912 - val_loss: 0.0898\n",
      "Epoch 17/150\n",
      "60000/60000 [==============================] - 3s 46us/step - loss: 0.0904 - val_loss: 0.0889\n",
      "Epoch 18/150\n",
      "60000/60000 [==============================] - 3s 45us/step - loss: 0.0896 - val_loss: 0.0882\n",
      "Epoch 19/150\n",
      "60000/60000 [==============================] - 3s 46us/step - loss: 0.0889 - val_loss: 0.0875\n",
      "Epoch 20/150\n",
      "60000/60000 [==============================] - 3s 45us/step - loss: 0.0882 - val_loss: 0.0869\n",
      "Epoch 21/150\n",
      "60000/60000 [==============================] - 3s 45us/step - loss: 0.0877 - val_loss: 0.0864\n",
      "Epoch 22/150\n",
      "60000/60000 [==============================] - 3s 45us/step - loss: 0.0871 - val_loss: 0.0859\n",
      "Epoch 23/150\n",
      "60000/60000 [==============================] - 3s 45us/step - loss: 0.0867 - val_loss: 0.0854\n",
      "Epoch 24/150\n",
      "60000/60000 [==============================] - 3s 45us/step - loss: 0.0863 - val_loss: 0.0851\n",
      "Epoch 25/150\n",
      "60000/60000 [==============================] - 3s 46us/step - loss: 0.0859 - val_loss: 0.0847\n",
      "Epoch 26/150\n",
      "60000/60000 [==============================] - 3s 45us/step - loss: 0.0855 - val_loss: 0.0843\n",
      "Epoch 27/150\n",
      "60000/60000 [==============================] - 3s 45us/step - loss: 0.0852 - val_loss: 0.0840\n",
      "Epoch 28/150\n",
      "60000/60000 [==============================] - 3s 45us/step - loss: 0.0848 - val_loss: 0.0837\n",
      "Epoch 29/150\n",
      "60000/60000 [==============================] - 3s 45us/step - loss: 0.0845 - val_loss: 0.0834\n",
      "Epoch 30/150\n",
      "60000/60000 [==============================] - 3s 46us/step - loss: 0.0843 - val_loss: 0.0832\n",
      "Epoch 31/150\n",
      "60000/60000 [==============================] - 3s 46us/step - loss: 0.0840 - val_loss: 0.0829\n",
      "Epoch 32/150\n",
      "60000/60000 [==============================] - 3s 46us/step - loss: 0.0838 - val_loss: 0.0827\n",
      "Epoch 33/150\n",
      "60000/60000 [==============================] - 3s 46us/step - loss: 0.0835 - val_loss: 0.0824\n",
      "Epoch 34/150\n",
      "60000/60000 [==============================] - 3s 46us/step - loss: 0.0833 - val_loss: 0.0824\n",
      "Epoch 35/150\n",
      "60000/60000 [==============================] - 3s 46us/step - loss: 0.0831 - val_loss: 0.0821\n",
      "Epoch 36/150\n",
      "60000/60000 [==============================] - 3s 46us/step - loss: 0.0829 - val_loss: 0.0818\n",
      "Epoch 37/150\n",
      "60000/60000 [==============================] - 3s 46us/step - loss: 0.0827 - val_loss: 0.0817\n",
      "Epoch 38/150\n",
      "60000/60000 [==============================] - 3s 46us/step - loss: 0.0825 - val_loss: 0.0813\n",
      "Epoch 39/150\n",
      "60000/60000 [==============================] - 3s 45us/step - loss: 0.0821 - val_loss: 0.0809\n",
      "Epoch 40/150\n",
      "60000/60000 [==============================] - 3s 46us/step - loss: 0.0817 - val_loss: 0.0806\n",
      "Epoch 41/150\n",
      "60000/60000 [==============================] - 3s 46us/step - loss: 0.0814 - val_loss: 0.0804\n",
      "Epoch 42/150\n",
      "60000/60000 [==============================] - 3s 45us/step - loss: 0.0812 - val_loss: 0.0803\n",
      "Epoch 43/150\n",
      "60000/60000 [==============================] - 3s 46us/step - loss: 0.0810 - val_loss: 0.0800\n",
      "Epoch 44/150\n",
      "60000/60000 [==============================] - 3s 46us/step - loss: 0.0808 - val_loss: 0.0798\n",
      "Epoch 45/150\n",
      "60000/60000 [==============================] - 3s 46us/step - loss: 0.0806 - val_loss: 0.0798\n",
      "Epoch 46/150\n",
      "60000/60000 [==============================] - 3s 46us/step - loss: 0.0805 - val_loss: 0.0795\n",
      "Epoch 47/150\n",
      "60000/60000 [==============================] - 3s 46us/step - loss: 0.0803 - val_loss: 0.0795\n",
      "Epoch 48/150\n",
      "60000/60000 [==============================] - 3s 46us/step - loss: 0.0802 - val_loss: 0.0792\n",
      "Epoch 49/150\n",
      "60000/60000 [==============================] - 3s 46us/step - loss: 0.0801 - val_loss: 0.0792\n",
      "Epoch 50/150\n",
      "60000/60000 [==============================] - 3s 46us/step - loss: 0.0799 - val_loss: 0.0790\n",
      "Epoch 51/150\n",
      "60000/60000 [==============================] - 3s 46us/step - loss: 0.0798 - val_loss: 0.0788\n",
      "Epoch 52/150\n",
      "60000/60000 [==============================] - 3s 46us/step - loss: 0.0797 - val_loss: 0.0787\n",
      "Epoch 53/150\n",
      "60000/60000 [==============================] - 3s 46us/step - loss: 0.0795 - val_loss: 0.0786\n",
      "Epoch 54/150\n",
      "60000/60000 [==============================] - 3s 45us/step - loss: 0.0794 - val_loss: 0.0785\n",
      "Epoch 55/150\n",
      "60000/60000 [==============================] - 3s 45us/step - loss: 0.0793 - val_loss: 0.0783\n",
      "Epoch 56/150\n",
      "60000/60000 [==============================] - 3s 46us/step - loss: 0.0791 - val_loss: 0.0782\n",
      "Epoch 57/150\n",
      "60000/60000 [==============================] - 3s 46us/step - loss: 0.0790 - val_loss: 0.0781\n",
      "Epoch 58/150\n",
      "60000/60000 [==============================] - 3s 46us/step - loss: 0.0788 - val_loss: 0.0779\n",
      "Epoch 59/150\n",
      "60000/60000 [==============================] - 3s 49us/step - loss: 0.0787 - val_loss: 0.0778\n",
      "Epoch 60/150\n",
      "60000/60000 [==============================] - 3s 45us/step - loss: 0.0786 - val_loss: 0.0777\n",
      "Epoch 61/150\n",
      "60000/60000 [==============================] - 3s 45us/step - loss: 0.0785 - val_loss: 0.0775\n",
      "Epoch 62/150\n",
      "60000/60000 [==============================] - 3s 46us/step - loss: 0.0784 - val_loss: 0.0774\n",
      "Epoch 63/150\n",
      "60000/60000 [==============================] - 3s 46us/step - loss: 0.0782 - val_loss: 0.0773\n",
      "Epoch 64/150\n",
      "60000/60000 [==============================] - 3s 46us/step - loss: 0.0781 - val_loss: 0.0773\n",
      "Epoch 65/150\n",
      "60000/60000 [==============================] - 3s 46us/step - loss: 0.0780 - val_loss: 0.0771\n",
      "Epoch 66/150\n",
      "60000/60000 [==============================] - 3s 46us/step - loss: 0.0779 - val_loss: 0.0770\n",
      "Epoch 67/150\n",
      "60000/60000 [==============================] - 3s 46us/step - loss: 0.0778 - val_loss: 0.0769\n",
      "Epoch 68/150\n",
      "60000/60000 [==============================] - 3s 46us/step - loss: 0.0776 - val_loss: 0.0768\n",
      "Epoch 69/150\n",
      "60000/60000 [==============================] - 3s 45us/step - loss: 0.0775 - val_loss: 0.0767\n",
      "Epoch 70/150\n",
      "60000/60000 [==============================] - 3s 45us/step - loss: 0.0775 - val_loss: 0.0765\n",
      "Epoch 71/150\n",
      "60000/60000 [==============================] - 3s 45us/step - loss: 0.0774 - val_loss: 0.0765\n",
      "Epoch 72/150\n",
      "60000/60000 [==============================] - 3s 46us/step - loss: 0.0773 - val_loss: 0.0766\n",
      "Epoch 73/150\n",
      "60000/60000 [==============================] - 3s 46us/step - loss: 0.0772 - val_loss: 0.0763\n",
      "Epoch 74/150\n",
      "60000/60000 [==============================] - 3s 45us/step - loss: 0.0771 - val_loss: 0.0762\n",
      "Epoch 75/150\n",
      "60000/60000 [==============================] - 3s 46us/step - loss: 0.0770 - val_loss: 0.0761\n",
      "Epoch 76/150\n",
      "60000/60000 [==============================] - 3s 46us/step - loss: 0.0769 - val_loss: 0.0760\n",
      "Epoch 77/150\n",
      "60000/60000 [==============================] - 3s 46us/step - loss: 0.0768 - val_loss: 0.0760\n",
      "Epoch 78/150\n",
      "60000/60000 [==============================] - 3s 46us/step - loss: 0.0767 - val_loss: 0.0759\n",
      "Epoch 79/150\n",
      "60000/60000 [==============================] - 3s 46us/step - loss: 0.0767 - val_loss: 0.0758\n",
      "Epoch 80/150\n",
      "60000/60000 [==============================] - 3s 46us/step - loss: 0.0766 - val_loss: 0.0758\n",
      "Epoch 81/150\n",
      "60000/60000 [==============================] - 3s 46us/step - loss: 0.0765 - val_loss: 0.0757\n",
      "Epoch 82/150\n",
      "60000/60000 [==============================] - 3s 45us/step - loss: 0.0765 - val_loss: 0.0756\n",
      "Epoch 83/150\n",
      "60000/60000 [==============================] - 3s 46us/step - loss: 0.0764 - val_loss: 0.0756\n",
      "Epoch 84/150\n",
      "60000/60000 [==============================] - 3s 46us/step - loss: 0.0763 - val_loss: 0.0755\n",
      "Epoch 85/150\n",
      "60000/60000 [==============================] - 3s 46us/step - loss: 0.0763 - val_loss: 0.0754\n",
      "Epoch 86/150\n",
      "60000/60000 [==============================] - 3s 46us/step - loss: 0.0762 - val_loss: 0.0754\n",
      "Epoch 87/150\n",
      "60000/60000 [==============================] - 3s 46us/step - loss: 0.0761 - val_loss: 0.0753\n",
      "Epoch 88/150\n",
      "60000/60000 [==============================] - 3s 46us/step - loss: 0.0761 - val_loss: 0.0752\n",
      "Epoch 89/150\n",
      "60000/60000 [==============================] - 3s 46us/step - loss: 0.0760 - val_loss: 0.0752\n",
      "Epoch 90/150\n",
      "60000/60000 [==============================] - 3s 46us/step - loss: 0.0759 - val_loss: 0.0751\n",
      "Epoch 91/150\n",
      "60000/60000 [==============================] - 3s 46us/step - loss: 0.0758 - val_loss: 0.0751\n",
      "Epoch 92/150\n",
      "60000/60000 [==============================] - 3s 45us/step - loss: 0.0758 - val_loss: 0.0750\n",
      "Epoch 93/150\n",
      "60000/60000 [==============================] - 3s 46us/step - loss: 0.0758 - val_loss: 0.0749\n",
      "Epoch 94/150\n",
      "60000/60000 [==============================] - 3s 46us/step - loss: 0.0757 - val_loss: 0.0749\n",
      "Epoch 95/150\n",
      "60000/60000 [==============================] - 3s 46us/step - loss: 0.0756 - val_loss: 0.0748\n",
      "Epoch 96/150\n",
      "60000/60000 [==============================] - 3s 46us/step - loss: 0.0756 - val_loss: 0.0748\n",
      "Epoch 97/150\n",
      "60000/60000 [==============================] - 3s 46us/step - loss: 0.0755 - val_loss: 0.0747\n",
      "Epoch 98/150\n",
      "60000/60000 [==============================] - 3s 45us/step - loss: 0.0755 - val_loss: 0.0747\n",
      "Epoch 99/150\n",
      "60000/60000 [==============================] - 3s 46us/step - loss: 0.0754 - val_loss: 0.0747\n",
      "Epoch 100/150\n",
      "60000/60000 [==============================] - 3s 46us/step - loss: 0.0754 - val_loss: 0.0746\n",
      "Epoch 101/150\n",
      "60000/60000 [==============================] - 3s 46us/step - loss: 0.0754 - val_loss: 0.0746\n",
      "Epoch 102/150\n",
      "60000/60000 [==============================] - 3s 46us/step - loss: 0.0753 - val_loss: 0.0745\n",
      "Epoch 103/150\n",
      "60000/60000 [==============================] - 3s 47us/step - loss: 0.0753 - val_loss: 0.0745\n",
      "Epoch 104/150\n",
      "60000/60000 [==============================] - 3s 46us/step - loss: 0.0752 - val_loss: 0.0745\n",
      "Epoch 105/150\n",
      "60000/60000 [==============================] - 3s 46us/step - loss: 0.0752 - val_loss: 0.0744\n",
      "Epoch 106/150\n",
      "60000/60000 [==============================] - 3s 46us/step - loss: 0.0751 - val_loss: 0.0744\n",
      "Epoch 107/150\n",
      "60000/60000 [==============================] - 3s 46us/step - loss: 0.0751 - val_loss: 0.0743\n",
      "Epoch 108/150\n",
      "60000/60000 [==============================] - 3s 46us/step - loss: 0.0751 - val_loss: 0.0743\n",
      "Epoch 109/150\n",
      "60000/60000 [==============================] - 3s 46us/step - loss: 0.0751 - val_loss: 0.0743\n",
      "Epoch 110/150\n",
      "60000/60000 [==============================] - 3s 46us/step - loss: 0.0750 - val_loss: 0.0743\n",
      "Epoch 111/150\n",
      "60000/60000 [==============================] - 3s 46us/step - loss: 0.0750 - val_loss: 0.0742\n",
      "Epoch 112/150\n",
      "60000/60000 [==============================] - 3s 46us/step - loss: 0.0749 - val_loss: 0.0742\n",
      "Epoch 113/150\n",
      "60000/60000 [==============================] - 3s 46us/step - loss: 0.0749 - val_loss: 0.0741\n",
      "Epoch 114/150\n",
      "60000/60000 [==============================] - 3s 46us/step - loss: 0.0749 - val_loss: 0.0741\n",
      "Epoch 115/150\n",
      "60000/60000 [==============================] - 3s 46us/step - loss: 0.0748 - val_loss: 0.0741\n",
      "Epoch 116/150\n",
      "60000/60000 [==============================] - 3s 46us/step - loss: 0.0748 - val_loss: 0.0741\n",
      "Epoch 117/150\n",
      "60000/60000 [==============================] - 3s 46us/step - loss: 0.0748 - val_loss: 0.0740\n",
      "Epoch 118/150\n",
      "60000/60000 [==============================] - 3s 46us/step - loss: 0.0747 - val_loss: 0.0740\n",
      "Epoch 119/150\n",
      "60000/60000 [==============================] - 3s 46us/step - loss: 0.0747 - val_loss: 0.0741\n",
      "Epoch 120/150\n",
      "60000/60000 [==============================] - 3s 46us/step - loss: 0.0747 - val_loss: 0.0739\n",
      "Epoch 121/150\n",
      "60000/60000 [==============================] - 3s 46us/step - loss: 0.0747 - val_loss: 0.0739\n",
      "Epoch 122/150\n",
      "60000/60000 [==============================] - 3s 47us/step - loss: 0.0746 - val_loss: 0.0739\n",
      "Epoch 123/150\n",
      "60000/60000 [==============================] - 3s 46us/step - loss: 0.0746 - val_loss: 0.0739\n",
      "Epoch 124/150\n",
      "60000/60000 [==============================] - 3s 46us/step - loss: 0.0746 - val_loss: 0.0739\n",
      "Epoch 125/150\n",
      "60000/60000 [==============================] - 3s 46us/step - loss: 0.0746 - val_loss: 0.0738\n",
      "Epoch 126/150\n",
      "60000/60000 [==============================] - 3s 46us/step - loss: 0.0745 - val_loss: 0.0738\n",
      "Epoch 127/150\n",
      "60000/60000 [==============================] - 3s 46us/step - loss: 0.0745 - val_loss: 0.0738\n",
      "Epoch 128/150\n",
      "60000/60000 [==============================] - 3s 46us/step - loss: 0.0744 - val_loss: 0.0737\n",
      "Epoch 129/150\n",
      "60000/60000 [==============================] - 3s 46us/step - loss: 0.0744 - val_loss: 0.0737\n",
      "Epoch 130/150\n",
      "60000/60000 [==============================] - 3s 46us/step - loss: 0.0744 - val_loss: 0.0737\n",
      "Epoch 131/150\n",
      "60000/60000 [==============================] - 3s 46us/step - loss: 0.0744 - val_loss: 0.0736\n",
      "Epoch 132/150\n",
      "60000/60000 [==============================] - 3s 46us/step - loss: 0.0743 - val_loss: 0.0736\n",
      "Epoch 133/150\n",
      "60000/60000 [==============================] - 3s 46us/step - loss: 0.0743 - val_loss: 0.0737\n",
      "Epoch 134/150\n",
      "60000/60000 [==============================] - 3s 46us/step - loss: 0.0743 - val_loss: 0.0736\n",
      "Epoch 135/150\n",
      "60000/60000 [==============================] - 3s 46us/step - loss: 0.0743 - val_loss: 0.0735\n",
      "Epoch 136/150\n",
      "60000/60000 [==============================] - 3s 46us/step - loss: 0.0742 - val_loss: 0.0735\n",
      "Epoch 137/150\n",
      "60000/60000 [==============================] - 3s 46us/step - loss: 0.0742 - val_loss: 0.0735\n",
      "Epoch 138/150\n",
      "60000/60000 [==============================] - 3s 46us/step - loss: 0.0742 - val_loss: 0.0735\n",
      "Epoch 139/150\n",
      "60000/60000 [==============================] - 3s 46us/step - loss: 0.0741 - val_loss: 0.0735\n",
      "Epoch 140/150\n",
      "60000/60000 [==============================] - 3s 46us/step - loss: 0.0741 - val_loss: 0.0734\n",
      "Epoch 141/150\n",
      "60000/60000 [==============================] - 3s 46us/step - loss: 0.0741 - val_loss: 0.0734\n",
      "Epoch 142/150\n",
      "60000/60000 [==============================] - 3s 46us/step - loss: 0.0741 - val_loss: 0.0734\n",
      "Epoch 143/150\n",
      "60000/60000 [==============================] - 3s 46us/step - loss: 0.0740 - val_loss: 0.0734\n",
      "Epoch 144/150\n",
      "60000/60000 [==============================] - 3s 46us/step - loss: 0.0740 - val_loss: 0.0733\n",
      "Epoch 145/150\n",
      "60000/60000 [==============================] - 3s 46us/step - loss: 0.0740 - val_loss: 0.0733\n",
      "Epoch 146/150\n",
      "60000/60000 [==============================] - 3s 46us/step - loss: 0.0740 - val_loss: 0.0733\n",
      "Epoch 147/150\n",
      "60000/60000 [==============================] - 3s 46us/step - loss: 0.0740 - val_loss: 0.0733\n",
      "Epoch 148/150\n",
      "60000/60000 [==============================] - 3s 46us/step - loss: 0.0739 - val_loss: 0.0732\n",
      "Epoch 149/150\n",
      "60000/60000 [==============================] - 3s 46us/step - loss: 0.0739 - val_loss: 0.0732\n",
      "Epoch 150/150\n",
      "60000/60000 [==============================] - 3s 46us/step - loss: 0.0739 - val_loss: 0.0732\n"
     ]
    }
   ],
   "source": [
    "num_epochs = 150\n",
    "batch_size = 1024\n",
    "conv_ae_history = conv_ae.model.fit(data_train, data_train,\n",
    "                                    validation_data=(data_test, data_test),\n",
    "                                    epochs=num_epochs,\n",
    "                                    batch_size=batch_size,\n",
    "                                    shuffle=True)"
   ]
  },
  {
   "cell_type": "code",
   "execution_count": 0,
   "metadata": {
    "colab": {},
    "colab_type": "code",
    "id": "5QgM5hKVNXif"
   },
   "outputs": [],
   "source": [
    "reconstructions = conv_ae.model.predict(data_test)"
   ]
  },
  {
   "cell_type": "code",
   "execution_count": 0,
   "metadata": {
    "colab": {},
    "colab_type": "code",
    "id": "2qcyFg93NmbU"
   },
   "outputs": [],
   "source": [
    "get_l1 = K.function([conv_ae.model.layers[0].input], [conv_ae.model.layers[0].output])\n",
    "get_l2 = K.function([conv_ae.model.layers[1].input], [conv_ae.model.layers[1].output])\n",
    "get_l3 = K.function([conv_ae.model.layers[2].input], [conv_ae.model.layers[2].output])\n",
    "get_hl = K.function([conv_ae.model.layers[3].input], [conv_ae.model.layers[3].output])\n",
    "data_test_hidden_layer_rep = get_hl(get_l3(get_l2(get_l1([data_test]))))[0]"
   ]
  },
  {
   "cell_type": "markdown",
   "metadata": {
    "colab_type": "text",
    "id": "A7StyThrhAlN"
   },
   "source": [
    "## Original Test Data"
   ]
  },
  {
   "cell_type": "code",
   "execution_count": 24,
   "metadata": {
    "colab": {
     "base_uri": "https://localhost:8080/",
     "height": 145
    },
    "colab_type": "code",
    "id": "5yEmx2C_bx1Q",
    "outputId": "4e5eec54-66a0-4d02-fc47-4420f142c6c1"
   },
   "outputs": [
    {
     "data": {
      "image/png": "[encoded data removed]",
      "text/plain": [
       "<Figure size 1440x288 with 10 Axes>"
      ]
     },
     "metadata": {
      "tags": []
     },
     "output_type": "display_data"
    }
   ],
   "source": [
    "n = 10\n",
    "plt.figure(figsize=(20, 4))\n",
    "for i in range(n):\n",
    "  ax = plt.subplot(1, n, i+1)\n",
    "  plt.imshow(data_test[i].reshape(28, 28))\n",
    "  \n",
    "  plt.gray()\n",
    "  ax.get_xaxis().set_visible(False)\n",
    "  ax.get_yaxis().set_visible(False)"
   ]
  },
  {
   "cell_type": "markdown",
   "metadata": {
    "colab_type": "text",
    "id": "ukf0zlQ8hIfb"
   },
   "source": [
    "## Latent Representation of Hidden Layers"
   ]
  },
  {
   "cell_type": "code",
   "execution_count": 25,
   "metadata": {
    "colab": {
     "base_uri": "https://localhost:8080/",
     "height": 240
    },
    "colab_type": "code",
    "id": "zsFNxxg7b2jN",
    "outputId": "ee167520-4624-43fd-e251-9640d2bc6f68"
   },
   "outputs": [
    {
     "data": {
      "image/png": "[encoded data removed]",
      "text/plain": [
       "<Figure size 1440x288 with 10 Axes>"
      ]
     },
     "metadata": {
      "tags": []
     },
     "output_type": "display_data"
    }
   ],
   "source": [
    "n = 10\n",
    "plt.figure(figsize=(20, 4))\n",
    "for i in range(n):\n",
    "  ax = plt.subplot(1, n, i+1)\n",
    "  plt.imshow(data_test_hidden_layer_rep[i].reshape(28, 14))\n",
    "  plt.gray()\n",
    "  ax.get_xaxis().set_visible(False)\n",
    "  ax.get_yaxis().set_visible(False)"
   ]
  },
  {
   "cell_type": "markdown",
   "metadata": {
    "colab_type": "text",
    "id": "juXFN9M2hVBv"
   },
   "source": [
    "## Reconstruction of the Test Image"
   ]
  },
  {
   "cell_type": "code",
   "execution_count": 26,
   "metadata": {
    "colab": {
     "base_uri": "https://localhost:8080/",
     "height": 145
    },
    "colab_type": "code",
    "id": "a1xb1n8cb_7o",
    "outputId": "9e9e3ef1-fa86-46d8-fc56-a6b16ef10e6c"
   },
   "outputs": [
    {
     "data": {
      "image/png": "[encoded data removed]",
      "text/plain": [
       "<Figure size 1440x288 with 10 Axes>"
      ]
     },
     "metadata": {
      "tags": []
     },
     "output_type": "display_data"
    }
   ],
   "source": [
    "n = 10\n",
    "plt.figure(figsize=(20, 4))\n",
    "for i in range(n):\n",
    "  ax = plt.subplot(1, n, i+1)\n",
    "  plt.imshow(reconstructions[i].reshape(28, 28))\n",
    "  plt.gray()\n",
    "  ax.get_xaxis().set_visible(False)\n",
    "  ax.get_yaxis().set_visible(False)"
   ]
  },
  {
   "cell_type": "markdown",
   "metadata": {
    "colab_type": "text",
    "id": "nj98IZeChYh-"
   },
   "source": [
    "## Loss Curves"
   ]
  },
  {
   "cell_type": "code",
   "execution_count": 27,
   "metadata": {
    "colab": {
     "base_uri": "https://localhost:8080/",
     "height": 295
    },
    "colab_type": "code",
    "id": "rfD9uK11cGlK",
    "outputId": "febff10d-de38-48b7-e1b8-d7904bea855f"
   },
   "outputs": [
    {
     "data": {
      "image/png": "[encoded data removed]",
      "text/plain": [
       "<Figure size 432x288 with 1 Axes>"
      ]
     },
     "metadata": {
      "tags": []
     },
     "output_type": "display_data"
    }
   ],
   "source": [
    "plt.plot(conv_ae_history.history['loss'])\n",
    "plt.plot(conv_ae_history.history['val_loss'])\n",
    "plt.xlabel(\"Epochs\")\n",
    "plt.ylabel(\"Loss\")\n",
    "plt.title(\"Loss v/s Epochs\")\n",
    "plt.legend(['train', 'test'], loc='upper right')\n",
    "plt.show()"
   ]
  },
  {
   "cell_type": "code",
   "execution_count": 0,
   "metadata": {
    "colab": {},
    "colab_type": "code",
    "id": "bnW6s270eb_L"
   },
   "outputs": [],
   "source": [
    "conv_ae.model.save_weights(\"convolutional_autoencoder.hd5\")"
   ]
  },
  {
   "cell_type": "markdown",
   "metadata": {
    "colab_type": "text",
    "id": "6QfcpOPXvezs"
   },
   "source": [
    "#Part 3: Denoising AutoEncoder"
   ]
  },
  {
   "cell_type": "code",
   "execution_count": 0,
   "metadata": {
    "colab": {},
    "colab_type": "code",
    "id": "c-lVJ3pfvhT5"
   },
   "outputs": [],
   "source": [
    "#Inject noise into testing data\n",
    "noise_factor = 0.25\n",
    "data_train_noisy = data_train + noise_factor * np.random.normal(loc=0.0, scale=1.0, size=data_train.shape)\n",
    "data_test_noisy = data_test + noise_factor * np.random.normal(loc=0.0, scale=1.0, size=data_test.shape)\n",
    "\n",
    "#Clip to stay within valid (normalized) pixel range\n",
    "data_train_noisy = np.clip(data_train_noisy, 0., 1.)\n",
    "data_test_noisy = np.clip(data_test_noisy, 0., 1.)\n",
    "\n",
    "#Reshape data to comply with input of denoising autoencoder\n",
    "data_train_noisy = data_train_noisy.reshape(-1, 28, 28, 1)\n",
    "data_test_noisy = data_test_noisy.reshape(-1, 28, 28, 1)"
   ]
  },
  {
   "cell_type": "markdown",
   "metadata": {
    "colab_type": "text",
    "id": "lb0JWpslhlXl"
   },
   "source": [
    "## Original Samples of Training Data"
   ]
  },
  {
   "cell_type": "code",
   "execution_count": 30,
   "metadata": {
    "colab": {
     "base_uri": "https://localhost:8080/",
     "height": 145
    },
    "colab_type": "code",
    "id": "J4zyjNfawzpU",
    "outputId": "ea5aa6f5-a2ab-4888-fa51-1ef22b1c6dbf"
   },
   "outputs": [
    {
     "data": {
      "image/png": "[encoded data removed]",
      "text/plain": [
       "<Figure size 1440x288 with 10 Axes>"
      ]
     },
     "metadata": {
      "tags": []
     },
     "output_type": "display_data"
    }
   ],
   "source": [
    "#Show samples of 10 original images and their corrsponding noisy counterparts from the training set\n",
    "n = 10\n",
    "plt.figure(figsize=(20, 4))\n",
    "for i in range(n):\n",
    "  ax = plt.subplot(1, n, i+1)\n",
    "  plt.imshow(data_train[i].reshape(28, 28))\n",
    "  \n",
    "  plt.gray()\n",
    "  ax.get_xaxis().set_visible(False)\n",
    "  ax.get_yaxis().set_visible(False)"
   ]
  },
  {
   "cell_type": "markdown",
   "metadata": {
    "colab_type": "text",
    "id": "PQ5TlpQFhq2n"
   },
   "source": [
    "## Original Samples + Noise of Training Data"
   ]
  },
  {
   "cell_type": "code",
   "execution_count": 31,
   "metadata": {
    "colab": {
     "base_uri": "https://localhost:8080/",
     "height": 145
    },
    "colab_type": "code",
    "id": "uzxL_X3neTpy",
    "outputId": "4f5e82a4-36d9-4073-a2f4-d8c1bb267e80"
   },
   "outputs": [
    {
     "data": {
      "image/png": "[encoded data removed]",
      "text/plain": [
       "<Figure size 1440x288 with 10 Axes>"
      ]
     },
     "metadata": {
      "tags": []
     },
     "output_type": "display_data"
    }
   ],
   "source": [
    "n = 10\n",
    "plt.figure(figsize=(20, 4))\n",
    "for i in range(n):\n",
    "  ax = plt.subplot(1, n, i+1)\n",
    "  plt.imshow(data_train_noisy[i].reshape(28, 28))\n",
    "  \n",
    "  plt.gray()\n",
    "  ax.get_xaxis().set_visible(False)\n",
    "  ax.get_yaxis().set_visible(False)"
   ]
  },
  {
   "cell_type": "code",
   "execution_count": 0,
   "metadata": {
    "colab": {},
    "colab_type": "code",
    "id": "RcSl_d9GedPw"
   },
   "outputs": [],
   "source": [
    "class dnoising_autoencoder:\n",
    "  def __init__(self, ndim):\n",
    "    self.ndim = ndim\n",
    "    self.model = self._build_model()\n",
    "\n",
    "  \n",
    "  def _build_model(self):\n",
    "    model = Sequential()\n",
    "\n",
    "    # First Hidden Layer\n",
    "    model.add(Conv2D(16,\n",
    "                    kernel_size=3,\n",
    "                    activation='relu',\n",
    "                    kernel_initializer='uniform',\n",
    "                    padding='same',\n",
    "                    input_shape=(self.ndim, self.ndim, 1)))\n",
    "    \n",
    "    # Second Hidden Layer\n",
    "    model.add(MaxPooling2D(pool_size=(2, 2),\n",
    "                           padding='same'))\n",
    "    # Third Hidden Layer\n",
    "    model.add(Conv2D(8,\n",
    "                     kernel_size=3,\n",
    "                     activation='relu',\n",
    "                     padding='same',\n",
    "                     kernel_initializer='uniform'))\n",
    "    \n",
    "    # Fourth Hidden Layer (Bottleneck)\n",
    "    model.add(MaxPooling2D(pool_size=(2, 2),\n",
    "                           padding='same'))\n",
    "    #Fifth Hidden Layer\n",
    "    model.add(Conv2D(8,\n",
    "                     kernel_size=3,\n",
    "                     padding='same',\n",
    "                     activation='relu',\n",
    "                     kernel_initializer='uniform'))\n",
    "    # Sixth Hidden Layer\n",
    "    model.add(UpSampling2D(size=(2, 2)))\n",
    "    #Seventh Hidden Layer\n",
    "    model.add(Conv2D(16,\n",
    "                     kernel_size=3,\n",
    "                     activation='relu',\n",
    "                     padding='same',\n",
    "                     kernel_initializer='uniform'))\n",
    "    # Eighth hidden layer\n",
    "    model.add(UpSampling2D(size=(2, 2)))\n",
    "    # Output layer\n",
    "    model.add(Conv2D(1,\n",
    "                     kernel_size=3,\n",
    "                     kernel_initializer='uniform',\n",
    "                     padding='same',\n",
    "                     activation='sigmoid'))\n",
    "    return model\n",
    "    \n",
    "    def save(self, name):\n",
    "      self.model.save_weights(name)\n"
   ]
  },
  {
   "cell_type": "code",
   "execution_count": 0,
   "metadata": {
    "colab": {},
    "colab_type": "code",
    "id": "3PVxDcMxhSSx"
   },
   "outputs": [],
   "source": [
    "dae = convolutional_autoencoder(28)"
   ]
  },
  {
   "cell_type": "code",
   "execution_count": 0,
   "metadata": {
    "colab": {},
    "colab_type": "code",
    "id": "99hLbKm9hYLg"
   },
   "outputs": [],
   "source": [
    "dae.model.compile(loss='binary_crossentropy',\n",
    "                      optimizer='adam')"
   ]
  },
  {
   "cell_type": "code",
   "execution_count": 35,
   "metadata": {
    "colab": {
     "base_uri": "https://localhost:8080/",
     "height": 5134
    },
    "colab_type": "code",
    "id": "eo2nekNihY06",
    "outputId": "e7cc73b1-8df6-450f-97e7-2a0b39321900"
   },
   "outputs": [
    {
     "name": "stdout",
     "output_type": "stream",
     "text": [
      "Train on 60000 samples, validate on 10000 samples\n",
      "Epoch 1/150\n",
      "60000/60000 [==============================] - 3s 56us/step - loss: 0.5643 - val_loss: 0.4469\n",
      "Epoch 2/150\n",
      "60000/60000 [==============================] - 3s 46us/step - loss: 0.3395 - val_loss: 0.2430\n",
      "Epoch 3/150\n",
      "60000/60000 [==============================] - 3s 46us/step - loss: 0.2114 - val_loss: 0.1758\n",
      "Epoch 4/150\n",
      "60000/60000 [==============================] - 3s 46us/step - loss: 0.1556 - val_loss: 0.1385\n",
      "Epoch 5/150\n",
      "60000/60000 [==============================] - 3s 46us/step - loss: 0.1303 - val_loss: 0.1205\n",
      "Epoch 6/150\n",
      "60000/60000 [==============================] - 3s 46us/step - loss: 0.1165 - val_loss: 0.1106\n",
      "Epoch 7/150\n",
      "60000/60000 [==============================] - 3s 46us/step - loss: 0.1091 - val_loss: 0.1051\n",
      "Epoch 8/150\n",
      "60000/60000 [==============================] - 3s 46us/step - loss: 0.1048 - val_loss: 0.1019\n",
      "Epoch 9/150\n",
      "60000/60000 [==============================] - 3s 46us/step - loss: 0.1022 - val_loss: 0.0999\n",
      "Epoch 10/150\n",
      "60000/60000 [==============================] - 3s 46us/step - loss: 0.1004 - val_loss: 0.0984\n",
      "Epoch 11/150\n",
      "60000/60000 [==============================] - 3s 46us/step - loss: 0.0992 - val_loss: 0.0973\n",
      "Epoch 12/150\n",
      "60000/60000 [==============================] - 3s 46us/step - loss: 0.0982 - val_loss: 0.0966\n",
      "Epoch 13/150\n",
      "60000/60000 [==============================] - 3s 46us/step - loss: 0.0974 - val_loss: 0.0958\n",
      "Epoch 14/150\n",
      "60000/60000 [==============================] - 3s 46us/step - loss: 0.0967 - val_loss: 0.0952\n",
      "Epoch 15/150\n",
      "60000/60000 [==============================] - 3s 46us/step - loss: 0.0961 - val_loss: 0.0947\n",
      "Epoch 16/150\n",
      "60000/60000 [==============================] - 3s 46us/step - loss: 0.0956 - val_loss: 0.0941\n",
      "Epoch 17/150\n",
      "60000/60000 [==============================] - 3s 45us/step - loss: 0.0951 - val_loss: 0.0937\n",
      "Epoch 18/150\n",
      "60000/60000 [==============================] - 3s 46us/step - loss: 0.0947 - val_loss: 0.0933\n",
      "Epoch 19/150\n",
      "60000/60000 [==============================] - 3s 46us/step - loss: 0.0943 - val_loss: 0.0929\n",
      "Epoch 20/150\n",
      "60000/60000 [==============================] - 3s 46us/step - loss: 0.0938 - val_loss: 0.0925\n",
      "Epoch 21/150\n",
      "60000/60000 [==============================] - 3s 46us/step - loss: 0.0934 - val_loss: 0.0921\n",
      "Epoch 22/150\n",
      "60000/60000 [==============================] - 3s 46us/step - loss: 0.0930 - val_loss: 0.0917\n",
      "Epoch 23/150\n",
      "60000/60000 [==============================] - 3s 46us/step - loss: 0.0926 - val_loss: 0.0913\n",
      "Epoch 24/150\n",
      "60000/60000 [==============================] - 3s 46us/step - loss: 0.0922 - val_loss: 0.0909\n",
      "Epoch 25/150\n",
      "60000/60000 [==============================] - 3s 45us/step - loss: 0.0919 - val_loss: 0.0907\n",
      "Epoch 26/150\n",
      "60000/60000 [==============================] - 3s 45us/step - loss: 0.0916 - val_loss: 0.0903\n",
      "Epoch 27/150\n",
      "60000/60000 [==============================] - 3s 46us/step - loss: 0.0913 - val_loss: 0.0901\n",
      "Epoch 28/150\n",
      "60000/60000 [==============================] - 3s 46us/step - loss: 0.0911 - val_loss: 0.0899\n",
      "Epoch 29/150\n",
      "60000/60000 [==============================] - 3s 46us/step - loss: 0.0908 - val_loss: 0.0897\n",
      "Epoch 30/150\n",
      "60000/60000 [==============================] - 3s 45us/step - loss: 0.0906 - val_loss: 0.0895\n",
      "Epoch 31/150\n",
      "60000/60000 [==============================] - 3s 46us/step - loss: 0.0905 - val_loss: 0.0894\n",
      "Epoch 32/150\n",
      "60000/60000 [==============================] - 3s 45us/step - loss: 0.0903 - val_loss: 0.0891\n",
      "Epoch 33/150\n",
      "60000/60000 [==============================] - 3s 45us/step - loss: 0.0901 - val_loss: 0.0891\n",
      "Epoch 34/150\n",
      "60000/60000 [==============================] - 3s 45us/step - loss: 0.0899 - val_loss: 0.0889\n",
      "Epoch 35/150\n",
      "60000/60000 [==============================] - 3s 46us/step - loss: 0.0898 - val_loss: 0.0887\n",
      "Epoch 36/150\n",
      "60000/60000 [==============================] - 3s 46us/step - loss: 0.0896 - val_loss: 0.0886\n",
      "Epoch 37/150\n",
      "60000/60000 [==============================] - 3s 46us/step - loss: 0.0895 - val_loss: 0.0884\n",
      "Epoch 38/150\n",
      "60000/60000 [==============================] - 3s 46us/step - loss: 0.0894 - val_loss: 0.0883\n",
      "Epoch 39/150\n",
      "60000/60000 [==============================] - 3s 45us/step - loss: 0.0892 - val_loss: 0.0882\n",
      "Epoch 40/150\n",
      "60000/60000 [==============================] - 3s 45us/step - loss: 0.0891 - val_loss: 0.0881\n",
      "Epoch 41/150\n",
      "60000/60000 [==============================] - 3s 45us/step - loss: 0.0890 - val_loss: 0.0880\n",
      "Epoch 42/150\n",
      "60000/60000 [==============================] - 3s 45us/step - loss: 0.0889 - val_loss: 0.0879\n",
      "Epoch 43/150\n",
      "60000/60000 [==============================] - 3s 46us/step - loss: 0.0888 - val_loss: 0.0878\n",
      "Epoch 44/150\n",
      "60000/60000 [==============================] - 3s 45us/step - loss: 0.0887 - val_loss: 0.0877\n",
      "Epoch 45/150\n",
      "60000/60000 [==============================] - 3s 45us/step - loss: 0.0887 - val_loss: 0.0877\n",
      "Epoch 46/150\n",
      "60000/60000 [==============================] - 3s 46us/step - loss: 0.0885 - val_loss: 0.0876\n",
      "Epoch 47/150\n",
      "60000/60000 [==============================] - 3s 46us/step - loss: 0.0884 - val_loss: 0.0874\n",
      "Epoch 48/150\n",
      "60000/60000 [==============================] - 3s 46us/step - loss: 0.0883 - val_loss: 0.0874\n",
      "Epoch 49/150\n",
      "60000/60000 [==============================] - 3s 46us/step - loss: 0.0882 - val_loss: 0.0873\n",
      "Epoch 50/150\n",
      "60000/60000 [==============================] - 3s 45us/step - loss: 0.0881 - val_loss: 0.0871\n",
      "Epoch 51/150\n",
      "60000/60000 [==============================] - 3s 46us/step - loss: 0.0880 - val_loss: 0.0870\n",
      "Epoch 52/150\n",
      "60000/60000 [==============================] - 3s 46us/step - loss: 0.0879 - val_loss: 0.0870\n",
      "Epoch 53/150\n",
      "60000/60000 [==============================] - 3s 46us/step - loss: 0.0878 - val_loss: 0.0869\n",
      "Epoch 54/150\n",
      "60000/60000 [==============================] - 3s 46us/step - loss: 0.0878 - val_loss: 0.0868\n",
      "Epoch 55/150\n",
      "60000/60000 [==============================] - 3s 45us/step - loss: 0.0876 - val_loss: 0.0867\n",
      "Epoch 56/150\n",
      "60000/60000 [==============================] - 3s 46us/step - loss: 0.0875 - val_loss: 0.0866\n",
      "Epoch 57/150\n",
      "60000/60000 [==============================] - 3s 46us/step - loss: 0.0875 - val_loss: 0.0866\n",
      "Epoch 58/150\n",
      "60000/60000 [==============================] - 3s 46us/step - loss: 0.0873 - val_loss: 0.0864\n",
      "Epoch 59/150\n",
      "60000/60000 [==============================] - 3s 46us/step - loss: 0.0873 - val_loss: 0.0863\n",
      "Epoch 60/150\n",
      "60000/60000 [==============================] - 3s 46us/step - loss: 0.0872 - val_loss: 0.0862\n",
      "Epoch 61/150\n",
      "60000/60000 [==============================] - 3s 46us/step - loss: 0.0871 - val_loss: 0.0862\n",
      "Epoch 62/150\n",
      "60000/60000 [==============================] - 3s 46us/step - loss: 0.0870 - val_loss: 0.0860\n",
      "Epoch 63/150\n",
      "60000/60000 [==============================] - 3s 46us/step - loss: 0.0869 - val_loss: 0.0862\n",
      "Epoch 64/150\n",
      "60000/60000 [==============================] - 3s 46us/step - loss: 0.0869 - val_loss: 0.0861\n",
      "Epoch 65/150\n",
      "60000/60000 [==============================] - 3s 46us/step - loss: 0.0868 - val_loss: 0.0859\n",
      "Epoch 66/150\n",
      "60000/60000 [==============================] - 3s 46us/step - loss: 0.0867 - val_loss: 0.0858\n",
      "Epoch 67/150\n",
      "60000/60000 [==============================] - 3s 46us/step - loss: 0.0867 - val_loss: 0.0857\n",
      "Epoch 68/150\n",
      "60000/60000 [==============================] - 3s 46us/step - loss: 0.0866 - val_loss: 0.0858\n",
      "Epoch 69/150\n",
      "60000/60000 [==============================] - 3s 46us/step - loss: 0.0865 - val_loss: 0.0856\n",
      "Epoch 70/150\n",
      "60000/60000 [==============================] - 3s 46us/step - loss: 0.0865 - val_loss: 0.0855\n",
      "Epoch 71/150\n",
      "60000/60000 [==============================] - 3s 46us/step - loss: 0.0864 - val_loss: 0.0854\n",
      "Epoch 72/150\n",
      "60000/60000 [==============================] - 3s 46us/step - loss: 0.0863 - val_loss: 0.0855\n",
      "Epoch 73/150\n",
      "60000/60000 [==============================] - 3s 46us/step - loss: 0.0862 - val_loss: 0.0854\n",
      "Epoch 74/150\n",
      "60000/60000 [==============================] - 3s 46us/step - loss: 0.0862 - val_loss: 0.0853\n",
      "Epoch 75/150\n",
      "60000/60000 [==============================] - 3s 46us/step - loss: 0.0861 - val_loss: 0.0854\n",
      "Epoch 76/150\n",
      "60000/60000 [==============================] - 3s 46us/step - loss: 0.0861 - val_loss: 0.0852\n",
      "Epoch 77/150\n",
      "60000/60000 [==============================] - 3s 45us/step - loss: 0.0860 - val_loss: 0.0851\n",
      "Epoch 78/150\n",
      "60000/60000 [==============================] - 3s 45us/step - loss: 0.0859 - val_loss: 0.0851\n",
      "Epoch 79/150\n",
      "60000/60000 [==============================] - 3s 46us/step - loss: 0.0859 - val_loss: 0.0850\n",
      "Epoch 80/150\n",
      "60000/60000 [==============================] - 3s 45us/step - loss: 0.0858 - val_loss: 0.0849\n",
      "Epoch 81/150\n",
      "60000/60000 [==============================] - 3s 46us/step - loss: 0.0858 - val_loss: 0.0849\n",
      "Epoch 82/150\n",
      "60000/60000 [==============================] - 3s 45us/step - loss: 0.0857 - val_loss: 0.0850\n",
      "Epoch 83/150\n",
      "60000/60000 [==============================] - 3s 45us/step - loss: 0.0857 - val_loss: 0.0848\n",
      "Epoch 84/150\n",
      "60000/60000 [==============================] - 3s 45us/step - loss: 0.0856 - val_loss: 0.0847\n",
      "Epoch 85/150\n",
      "60000/60000 [==============================] - 3s 46us/step - loss: 0.0855 - val_loss: 0.0847\n",
      "Epoch 86/150\n",
      "60000/60000 [==============================] - 3s 46us/step - loss: 0.0855 - val_loss: 0.0847\n",
      "Epoch 87/150\n",
      "60000/60000 [==============================] - 3s 46us/step - loss: 0.0855 - val_loss: 0.0846\n",
      "Epoch 88/150\n",
      "60000/60000 [==============================] - 3s 45us/step - loss: 0.0854 - val_loss: 0.0845\n",
      "Epoch 89/150\n",
      "60000/60000 [==============================] - 3s 46us/step - loss: 0.0854 - val_loss: 0.0845\n",
      "Epoch 90/150\n",
      "60000/60000 [==============================] - 3s 46us/step - loss: 0.0853 - val_loss: 0.0844\n",
      "Epoch 91/150\n",
      "60000/60000 [==============================] - 3s 46us/step - loss: 0.0853 - val_loss: 0.0844\n",
      "Epoch 92/150\n",
      "60000/60000 [==============================] - 3s 46us/step - loss: 0.0853 - val_loss: 0.0844\n",
      "Epoch 93/150\n",
      "60000/60000 [==============================] - 3s 46us/step - loss: 0.0852 - val_loss: 0.0843\n",
      "Epoch 94/150\n",
      "60000/60000 [==============================] - 3s 46us/step - loss: 0.0851 - val_loss: 0.0844\n",
      "Epoch 95/150\n",
      "60000/60000 [==============================] - 3s 46us/step - loss: 0.0851 - val_loss: 0.0843\n",
      "Epoch 96/150\n",
      "60000/60000 [==============================] - 3s 45us/step - loss: 0.0851 - val_loss: 0.0843\n",
      "Epoch 97/150\n",
      "60000/60000 [==============================] - 3s 46us/step - loss: 0.0851 - val_loss: 0.0842\n",
      "Epoch 98/150\n",
      "60000/60000 [==============================] - 3s 46us/step - loss: 0.0850 - val_loss: 0.0842\n",
      "Epoch 99/150\n",
      "60000/60000 [==============================] - 3s 45us/step - loss: 0.0850 - val_loss: 0.0841\n",
      "Epoch 100/150\n",
      "60000/60000 [==============================] - 3s 46us/step - loss: 0.0849 - val_loss: 0.0843\n",
      "Epoch 101/150\n",
      "60000/60000 [==============================] - 3s 46us/step - loss: 0.0849 - val_loss: 0.0840\n",
      "Epoch 102/150\n",
      "60000/60000 [==============================] - 3s 46us/step - loss: 0.0849 - val_loss: 0.0840\n",
      "Epoch 103/150\n",
      "60000/60000 [==============================] - 3s 46us/step - loss: 0.0848 - val_loss: 0.0840\n",
      "Epoch 104/150\n",
      "60000/60000 [==============================] - 3s 46us/step - loss: 0.0848 - val_loss: 0.0840\n",
      "Epoch 105/150\n",
      "60000/60000 [==============================] - 3s 46us/step - loss: 0.0848 - val_loss: 0.0840\n",
      "Epoch 106/150\n",
      "60000/60000 [==============================] - 3s 46us/step - loss: 0.0847 - val_loss: 0.0839\n",
      "Epoch 107/150\n",
      "60000/60000 [==============================] - 3s 46us/step - loss: 0.0847 - val_loss: 0.0839\n",
      "Epoch 108/150\n",
      "60000/60000 [==============================] - 3s 45us/step - loss: 0.0846 - val_loss: 0.0838\n",
      "Epoch 109/150\n",
      "60000/60000 [==============================] - 3s 45us/step - loss: 0.0846 - val_loss: 0.0838\n",
      "Epoch 110/150\n",
      "60000/60000 [==============================] - 3s 46us/step - loss: 0.0846 - val_loss: 0.0838\n",
      "Epoch 111/150\n",
      "60000/60000 [==============================] - 3s 45us/step - loss: 0.0845 - val_loss: 0.0838\n",
      "Epoch 112/150\n",
      "60000/60000 [==============================] - 3s 45us/step - loss: 0.0845 - val_loss: 0.0837\n",
      "Epoch 113/150\n",
      "60000/60000 [==============================] - 3s 45us/step - loss: 0.0844 - val_loss: 0.0836\n",
      "Epoch 114/150\n",
      "60000/60000 [==============================] - 3s 46us/step - loss: 0.0844 - val_loss: 0.0837\n",
      "Epoch 115/150\n",
      "60000/60000 [==============================] - 3s 45us/step - loss: 0.0844 - val_loss: 0.0836\n",
      "Epoch 116/150\n",
      "60000/60000 [==============================] - 3s 45us/step - loss: 0.0844 - val_loss: 0.0835\n",
      "Epoch 117/150\n",
      "60000/60000 [==============================] - 3s 45us/step - loss: 0.0843 - val_loss: 0.0835\n",
      "Epoch 118/150\n",
      "60000/60000 [==============================] - 3s 45us/step - loss: 0.0843 - val_loss: 0.0842\n",
      "Epoch 119/150\n",
      "60000/60000 [==============================] - 3s 45us/step - loss: 0.0843 - val_loss: 0.0834\n",
      "Epoch 120/150\n",
      "60000/60000 [==============================] - 3s 46us/step - loss: 0.0842 - val_loss: 0.0834\n",
      "Epoch 121/150\n",
      "60000/60000 [==============================] - 3s 46us/step - loss: 0.0841 - val_loss: 0.0833\n",
      "Epoch 122/150\n",
      "60000/60000 [==============================] - 3s 46us/step - loss: 0.0841 - val_loss: 0.0834\n",
      "Epoch 123/150\n",
      "60000/60000 [==============================] - 3s 45us/step - loss: 0.0841 - val_loss: 0.0833\n",
      "Epoch 124/150\n",
      "60000/60000 [==============================] - 3s 45us/step - loss: 0.0841 - val_loss: 0.0834\n",
      "Epoch 125/150\n",
      "60000/60000 [==============================] - 3s 45us/step - loss: 0.0840 - val_loss: 0.0832\n",
      "Epoch 126/150\n",
      "60000/60000 [==============================] - 3s 46us/step - loss: 0.0840 - val_loss: 0.0833\n",
      "Epoch 127/150\n",
      "60000/60000 [==============================] - 3s 45us/step - loss: 0.0839 - val_loss: 0.0831\n",
      "Epoch 128/150\n",
      "60000/60000 [==============================] - 3s 45us/step - loss: 0.0839 - val_loss: 0.0831\n",
      "Epoch 129/150\n",
      "60000/60000 [==============================] - 3s 45us/step - loss: 0.0839 - val_loss: 0.0831\n",
      "Epoch 130/150\n",
      "60000/60000 [==============================] - 3s 46us/step - loss: 0.0838 - val_loss: 0.0831\n",
      "Epoch 131/150\n",
      "60000/60000 [==============================] - 3s 46us/step - loss: 0.0838 - val_loss: 0.0831\n",
      "Epoch 132/150\n",
      "60000/60000 [==============================] - 3s 45us/step - loss: 0.0838 - val_loss: 0.0831\n",
      "Epoch 133/150\n",
      "60000/60000 [==============================] - 3s 46us/step - loss: 0.0837 - val_loss: 0.0830\n",
      "Epoch 134/150\n",
      "60000/60000 [==============================] - 3s 46us/step - loss: 0.0837 - val_loss: 0.0829\n",
      "Epoch 135/150\n",
      "60000/60000 [==============================] - 3s 46us/step - loss: 0.0837 - val_loss: 0.0829\n",
      "Epoch 136/150\n",
      "60000/60000 [==============================] - 3s 46us/step - loss: 0.0837 - val_loss: 0.0828\n",
      "Epoch 137/150\n",
      "60000/60000 [==============================] - 3s 45us/step - loss: 0.0837 - val_loss: 0.0829\n",
      "Epoch 138/150\n",
      "60000/60000 [==============================] - 3s 46us/step - loss: 0.0836 - val_loss: 0.0828\n",
      "Epoch 139/150\n",
      "60000/60000 [==============================] - 3s 45us/step - loss: 0.0836 - val_loss: 0.0827\n",
      "Epoch 140/150\n",
      "60000/60000 [==============================] - 3s 46us/step - loss: 0.0835 - val_loss: 0.0827\n",
      "Epoch 141/150\n",
      "60000/60000 [==============================] - 3s 46us/step - loss: 0.0835 - val_loss: 0.0827\n",
      "Epoch 142/150\n",
      "60000/60000 [==============================] - 3s 46us/step - loss: 0.0835 - val_loss: 0.0828\n",
      "Epoch 143/150\n",
      "60000/60000 [==============================] - 3s 46us/step - loss: 0.0835 - val_loss: 0.0828\n",
      "Epoch 144/150\n",
      "60000/60000 [==============================] - 3s 45us/step - loss: 0.0834 - val_loss: 0.0827\n",
      "Epoch 145/150\n",
      "60000/60000 [==============================] - 3s 45us/step - loss: 0.0834 - val_loss: 0.0828\n",
      "Epoch 146/150\n",
      "60000/60000 [==============================] - 3s 45us/step - loss: 0.0834 - val_loss: 0.0826\n",
      "Epoch 147/150\n",
      "60000/60000 [==============================] - 3s 45us/step - loss: 0.0834 - val_loss: 0.0826\n",
      "Epoch 148/150\n",
      "60000/60000 [==============================] - 3s 45us/step - loss: 0.0834 - val_loss: 0.0828\n",
      "Epoch 149/150\n",
      "60000/60000 [==============================] - 3s 46us/step - loss: 0.0833 - val_loss: 0.0826\n",
      "Epoch 150/150\n",
      "60000/60000 [==============================] - 3s 45us/step - loss: 0.0833 - val_loss: 0.0827\n"
     ]
    }
   ],
   "source": [
    "num_epochs = 150\n",
    "batch_size = 1024\n",
    "dae_history = dae.model.fit(data_train_noisy, data_train,\n",
    "                                    validation_data=(data_test_noisy, data_test),\n",
    "                                    epochs=num_epochs,\n",
    "                                    batch_size=batch_size,\n",
    "                                    shuffle=True)"
   ]
  },
  {
   "cell_type": "code",
   "execution_count": 0,
   "metadata": {
    "colab": {},
    "colab_type": "code",
    "id": "-BTSmIJfhc6I"
   },
   "outputs": [],
   "source": [
    "reconstructions = dae.model.predict(data_test_noisy)"
   ]
  },
  {
   "cell_type": "code",
   "execution_count": 0,
   "metadata": {
    "colab": {},
    "colab_type": "code",
    "id": "xN8Z7Q2mhrMP"
   },
   "outputs": [],
   "source": [
    "get_l1 = K.function([dae.model.layers[0].input], [dae.model.layers[0].output])\n",
    "get_l2 = K.function([dae.model.layers[1].input], [dae.model.layers[1].output])\n",
    "get_l3 = K.function([dae.model.layers[2].input], [dae.model.layers[2].output])\n",
    "get_hl = K.function([dae.model.layers[3].input], [dae.model.layers[3].output])\n",
    "data_test_hidden_layer_rep = get_hl(get_l3(get_l2(get_l1([data_test]))))[0]"
   ]
  },
  {
   "cell_type": "markdown",
   "metadata": {
    "colab_type": "text",
    "id": "GaZFThkFhzGK"
   },
   "source": [
    "## Original Version of Test Data"
   ]
  },
  {
   "cell_type": "code",
   "execution_count": 38,
   "metadata": {
    "colab": {
     "base_uri": "https://localhost:8080/",
     "height": 145
    },
    "colab_type": "code",
    "id": "0fcEwCi2hzt0",
    "outputId": "8e0ff5bc-b648-4c1d-a287-c969124802e0"
   },
   "outputs": [
    {
     "data": {
      "image/png": "[encoded data removed]",
      "text/plain": [
       "<Figure size 1440x288 with 10 Axes>"
      ]
     },
     "metadata": {
      "tags": []
     },
     "output_type": "display_data"
    }
   ],
   "source": [
    "n = 10\n",
    "plt.figure(figsize=(20, 4))\n",
    "for i in range(n):\n",
    "  ax = plt.subplot(1, n, i+1)\n",
    "  plt.imshow(data_test[i].reshape(28, 28))\n",
    "  \n",
    "  plt.gray()\n",
    "  ax.get_xaxis().set_visible(False)\n",
    "  ax.get_yaxis().set_visible(False)"
   ]
  },
  {
   "cell_type": "markdown",
   "metadata": {
    "colab_type": "text",
    "id": "5WwB_TeGh3N0"
   },
   "source": [
    "## Latent Representation of Hidden Layers"
   ]
  },
  {
   "cell_type": "code",
   "execution_count": 39,
   "metadata": {
    "colab": {
     "base_uri": "https://localhost:8080/",
     "height": 240
    },
    "colab_type": "code",
    "id": "yL1sGYmEh9lT",
    "outputId": "07ec0e60-1c6e-437e-ba9a-3fb6fa4e5fbb"
   },
   "outputs": [
    {
     "data": {
      "image/png": "[encoded data removed]",
      "text/plain": [
       "<Figure size 1440x288 with 10 Axes>"
      ]
     },
     "metadata": {
      "tags": []
     },
     "output_type": "display_data"
    }
   ],
   "source": [
    "n = 10\n",
    "plt.figure(figsize=(20, 4))\n",
    "for i in range(n):\n",
    "  ax = plt.subplot(1, n, i+1)\n",
    "  plt.imshow(data_test_hidden_layer_rep[i].reshape(28, 14))\n",
    "  plt.gray()\n",
    "  ax.get_xaxis().set_visible(False)\n",
    "  ax.get_yaxis().set_visible(False)"
   ]
  },
  {
   "cell_type": "markdown",
   "metadata": {
    "colab_type": "text",
    "id": "5y0tZlWYiDnt"
   },
   "source": [
    "## Test Data + Noise"
   ]
  },
  {
   "cell_type": "code",
   "execution_count": 40,
   "metadata": {
    "colab": {
     "base_uri": "https://localhost:8080/",
     "height": 145
    },
    "colab_type": "code",
    "id": "a056bUXpiOp5",
    "outputId": "15aed42e-2102-4508-afee-c4a5cf0b064c"
   },
   "outputs": [
    {
     "data": {
      "image/png": "[encoded data removed]",
      "text/plain": [
       "<Figure size 1440x288 with 10 Axes>"
      ]
     },
     "metadata": {
      "tags": []
     },
     "output_type": "display_data"
    }
   ],
   "source": [
    "n = 10\n",
    "plt.figure(figsize=(20, 4))\n",
    "for i in range(n):\n",
    "  ax = plt.subplot(1, n, i+1)\n",
    "  plt.imshow(data_test_noisy[i].reshape(28, 28))\n",
    "  plt.gray()\n",
    "  ax.get_xaxis().set_visible(False)\n",
    "  ax.get_yaxis().set_visible(False)"
   ]
  },
  {
   "cell_type": "markdown",
   "metadata": {
    "colab_type": "text",
    "id": "89bunkpCiMgf"
   },
   "source": [
    "## Test Data after de-noising"
   ]
  },
  {
   "cell_type": "code",
   "execution_count": 0,
   "metadata": {
    "colab": {
     "base_uri": "https://localhost:8080/",
     "height": 145
    },
    "colab_type": "code",
    "id": "lLQWDY_jiJPM",
    "outputId": "4008d30d-61df-4403-ad34-60711a6500ac"
   },
   "outputs": [
    {
     "data": {
      "image/png": "[encoded data removed]",
      "text/plain": [
       "<Figure size 1440x288 with 10 Axes>"
      ]
     },
     "metadata": {
      "tags": []
     },
     "output_type": "display_data"
    }
   ],
   "source": [
    "n = 10\n",
    "plt.figure(figsize=(20, 4))\n",
    "for i in range(n):\n",
    "  ax = plt.subplot(1, n, i+1)\n",
    "  plt.imshow(reconstructions[i].reshape(28, 28))\n",
    "  plt.gray()\n",
    "  ax.get_xaxis().set_visible(False)\n",
    "  ax.get_yaxis().set_visible(False)"
   ]
  },
  {
   "cell_type": "markdown",
   "metadata": {
    "colab_type": "text",
    "id": "ObDAEUq2iXym"
   },
   "source": [
    "## Loss Curves"
   ]
  },
  {
   "cell_type": "code",
   "execution_count": 41,
   "metadata": {
    "colab": {
     "base_uri": "https://localhost:8080/",
     "height": 295
    },
    "colab_type": "code",
    "id": "9FBn8OT2iXh_",
    "outputId": "1ee02a9a-9d68-4ee3-9e21-db23c04a8f56"
   },
   "outputs": [
    {
     "data": {
      "image/png": "[encoded data removed]",
      "text/plain": [
       "<Figure size 432x288 with 1 Axes>"
      ]
     },
     "metadata": {
      "tags": []
     },
     "output_type": "display_data"
    }
   ],
   "source": [
    "plt.plot(dae_history.history['loss'])\n",
    "plt.plot(dae_history.history['val_loss'])\n",
    "plt.xlabel(\"Epochs\")\n",
    "plt.ylabel(\"Loss\")\n",
    "plt.title(\"Loss v/s Epochs\")\n",
    "plt.legend(['train', 'test'], loc='upper right')\n",
    "plt.show()"
   ]
  }
 ],
 "metadata": {
  "accelerator": "GPU",
  "colab": {
   "collapsed_sections": [],
   "name": "P2_Rajasekharan Pillai_Murali Krishnan_autoencoders.ipynb",
   "provenance": []
  },
  "kernelspec": {
   "display_name": "Python 3",
   "language": "python",
   "name": "python3"
  },
  "language_info": {
   "codemirror_mode": {
    "name": "ipython",
    "version": 3
   },
   "file_extension": ".py",
   "mimetype": "text/x-python",
   "name": "python",
   "nbconvert_exporter": "python",
   "pygments_lexer": "ipython3",
   "version": "3.6.8"
  }
 },
 "nbformat": 4,
 "nbformat_minor": 1
}
