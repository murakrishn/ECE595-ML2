{
 "cells": [
  {
   "cell_type": "code",
   "execution_count": 1,
   "metadata": {},
   "outputs": [],
   "source": [
    "import numpy as np\n",
    "import torch\n",
    "import torchvision\n",
    "from torchvision import datasets, transforms\n",
    "import matplotlib.pyplot as plt\n",
    "import pickle"
   ]
  },
  {
   "cell_type": "markdown",
   "metadata": {},
   "source": [
    "# Part 0 : Importing and Normalizing Data"
   ]
  },
  {
   "cell_type": "code",
   "execution_count": 2,
   "metadata": {},
   "outputs": [],
   "source": [
    "transform = transforms.Compose([transforms.ToTensor()])"
   ]
  },
  {
   "cell_type": "code",
   "execution_count": 3,
   "metadata": {},
   "outputs": [],
   "source": [
    "trainset = datasets.FashionMNIST('./F_MNIST_data/'\n",
    "                                 , train = True, transform=transform, download=True)"
   ]
  },
  {
   "cell_type": "code",
   "execution_count": 4,
   "metadata": {},
   "outputs": [],
   "source": [
    "trainloader = torch.utils.data.DataLoader(trainset,  shuffle=True, batch_size=60)"
   ]
  },
  {
   "cell_type": "code",
   "execution_count": 5,
   "metadata": {},
   "outputs": [],
   "source": [
    "testset = datasets.FashionMNIST('./F_MNIST_data/',\n",
    "                               train=False, transform=transform,\n",
    "                               download=True)"
   ]
  },
  {
   "cell_type": "code",
   "execution_count": 6,
   "metadata": {},
   "outputs": [],
   "source": [
    "testloader = torch.utils.data.DataLoader(testset, shuffle=True,\n",
    "                                        batch_size=60)"
   ]
  },
  {
   "cell_type": "markdown",
   "metadata": {},
   "source": [
    "# Part 2 Design Model"
   ]
  },
  {
   "cell_type": "code",
   "execution_count": 7,
   "metadata": {},
   "outputs": [],
   "source": [
    "from torch import nn, optim\n",
    "import torch.nn.functional as F"
   ]
  },
  {
   "cell_type": "code",
   "execution_count": 8,
   "metadata": {},
   "outputs": [],
   "source": [
    "class Model(nn.Module):\n",
    "    def __init__(self):\n",
    "        super(Model, self).__init__()\n",
    "        self.layer1 = nn.Sequential(\n",
    "        nn.Conv2d(1, 16, kernel_size=5, padding=2),\n",
    "        nn.BatchNorm2d(16),\n",
    "        nn.ReLU(),\n",
    "        nn.MaxPool2d(2))\n",
    "        self.layer2 = nn.Sequential(\n",
    "        nn.Conv2d(16, 32, kernel_size=5, padding=2),\n",
    "        nn.BatchNorm2d(32),\n",
    "        nn.ReLU(),\n",
    "        nn.MaxPool2d(2))\n",
    "        self.fc = nn.Linear(7*7*32, 10)\n",
    "    def forward(self, x):\n",
    "        out = self.layer1(x)\n",
    "        out = self.layer2(out)\n",
    "        out = out.view(out.size(0), -1)\n",
    "        out = self.fc(out)\n",
    "        return out"
   ]
  },
  {
   "cell_type": "code",
   "execution_count": 9,
   "metadata": {},
   "outputs": [],
   "source": [
    "model = Model()"
   ]
  },
  {
   "cell_type": "code",
   "execution_count": 10,
   "metadata": {},
   "outputs": [],
   "source": [
    "criterion = nn.CrossEntropyLoss()\n",
    "optimizer = optim.SGD(model.parameters(), lr=0.005)"
   ]
  },
  {
   "cell_type": "markdown",
   "metadata": {},
   "source": [
    "# Part 3: Train the model"
   ]
  },
  {
   "cell_type": "code",
   "execution_count": 11,
   "metadata": {},
   "outputs": [
    {
     "name": "stdout",
     "output_type": "stream",
     "text": [
      "1000\n"
     ]
    }
   ],
   "source": [
    "print(len(trainloader))"
   ]
  },
  {
   "cell_type": "code",
   "execution_count": 12,
   "metadata": {},
   "outputs": [
    {
     "name": "stdout",
     "output_type": "stream",
     "text": [
      "Epoch: 1/30... Training loss: 0.617... Test loss: 0.459... Test Accuracy: 0.841\n",
      "Epoch: 2/30... Training loss: 0.401... Test loss: 0.398... Test Accuracy: 0.861\n",
      "Epoch: 3/30... Training loss: 0.353... Test loss: 0.357... Test Accuracy: 0.875\n",
      "Epoch: 4/30... Training loss: 0.325... Test loss: 0.342... Test Accuracy: 0.877\n",
      "Epoch: 5/30... Training loss: 0.306... Test loss: 0.324... Test Accuracy: 0.884\n",
      "Epoch: 6/30... Training loss: 0.291... Test loss: 0.325... Test Accuracy: 0.882\n",
      "Epoch: 7/30... Training loss: 0.280... Test loss: 0.311... Test Accuracy: 0.889\n",
      "Epoch: 8/30... Training loss: 0.270... Test loss: 0.328... Test Accuracy: 0.879\n",
      "Epoch: 9/30... Training loss: 0.262... Test loss: 0.309... Test Accuracy: 0.889\n",
      "Epoch: 10/30... Training loss: 0.254... Test loss: 0.312... Test Accuracy: 0.886\n",
      "Epoch: 11/30... Training loss: 0.248... Test loss: 0.288... Test Accuracy: 0.895\n",
      "Epoch: 12/30... Training loss: 0.243... Test loss: 0.286... Test Accuracy: 0.900\n",
      "Epoch: 13/30... Training loss: 0.237... Test loss: 0.281... Test Accuracy: 0.901\n",
      "Epoch: 14/30... Training loss: 0.231... Test loss: 0.289... Test Accuracy: 0.898\n",
      "Epoch: 15/30... Training loss: 0.227... Test loss: 0.277... Test Accuracy: 0.901\n",
      "Epoch: 16/30... Training loss: 0.223... Test loss: 0.306... Test Accuracy: 0.888\n",
      "Epoch: 17/30... Training loss: 0.219... Test loss: 0.269... Test Accuracy: 0.906\n",
      "Epoch: 18/30... Training loss: 0.215... Test loss: 0.272... Test Accuracy: 0.901\n",
      "Epoch: 19/30... Training loss: 0.211... Test loss: 0.277... Test Accuracy: 0.901\n",
      "Epoch: 20/30... Training loss: 0.208... Test loss: 0.282... Test Accuracy: 0.898\n",
      "Epoch: 21/30... Training loss: 0.204... Test loss: 0.268... Test Accuracy: 0.905\n",
      "Epoch: 22/30... Training loss: 0.201... Test loss: 0.272... Test Accuracy: 0.901\n",
      "Epoch: 23/30... Training loss: 0.197... Test loss: 0.266... Test Accuracy: 0.904\n",
      "Epoch: 24/30... Training loss: 0.194... Test loss: 0.267... Test Accuracy: 0.905\n",
      "Epoch: 25/30... Training loss: 0.191... Test loss: 0.266... Test Accuracy: 0.906\n",
      "Epoch: 26/30... Training loss: 0.189... Test loss: 0.266... Test Accuracy: 0.905\n",
      "Epoch: 27/30... Training loss: 0.186... Test loss: 0.261... Test Accuracy: 0.907\n",
      "Epoch: 28/30... Training loss: 0.183... Test loss: 0.278... Test Accuracy: 0.901\n",
      "Epoch: 29/30... Training loss: 0.180... Test loss: 0.262... Test Accuracy: 0.908\n",
      "Epoch: 30/30... Training loss: 0.177... Test loss: 0.260... Test Accuracy: 0.909\n"
     ]
    }
   ],
   "source": [
    "epochs = 30\n",
    "\n",
    "train_losses, test_losses= [], []\n",
    "\n",
    "for epoch in range(epochs):\n",
    "    train_loss = 0\n",
    "    test_loss = 0\n",
    "    accuracy = 0\n",
    "    for images, labels in trainloader:\n",
    "        optimizer.zero_grad()\n",
    "        op = model(images)\n",
    "        loss = criterion(op, labels)\n",
    "        train_loss += loss.item()\n",
    "        loss.backward()\n",
    "        optimizer.step()\n",
    "        \n",
    "    with torch.no_grad():\n",
    "        model.eval()\n",
    "        for images, labels in testloader:\n",
    "            log_ps = model(images)\n",
    "            prob = torch.exp(log_ps)\n",
    "            top_probs, top_classes = prob.topk(1, dim=1)\n",
    "            equals = labels == top_classes.view(labels.shape)\n",
    "            accuracy += equals.type(torch.FloatTensor).mean()\n",
    "            test_loss += criterion(log_ps, labels)\n",
    "        model.train()\n",
    "    print(\"Epoch: {}/{}...\".format(epoch + 1, epochs),\n",
    "         \"Training loss: {:.3f}...\".format(train_loss / len(trainloader)),\n",
    "         \"Test loss: {:.3f}...\".format(test_loss / len(testloader)),\n",
    "         \"Test Accuracy: {:.3f}\".format(accuracy / len(testloader)))\n",
    "    train_losses.append(train_loss / len(trainloader))\n",
    "    test_losses.append(test_loss / len(testloader))"
   ]
  },
  {
   "cell_type": "code",
   "execution_count": null,
   "metadata": {},
   "outputs": [],
   "source": []
  }
 ],
 "metadata": {
  "kernelspec": {
   "display_name": "py36-pytorch",
   "language": "python",
   "name": "py36-pytorch"
  },
  "language_info": {
   "codemirror_mode": {
    "name": "ipython",
    "version": 3
   },
   "file_extension": ".py",
   "mimetype": "text/x-python",
   "name": "python",
   "nbconvert_exporter": "python",
   "pygments_lexer": "ipython3",
   "version": "3.6.8"
  }
 },
 "nbformat": 4,
 "nbformat_minor": 2
}
