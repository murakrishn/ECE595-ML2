{
 "cells": [
  {
   "cell_type": "markdown",
   "metadata": {
    "colab_type": "text",
    "id": "hqQMRp8KPv1N"
   },
   "source": [
    "# Student Name: Murali Krishnan Rajasekharan Pillai\n",
    "# ECE 595 Machine Learning II\n",
    "# Bonus Exercise : Visualizing the Percent Activating Units in Hidden Layers"
   ]
  },
  {
   "cell_type": "code",
   "execution_count": 1,
   "metadata": {
    "colab": {
     "base_uri": "https://localhost:8080/",
     "height": 306
    },
    "colab_type": "code",
    "id": "A0IXlLWTPZWX",
    "outputId": "f336c08c-ce72-43b6-d97a-05242f1e1bd8"
   },
   "outputs": [
    {
     "name": "stdout",
     "output_type": "stream",
     "text": [
      "Fri Oct  4 19:13:16 2019       \n",
      "+-----------------------------------------------------------------------------+\n",
      "| NVIDIA-SMI 430.40       Driver Version: 418.67       CUDA Version: 10.1     |\n",
      "|-------------------------------+----------------------+----------------------+\n",
      "| GPU  Name        Persistence-M| Bus-Id        Disp.A | Volatile Uncorr. ECC |\n",
      "| Fan  Temp  Perf  Pwr:Usage/Cap|         Memory-Usage | GPU-Util  Compute M. |\n",
      "|===============================+======================+======================|\n",
      "|   0  Tesla K80           Off  | 00000000:00:04.0 Off |                    0 |\n",
      "| N/A   38C    P8    26W / 149W |      0MiB / 11441MiB |      0%      Default |\n",
      "+-------------------------------+----------------------+----------------------+\n",
      "                                                                               \n",
      "+-----------------------------------------------------------------------------+\n",
      "| Processes:                                                       GPU Memory |\n",
      "|  GPU       PID   Type   Process name                             Usage      |\n",
      "|=============================================================================|\n",
      "|  No running processes found                                                 |\n",
      "+-----------------------------------------------------------------------------+\n"
     ]
    }
   ],
   "source": [
    "!nvidia-smi"
   ]
  },
  {
   "cell_type": "code",
   "execution_count": 3,
   "metadata": {
    "colab": {
     "base_uri": "https://localhost:8080/",
     "height": 122
    },
    "colab_type": "code",
    "id": "gaG1cZgUOmx3",
    "outputId": "8827e882-ec13-41ce-9eb2-9b646fc2cab0"
   },
   "outputs": [
    {
     "name": "stdout",
     "output_type": "stream",
     "text": [
      "Go to this URL in a browser: https://accounts.google.com/o/oauth2/auth?client_id=947318989803-6bn6qk8qdgf4n4g3pfee6491hc0brc4i.apps.googleusercontent.com&redirect_uri=urn%3Aietf%3Awg%3Aoauth%3A2.0%3Aoob&scope=email%20https%3A%2F%2Fwww.googleapis.com%2Fauth%2Fdocs.test%20https%3A%2F%2Fwww.googleapis.com%2Fauth%2Fdrive%20https%3A%2F%2Fwww.googleapis.com%2Fauth%2Fdrive.photos.readonly%20https%3A%2F%2Fwww.googleapis.com%2Fauth%2Fpeopleapi.readonly&response_type=code\n",
      "\n",
      "Enter your authorization code:\n",
      "··········\n",
      "Mounted at /content/gdrive\n"
     ]
    }
   ],
   "source": [
    "from google.colab import drive\n",
    "drive.mount('/content/gdrive', force_remount=True)\n",
    "MODEL_LOCATION = \"gdrive/My Drive/ece595_ml2/models/\""
   ]
  },
  {
   "cell_type": "code",
   "execution_count": 4,
   "metadata": {
    "colab": {
     "base_uri": "https://localhost:8080/",
     "height": 34
    },
    "colab_type": "code",
    "id": "qe3Uy3I8PfCS",
    "outputId": "5d3bc3b3-3987-4681-d601-6829e6945ab8"
   },
   "outputs": [
    {
     "name": "stderr",
     "output_type": "stream",
     "text": [
      "Using TensorFlow backend.\n"
     ]
    }
   ],
   "source": [
    "import keras\n",
    "import numpy as np\n",
    "from keras.datasets import mnist\n",
    "from keras.models import Sequential, model_from_json\n",
    "from keras.layers import Dense, Conv2D, Dropout, Flatten, MaxPool2D\n",
    "from keras.optimizers import Adam\n",
    "from keras import backend as K\n",
    "import matplotlib.pyplot as plt\n",
    "import pickle"
   ]
  },
  {
   "cell_type": "markdown",
   "metadata": {
    "colab_type": "text",
    "id": "f_9P49CeQvMM"
   },
   "source": [
    "# Part 0 : Importing and Normalizing MNIST Data"
   ]
  },
  {
   "cell_type": "code",
   "execution_count": 5,
   "metadata": {
    "colab": {
     "base_uri": "https://localhost:8080/",
     "height": 51
    },
    "colab_type": "code",
    "id": "0O5c4JEXQpyv",
    "outputId": "381f1a06-9377-423d-853f-e9d4450df1aa"
   },
   "outputs": [
    {
     "name": "stdout",
     "output_type": "stream",
     "text": [
      "Downloading data from https://s3.amazonaws.com/img-datasets/mnist.npz\n",
      "11493376/11490434 [==============================] - 0s 0us/step\n"
     ]
    }
   ],
   "source": [
    "# has shape (num_samples, 28, 28)\n",
    "(data_train, labels_train), (data_test, labels_test) = mnist.load_data()\n",
    "data_train = data_train / 255.0\n",
    "data_test = data_test / 255.0\n",
    "data_train = data_train.reshape(60000, 28, 28, 1)\n",
    "data_test = data_test.reshape(10000, 28, 28, 1)"
   ]
  },
  {
   "cell_type": "code",
   "execution_count": 0,
   "metadata": {
    "colab": {},
    "colab_type": "code",
    "id": "hsA_OYDHQzVE"
   },
   "outputs": [],
   "source": [
    "# Create labels as one-hot encoders\n",
    "labels_train = keras.utils.np_utils.to_categorical(labels_train, num_classes=10)\n",
    "labels_test = keras.utils.np_utils.to_categorical(labels_test, num_classes=10)"
   ]
  },
  {
   "cell_type": "markdown",
   "metadata": {
    "colab_type": "text",
    "id": "a-AbleGISEQv"
   },
   "source": [
    "# Defining a CNN"
   ]
  },
  {
   "cell_type": "code",
   "execution_count": 0,
   "metadata": {
    "colab": {},
    "colab_type": "code",
    "id": "3X-ekipWP-5K"
   },
   "outputs": [],
   "source": [
    "class model_methods(object):\n",
    "  def __init__(self, loss_fn, optim, ndim):\n",
    "    \"\"\"\n",
    "    Try to develop a class which contains common functionality of\n",
    "    NN models. Like saving a model & it's weights.\"\"\"\n",
    "    self.loss_fn = loss_fn\n",
    "    self.optim = optim\n",
    "    self.ndim = ndim\n",
    "  \n",
    "  def save_model_weights(self, h5_file_name):\n",
    "    \"\"\"\n",
    "    Save weights of the model\n",
    "    Parameters:\n",
    "      :h5_file_name:    Identifier of the model weights h5 file\n",
    "    \"\"\"\n",
    "    self.model.save_weights(h5_file_name)\n",
    "  \n",
    "  def save_model(self, json_file_name):\n",
    "    \"\"\"\n",
    "    Save the model\n",
    "    Parameters:\n",
    "      :json_file_name:    Identifier of the model in json file\n",
    "    \"\"\"\n",
    "    ae_model_json = self.model.to_json()\n",
    "    with open(json_file_name, 'w') as json_file:\n",
    "      json_file.write(ae_model_json)\n",
    "  \n",
    "  def load_model(self, json_file_name, h5_file_name):\n",
    "    json_file = open(MODEL_LOCATION + json_file_name, 'r')\n",
    "    loaded_from_json = json_file.read()\n",
    "    json_file.close()\n",
    "    ae_model = model_from_json(loaded_from_json) \n",
    "    ae_model.load_weights(MODEL_LOCATION + h5_file_name)\n",
    "    return ae_model\n",
    "\n",
    "  def save_model_history(self, model_history, file_name):\n",
    "    \"\"\"\n",
    "    Save model history as a pickle file\n",
    "    \"\"\"\n",
    "    with open(file_name, 'wb') as f:\n",
    "      pickle.dump(model_history, f)\n",
    "\n",
    "  def load_model_history(self, pkl_file_name):\n",
    "    \"\"\"\n",
    "    Load model history pickle file\n",
    "    \"\"\"\n",
    "    with open(MODEL_LOCATION + pkl_file_name , 'rb') as f:\n",
    "      ae_history = pickle.load(f)\n",
    "    return ae_history\n"
   ]
  },
  {
   "cell_type": "code",
   "execution_count": 0,
   "metadata": {
    "colab": {},
    "colab_type": "code",
    "id": "xs93bLsNQC9p"
   },
   "outputs": [],
   "source": [
    "class CNN_model(model_methods):\n",
    "  def __init__(self, loss_fn, optim, ndim, num_classes):\n",
    "    super().__init__(loss_fn, optim, ndim)\n",
    "    self.num_classes = num_classes\n",
    "    self.model = self._build_model()\n",
    "\n",
    "  \n",
    "  def _build_model(self):\n",
    "    \"\"\"\n",
    "    Defines and compiles the architecture\n",
    "    Parameters:\n",
    "      :loss_fn:    The loss function used in the model\n",
    "      :optim:      The optimizer used for model\n",
    "    Returns:\n",
    "      :model:  The compiled model\n",
    "    \"\"\"\n",
    "    model = Sequential()\n",
    "    model.add(Conv2D(16,\n",
    "                     (3, 3),\n",
    "                     activation='relu',\n",
    "                     padding='same',\n",
    "                     input_shape=(self.ndim, self.ndim, 1)))\n",
    "    model.add(Dropout(0.30))\n",
    "    model.add(MaxPool2D(pool_size=(2, 2)))\n",
    "    model.add(Conv2D(8,\n",
    "                     (3, 3),\n",
    "                     padding='same',\n",
    "                     activation='relu'))\n",
    "    model.add(Dropout(0.30))\n",
    "    model.add(MaxPool2D(pool_size=(2, 2)))\n",
    "    model.add(Flatten())\n",
    "    model.add(Dense(50,\n",
    "                    activation='relu',\n",
    "                    kernel_initializer='normal'))\n",
    "    model.add(Dense(50,\n",
    "                    activation='relu',\n",
    "                    kernel_initializer='normal'))\n",
    "    model.add(Dense(self.num_classes,\n",
    "                    activation='softmax'))\n",
    "    model.compile(loss=self.loss_fn,\n",
    "                  optimizer=self.optim,\n",
    "                  metrics=['accuracy'])\n",
    "    return model\n",
    "    \n",
    "  def fit(self, d_train, d_test, \n",
    "          n_epochs=100, \n",
    "          batch_size=50,\n",
    "          display=25):\n",
    "    \"\"\"\n",
    "      Fit the model\n",
    "\n",
    "      Parameters:\n",
    "        :d_train:    Tuple of (training data, training labels)\n",
    "        :d_test:     Tuple of (testing data, testing labels)\n",
    "        :n_epochs:   Number of epochs for fit\n",
    "        :batch_size: Number of samples per gradient update\n",
    "      Returns:\n",
    "        :model_history: History object containing all model history info\n",
    "\n",
    "    \"\"\"\n",
    "    data_train, labels_train = d_train\n",
    "    #out_batch = NBatchLogger(display)\n",
    "    model_history = self.model.fit(data_train, labels_train,\n",
    "                          validation_data=d_test,\n",
    "                          epochs=n_epochs,\n",
    "                          batch_size=batch_size,\n",
    "                          shuffle=True)\n",
    "    return model_history"
   ]
  },
  {
   "cell_type": "code",
   "execution_count": 9,
   "metadata": {
    "colab": {
     "base_uri": "https://localhost:8080/",
     "height": 326
    },
    "colab_type": "code",
    "id": "DvHeqF19aIi6",
    "outputId": "53f81b8f-df6b-4d71-a8a8-56c32f021484"
   },
   "outputs": [
    {
     "name": "stdout",
     "output_type": "stream",
     "text": [
      "WARNING:tensorflow:From /usr/local/lib/python3.6/dist-packages/keras/backend/tensorflow_backend.py:66: The name tf.get_default_graph is deprecated. Please use tf.compat.v1.get_default_graph instead.\n",
      "\n",
      "WARNING:tensorflow:From /usr/local/lib/python3.6/dist-packages/keras/backend/tensorflow_backend.py:541: The name tf.placeholder is deprecated. Please use tf.compat.v1.placeholder instead.\n",
      "\n",
      "WARNING:tensorflow:From /usr/local/lib/python3.6/dist-packages/keras/backend/tensorflow_backend.py:4432: The name tf.random_uniform is deprecated. Please use tf.random.uniform instead.\n",
      "\n",
      "WARNING:tensorflow:From /usr/local/lib/python3.6/dist-packages/keras/backend/tensorflow_backend.py:148: The name tf.placeholder_with_default is deprecated. Please use tf.compat.v1.placeholder_with_default instead.\n",
      "\n",
      "WARNING:tensorflow:From /usr/local/lib/python3.6/dist-packages/keras/backend/tensorflow_backend.py:3733: calling dropout (from tensorflow.python.ops.nn_ops) with keep_prob is deprecated and will be removed in a future version.\n",
      "Instructions for updating:\n",
      "Please use `rate` instead of `keep_prob`. Rate should be set to `rate = 1 - keep_prob`.\n",
      "WARNING:tensorflow:From /usr/local/lib/python3.6/dist-packages/keras/backend/tensorflow_backend.py:4267: The name tf.nn.max_pool is deprecated. Please use tf.nn.max_pool2d instead.\n",
      "\n",
      "WARNING:tensorflow:From /usr/local/lib/python3.6/dist-packages/keras/backend/tensorflow_backend.py:4409: The name tf.random_normal is deprecated. Please use tf.random.normal instead.\n",
      "\n",
      "WARNING:tensorflow:From /usr/local/lib/python3.6/dist-packages/keras/optimizers.py:793: The name tf.train.Optimizer is deprecated. Please use tf.compat.v1.train.Optimizer instead.\n",
      "\n"
     ]
    }
   ],
   "source": [
    "cnn = CNN_model('categorical_crossentropy', 'adam', 28, 10)"
   ]
  },
  {
   "cell_type": "code",
   "execution_count": 10,
   "metadata": {
    "colab": {
     "base_uri": "https://localhost:8080/",
     "height": 1000
    },
    "colab_type": "code",
    "id": "Igmf1YvHRd4m",
    "outputId": "39b10e29-acc8-4847-f5b7-5fb158decb4d"
   },
   "outputs": [
    {
     "name": "stdout",
     "output_type": "stream",
     "text": [
      "WARNING:tensorflow:From /usr/local/lib/python3.6/dist-packages/tensorflow/python/ops/math_grad.py:1250: add_dispatch_support.<locals>.wrapper (from tensorflow.python.ops.array_ops) is deprecated and will be removed in a future version.\n",
      "Instructions for updating:\n",
      "Use tf.where in 2.0, which has the same broadcast rule as np.where\n",
      "Train on 60000 samples, validate on 10000 samples\n",
      "Epoch 1/150\n",
      "60000/60000 [==============================] - 10s 165us/step - loss: 1.3533 - acc: 0.6072 - val_loss: 0.6247 - val_acc: 0.8424\n",
      "Epoch 2/150\n",
      "60000/60000 [==============================] - 2s 39us/step - loss: 0.3714 - acc: 0.8850 - val_loss: 0.3744 - val_acc: 0.9242\n",
      "Epoch 3/150\n",
      "60000/60000 [==============================] - 2s 39us/step - loss: 0.2537 - acc: 0.9228 - val_loss: 0.2783 - val_acc: 0.9461\n",
      "Epoch 4/150\n",
      "60000/60000 [==============================] - 2s 39us/step - loss: 0.1958 - acc: 0.9389 - val_loss: 0.2324 - val_acc: 0.9542\n",
      "Epoch 5/150\n",
      "60000/60000 [==============================] - 2s 40us/step - loss: 0.1552 - acc: 0.9527 - val_loss: 0.1899 - val_acc: 0.9644\n",
      "Epoch 6/150\n",
      "60000/60000 [==============================] - 2s 39us/step - loss: 0.1350 - acc: 0.9579 - val_loss: 0.1606 - val_acc: 0.9677\n",
      "Epoch 7/150\n",
      "60000/60000 [==============================] - 2s 39us/step - loss: 0.1183 - acc: 0.9636 - val_loss: 0.1508 - val_acc: 0.9718\n",
      "Epoch 8/150\n",
      "60000/60000 [==============================] - 2s 39us/step - loss: 0.1067 - acc: 0.9666 - val_loss: 0.1195 - val_acc: 0.9774\n",
      "Epoch 9/150\n",
      "60000/60000 [==============================] - 2s 39us/step - loss: 0.1007 - acc: 0.9680 - val_loss: 0.1184 - val_acc: 0.9769\n",
      "Epoch 10/150\n",
      "60000/60000 [==============================] - 2s 39us/step - loss: 0.0923 - acc: 0.9712 - val_loss: 0.1085 - val_acc: 0.9812\n",
      "Epoch 11/150\n",
      "60000/60000 [==============================] - 2s 39us/step - loss: 0.0876 - acc: 0.9724 - val_loss: 0.1013 - val_acc: 0.9799\n",
      "Epoch 12/150\n",
      "60000/60000 [==============================] - 2s 39us/step - loss: 0.0810 - acc: 0.9746 - val_loss: 0.0961 - val_acc: 0.9808\n",
      "Epoch 13/150\n",
      "60000/60000 [==============================] - 2s 39us/step - loss: 0.0791 - acc: 0.9751 - val_loss: 0.0876 - val_acc: 0.9841\n",
      "Epoch 14/150\n",
      "60000/60000 [==============================] - 2s 39us/step - loss: 0.0737 - acc: 0.9773 - val_loss: 0.0814 - val_acc: 0.9860\n",
      "Epoch 15/150\n",
      "60000/60000 [==============================] - 2s 39us/step - loss: 0.0697 - acc: 0.9776 - val_loss: 0.0776 - val_acc: 0.9849\n",
      "Epoch 16/150\n",
      "60000/60000 [==============================] - 2s 39us/step - loss: 0.0690 - acc: 0.9784 - val_loss: 0.0766 - val_acc: 0.9857\n",
      "Epoch 17/150\n",
      "60000/60000 [==============================] - 2s 39us/step - loss: 0.0671 - acc: 0.9787 - val_loss: 0.0726 - val_acc: 0.9868\n",
      "Epoch 18/150\n",
      "60000/60000 [==============================] - 2s 39us/step - loss: 0.0639 - acc: 0.9800 - val_loss: 0.0763 - val_acc: 0.9851\n",
      "Epoch 19/150\n",
      "60000/60000 [==============================] - 2s 39us/step - loss: 0.0580 - acc: 0.9819 - val_loss: 0.0686 - val_acc: 0.9862\n",
      "Epoch 20/150\n",
      "60000/60000 [==============================] - 2s 39us/step - loss: 0.0584 - acc: 0.9820 - val_loss: 0.0707 - val_acc: 0.9859\n",
      "Epoch 21/150\n",
      "60000/60000 [==============================] - 2s 40us/step - loss: 0.0572 - acc: 0.9815 - val_loss: 0.0647 - val_acc: 0.9875\n",
      "Epoch 22/150\n",
      "60000/60000 [==============================] - 2s 40us/step - loss: 0.0568 - acc: 0.9820 - val_loss: 0.0660 - val_acc: 0.9873\n",
      "Epoch 23/150\n",
      "60000/60000 [==============================] - 2s 39us/step - loss: 0.0534 - acc: 0.9828 - val_loss: 0.0653 - val_acc: 0.9867\n",
      "Epoch 24/150\n",
      "60000/60000 [==============================] - 2s 39us/step - loss: 0.0527 - acc: 0.9834 - val_loss: 0.0636 - val_acc: 0.9869\n",
      "Epoch 25/150\n",
      "60000/60000 [==============================] - 2s 39us/step - loss: 0.0528 - acc: 0.9834 - val_loss: 0.0710 - val_acc: 0.9860\n",
      "Epoch 26/150\n",
      "60000/60000 [==============================] - 2s 38us/step - loss: 0.0512 - acc: 0.9838 - val_loss: 0.0624 - val_acc: 0.9874\n",
      "Epoch 27/150\n",
      "60000/60000 [==============================] - 2s 40us/step - loss: 0.0525 - acc: 0.9833 - val_loss: 0.0613 - val_acc: 0.9865\n",
      "Epoch 28/150\n",
      "60000/60000 [==============================] - 2s 39us/step - loss: 0.0482 - acc: 0.9845 - val_loss: 0.0543 - val_acc: 0.9875\n",
      "Epoch 29/150\n",
      "60000/60000 [==============================] - 2s 39us/step - loss: 0.0459 - acc: 0.9848 - val_loss: 0.0573 - val_acc: 0.9873\n",
      "Epoch 30/150\n",
      "60000/60000 [==============================] - 2s 40us/step - loss: 0.0455 - acc: 0.9855 - val_loss: 0.0521 - val_acc: 0.9890\n",
      "Epoch 31/150\n",
      "60000/60000 [==============================] - 2s 39us/step - loss: 0.0473 - acc: 0.9847 - val_loss: 0.0568 - val_acc: 0.9880\n",
      "Epoch 32/150\n",
      "60000/60000 [==============================] - 2s 38us/step - loss: 0.0442 - acc: 0.9859 - val_loss: 0.0556 - val_acc: 0.9877\n",
      "Epoch 33/150\n",
      "60000/60000 [==============================] - 2s 40us/step - loss: 0.0434 - acc: 0.9863 - val_loss: 0.0540 - val_acc: 0.9879\n",
      "Epoch 34/150\n",
      "60000/60000 [==============================] - 2s 39us/step - loss: 0.0415 - acc: 0.9861 - val_loss: 0.0506 - val_acc: 0.9884\n",
      "Epoch 35/150\n",
      "60000/60000 [==============================] - 2s 39us/step - loss: 0.0418 - acc: 0.9865 - val_loss: 0.0471 - val_acc: 0.9888\n",
      "Epoch 36/150\n",
      "60000/60000 [==============================] - 2s 40us/step - loss: 0.0415 - acc: 0.9862 - val_loss: 0.0494 - val_acc: 0.9884\n",
      "Epoch 37/150\n",
      "60000/60000 [==============================] - 2s 40us/step - loss: 0.0402 - acc: 0.9870 - val_loss: 0.0525 - val_acc: 0.9880\n",
      "Epoch 38/150\n",
      "60000/60000 [==============================] - 2s 39us/step - loss: 0.0397 - acc: 0.9870 - val_loss: 0.0525 - val_acc: 0.9875\n",
      "Epoch 39/150\n",
      "60000/60000 [==============================] - 2s 39us/step - loss: 0.0375 - acc: 0.9880 - val_loss: 0.0449 - val_acc: 0.9895\n",
      "Epoch 40/150\n",
      "60000/60000 [==============================] - 2s 39us/step - loss: 0.0388 - acc: 0.9870 - val_loss: 0.0492 - val_acc: 0.9888\n",
      "Epoch 41/150\n",
      "60000/60000 [==============================] - 2s 39us/step - loss: 0.0361 - acc: 0.9882 - val_loss: 0.0478 - val_acc: 0.9892\n",
      "Epoch 42/150\n",
      "60000/60000 [==============================] - 2s 39us/step - loss: 0.0383 - acc: 0.9869 - val_loss: 0.0433 - val_acc: 0.9898\n",
      "Epoch 43/150\n",
      "60000/60000 [==============================] - 2s 39us/step - loss: 0.0357 - acc: 0.9884 - val_loss: 0.0428 - val_acc: 0.9901\n",
      "Epoch 44/150\n",
      "60000/60000 [==============================] - 2s 39us/step - loss: 0.0353 - acc: 0.9888 - val_loss: 0.0432 - val_acc: 0.9898\n",
      "Epoch 45/150\n",
      "60000/60000 [==============================] - 2s 39us/step - loss: 0.0355 - acc: 0.9880 - val_loss: 0.0436 - val_acc: 0.9894\n",
      "Epoch 46/150\n",
      "60000/60000 [==============================] - 2s 39us/step - loss: 0.0333 - acc: 0.9888 - val_loss: 0.0426 - val_acc: 0.9903\n",
      "Epoch 47/150\n",
      "60000/60000 [==============================] - 2s 39us/step - loss: 0.0347 - acc: 0.9883 - val_loss: 0.0436 - val_acc: 0.9890\n",
      "Epoch 48/150\n",
      "60000/60000 [==============================] - 2s 39us/step - loss: 0.0323 - acc: 0.9896 - val_loss: 0.0432 - val_acc: 0.9900\n",
      "Epoch 49/150\n",
      "60000/60000 [==============================] - 2s 39us/step - loss: 0.0345 - acc: 0.9885 - val_loss: 0.0416 - val_acc: 0.9895\n",
      "Epoch 50/150\n",
      "60000/60000 [==============================] - 2s 39us/step - loss: 0.0327 - acc: 0.9899 - val_loss: 0.0441 - val_acc: 0.9897\n",
      "Epoch 51/150\n",
      "60000/60000 [==============================] - 2s 39us/step - loss: 0.0331 - acc: 0.9894 - val_loss: 0.0401 - val_acc: 0.9902\n",
      "Epoch 52/150\n",
      "60000/60000 [==============================] - 2s 39us/step - loss: 0.0303 - acc: 0.9899 - val_loss: 0.0383 - val_acc: 0.9907\n",
      "Epoch 53/150\n",
      "60000/60000 [==============================] - 2s 39us/step - loss: 0.0318 - acc: 0.9893 - val_loss: 0.0461 - val_acc: 0.9886\n",
      "Epoch 54/150\n",
      "60000/60000 [==============================] - 2s 39us/step - loss: 0.0304 - acc: 0.9899 - val_loss: 0.0354 - val_acc: 0.9906\n",
      "Epoch 55/150\n",
      "60000/60000 [==============================] - 2s 39us/step - loss: 0.0314 - acc: 0.9895 - val_loss: 0.0394 - val_acc: 0.9893\n",
      "Epoch 56/150\n",
      "60000/60000 [==============================] - 2s 38us/step - loss: 0.0294 - acc: 0.9905 - val_loss: 0.0357 - val_acc: 0.9909\n",
      "Epoch 57/150\n",
      "60000/60000 [==============================] - 2s 38us/step - loss: 0.0296 - acc: 0.9903 - val_loss: 0.0417 - val_acc: 0.9911\n",
      "Epoch 58/150\n",
      "60000/60000 [==============================] - 2s 39us/step - loss: 0.0304 - acc: 0.9894 - val_loss: 0.0419 - val_acc: 0.9896\n",
      "Epoch 59/150\n",
      "60000/60000 [==============================] - 2s 39us/step - loss: 0.0279 - acc: 0.9910 - val_loss: 0.0349 - val_acc: 0.9910\n",
      "Epoch 60/150\n",
      "60000/60000 [==============================] - 2s 40us/step - loss: 0.0309 - acc: 0.9897 - val_loss: 0.0375 - val_acc: 0.9902\n",
      "Epoch 61/150\n",
      "60000/60000 [==============================] - 2s 40us/step - loss: 0.0284 - acc: 0.9902 - val_loss: 0.0348 - val_acc: 0.9905\n",
      "Epoch 62/150\n",
      "60000/60000 [==============================] - 2s 39us/step - loss: 0.0283 - acc: 0.9905 - val_loss: 0.0390 - val_acc: 0.9903\n",
      "Epoch 63/150\n",
      "60000/60000 [==============================] - 2s 39us/step - loss: 0.0276 - acc: 0.9908 - val_loss: 0.0359 - val_acc: 0.9900\n",
      "Epoch 64/150\n",
      "60000/60000 [==============================] - 2s 39us/step - loss: 0.0275 - acc: 0.9905 - val_loss: 0.0396 - val_acc: 0.9900\n",
      "Epoch 65/150\n",
      "60000/60000 [==============================] - 2s 39us/step - loss: 0.0270 - acc: 0.9910 - val_loss: 0.0356 - val_acc: 0.9892\n",
      "Epoch 66/150\n",
      "60000/60000 [==============================] - 2s 39us/step - loss: 0.0275 - acc: 0.9907 - val_loss: 0.0383 - val_acc: 0.9902\n",
      "Epoch 67/150\n",
      "60000/60000 [==============================] - 2s 39us/step - loss: 0.0268 - acc: 0.9910 - val_loss: 0.0347 - val_acc: 0.9905\n",
      "Epoch 68/150\n",
      "60000/60000 [==============================] - 2s 39us/step - loss: 0.0254 - acc: 0.9914 - val_loss: 0.0390 - val_acc: 0.9897\n",
      "Epoch 69/150\n",
      "60000/60000 [==============================] - 2s 39us/step - loss: 0.0250 - acc: 0.9918 - val_loss: 0.0300 - val_acc: 0.9911\n",
      "Epoch 70/150\n",
      "60000/60000 [==============================] - 2s 39us/step - loss: 0.0252 - acc: 0.9916 - val_loss: 0.0371 - val_acc: 0.9892\n",
      "Epoch 71/150\n",
      "60000/60000 [==============================] - 2s 40us/step - loss: 0.0247 - acc: 0.9915 - val_loss: 0.0328 - val_acc: 0.9910\n",
      "Epoch 72/150\n",
      "60000/60000 [==============================] - 2s 38us/step - loss: 0.0248 - acc: 0.9913 - val_loss: 0.0323 - val_acc: 0.9916\n",
      "Epoch 73/150\n",
      "60000/60000 [==============================] - 2s 38us/step - loss: 0.0242 - acc: 0.9915 - val_loss: 0.0332 - val_acc: 0.9908\n",
      "Epoch 74/150\n",
      "60000/60000 [==============================] - 2s 38us/step - loss: 0.0254 - acc: 0.9910 - val_loss: 0.0304 - val_acc: 0.9915\n",
      "Epoch 75/150\n",
      "60000/60000 [==============================] - 2s 39us/step - loss: 0.0234 - acc: 0.9918 - val_loss: 0.0345 - val_acc: 0.9903\n",
      "Epoch 76/150\n",
      "60000/60000 [==============================] - 2s 39us/step - loss: 0.0224 - acc: 0.9924 - val_loss: 0.0330 - val_acc: 0.9906\n",
      "Epoch 77/150\n",
      "60000/60000 [==============================] - 2s 40us/step - loss: 0.0231 - acc: 0.9919 - val_loss: 0.0331 - val_acc: 0.9907\n",
      "Epoch 78/150\n",
      "60000/60000 [==============================] - 2s 40us/step - loss: 0.0231 - acc: 0.9919 - val_loss: 0.0310 - val_acc: 0.9905\n",
      "Epoch 79/150\n",
      "60000/60000 [==============================] - 2s 40us/step - loss: 0.0232 - acc: 0.9922 - val_loss: 0.0300 - val_acc: 0.9912\n",
      "Epoch 80/150\n",
      "60000/60000 [==============================] - 2s 40us/step - loss: 0.0228 - acc: 0.9925 - val_loss: 0.0361 - val_acc: 0.9897\n",
      "Epoch 81/150\n",
      "60000/60000 [==============================] - 2s 40us/step - loss: 0.0220 - acc: 0.9925 - val_loss: 0.0313 - val_acc: 0.9909\n",
      "Epoch 82/150\n",
      "60000/60000 [==============================] - 2s 40us/step - loss: 0.0226 - acc: 0.9923 - val_loss: 0.0315 - val_acc: 0.9904\n",
      "Epoch 83/150\n",
      "60000/60000 [==============================] - 2s 41us/step - loss: 0.0225 - acc: 0.9921 - val_loss: 0.0310 - val_acc: 0.9917\n",
      "Epoch 84/150\n",
      "60000/60000 [==============================] - 2s 39us/step - loss: 0.0217 - acc: 0.9923 - val_loss: 0.0313 - val_acc: 0.9912\n",
      "Epoch 85/150\n",
      "60000/60000 [==============================] - 2s 39us/step - loss: 0.0216 - acc: 0.9927 - val_loss: 0.0319 - val_acc: 0.9911\n",
      "Epoch 86/150\n",
      "60000/60000 [==============================] - 2s 40us/step - loss: 0.0207 - acc: 0.9928 - val_loss: 0.0310 - val_acc: 0.9897\n",
      "Epoch 87/150\n",
      "60000/60000 [==============================] - 2s 40us/step - loss: 0.0211 - acc: 0.9928 - val_loss: 0.0295 - val_acc: 0.9914\n",
      "Epoch 88/150\n",
      "60000/60000 [==============================] - 2s 39us/step - loss: 0.0201 - acc: 0.9931 - val_loss: 0.0352 - val_acc: 0.9903\n",
      "Epoch 89/150\n",
      "60000/60000 [==============================] - 2s 40us/step - loss: 0.0208 - acc: 0.9930 - val_loss: 0.0305 - val_acc: 0.9911\n",
      "Epoch 90/150\n",
      "60000/60000 [==============================] - 2s 40us/step - loss: 0.0212 - acc: 0.9929 - val_loss: 0.0327 - val_acc: 0.9907\n",
      "Epoch 91/150\n",
      "60000/60000 [==============================] - 2s 39us/step - loss: 0.0206 - acc: 0.9930 - val_loss: 0.0322 - val_acc: 0.9904\n",
      "Epoch 92/150\n",
      "60000/60000 [==============================] - 2s 39us/step - loss: 0.0204 - acc: 0.9929 - val_loss: 0.0285 - val_acc: 0.9919\n",
      "Epoch 93/150\n",
      "60000/60000 [==============================] - 2s 40us/step - loss: 0.0208 - acc: 0.9929 - val_loss: 0.0293 - val_acc: 0.9906\n",
      "Epoch 94/150\n",
      "60000/60000 [==============================] - 2s 40us/step - loss: 0.0192 - acc: 0.9933 - val_loss: 0.0307 - val_acc: 0.9911\n",
      "Epoch 95/150\n",
      "60000/60000 [==============================] - 2s 40us/step - loss: 0.0194 - acc: 0.9930 - val_loss: 0.0295 - val_acc: 0.9910\n",
      "Epoch 96/150\n",
      "60000/60000 [==============================] - 2s 39us/step - loss: 0.0197 - acc: 0.9935 - val_loss: 0.0312 - val_acc: 0.9900\n",
      "Epoch 97/150\n",
      "60000/60000 [==============================] - 2s 40us/step - loss: 0.0189 - acc: 0.9933 - val_loss: 0.0321 - val_acc: 0.9897\n",
      "Epoch 98/150\n",
      "60000/60000 [==============================] - 2s 40us/step - loss: 0.0193 - acc: 0.9931 - val_loss: 0.0289 - val_acc: 0.9914\n",
      "Epoch 99/150\n",
      "60000/60000 [==============================] - 2s 39us/step - loss: 0.0181 - acc: 0.9939 - val_loss: 0.0323 - val_acc: 0.9901\n",
      "Epoch 100/150\n",
      "60000/60000 [==============================] - 2s 39us/step - loss: 0.0180 - acc: 0.9940 - val_loss: 0.0303 - val_acc: 0.9903\n",
      "Epoch 101/150\n",
      "60000/60000 [==============================] - 2s 39us/step - loss: 0.0164 - acc: 0.9943 - val_loss: 0.0322 - val_acc: 0.9900\n",
      "Epoch 102/150\n",
      "60000/60000 [==============================] - 2s 39us/step - loss: 0.0178 - acc: 0.9940 - val_loss: 0.0316 - val_acc: 0.9905\n",
      "Epoch 103/150\n",
      "60000/60000 [==============================] - 2s 40us/step - loss: 0.0181 - acc: 0.9940 - val_loss: 0.0313 - val_acc: 0.9903\n",
      "Epoch 104/150\n",
      "60000/60000 [==============================] - 2s 39us/step - loss: 0.0193 - acc: 0.9937 - val_loss: 0.0306 - val_acc: 0.9905\n",
      "Epoch 105/150\n",
      "60000/60000 [==============================] - 2s 40us/step - loss: 0.0198 - acc: 0.9935 - val_loss: 0.0266 - val_acc: 0.9920\n",
      "Epoch 106/150\n",
      "60000/60000 [==============================] - 2s 40us/step - loss: 0.0191 - acc: 0.9937 - val_loss: 0.0330 - val_acc: 0.9903\n",
      "Epoch 107/150\n",
      "60000/60000 [==============================] - 2s 40us/step - loss: 0.0173 - acc: 0.9940 - val_loss: 0.0308 - val_acc: 0.9909\n",
      "Epoch 108/150\n",
      "60000/60000 [==============================] - 2s 39us/step - loss: 0.0178 - acc: 0.9939 - val_loss: 0.0308 - val_acc: 0.9909\n",
      "Epoch 109/150\n",
      "60000/60000 [==============================] - 2s 39us/step - loss: 0.0186 - acc: 0.9938 - val_loss: 0.0302 - val_acc: 0.9907\n",
      "Epoch 110/150\n",
      "60000/60000 [==============================] - 2s 39us/step - loss: 0.0177 - acc: 0.9941 - val_loss: 0.0302 - val_acc: 0.9910\n",
      "Epoch 111/150\n",
      "60000/60000 [==============================] - 2s 40us/step - loss: 0.0172 - acc: 0.9939 - val_loss: 0.0332 - val_acc: 0.9897\n",
      "Epoch 112/150\n",
      "60000/60000 [==============================] - 2s 40us/step - loss: 0.0176 - acc: 0.9942 - val_loss: 0.0271 - val_acc: 0.9909\n",
      "Epoch 113/150\n",
      "60000/60000 [==============================] - 2s 40us/step - loss: 0.0180 - acc: 0.9936 - val_loss: 0.0315 - val_acc: 0.9910\n",
      "Epoch 114/150\n",
      "60000/60000 [==============================] - 2s 40us/step - loss: 0.0171 - acc: 0.9944 - val_loss: 0.0277 - val_acc: 0.9915\n",
      "Epoch 115/150\n",
      "60000/60000 [==============================] - 2s 40us/step - loss: 0.0160 - acc: 0.9947 - val_loss: 0.0272 - val_acc: 0.9921\n",
      "Epoch 116/150\n",
      "60000/60000 [==============================] - 2s 40us/step - loss: 0.0180 - acc: 0.9942 - val_loss: 0.0298 - val_acc: 0.9909\n",
      "Epoch 117/150\n",
      "60000/60000 [==============================] - 2s 40us/step - loss: 0.0174 - acc: 0.9939 - val_loss: 0.0314 - val_acc: 0.9906\n",
      "Epoch 118/150\n",
      "60000/60000 [==============================] - 2s 39us/step - loss: 0.0179 - acc: 0.9937 - val_loss: 0.0282 - val_acc: 0.9912\n",
      "Epoch 119/150\n",
      "60000/60000 [==============================] - 2s 39us/step - loss: 0.0161 - acc: 0.9947 - val_loss: 0.0268 - val_acc: 0.9920\n",
      "Epoch 120/150\n",
      "60000/60000 [==============================] - 2s 40us/step - loss: 0.0166 - acc: 0.9945 - val_loss: 0.0292 - val_acc: 0.9910\n",
      "Epoch 121/150\n",
      "60000/60000 [==============================] - 2s 39us/step - loss: 0.0166 - acc: 0.9941 - val_loss: 0.0268 - val_acc: 0.9909\n",
      "Epoch 122/150\n",
      "60000/60000 [==============================] - 2s 39us/step - loss: 0.0148 - acc: 0.9950 - val_loss: 0.0257 - val_acc: 0.9922\n",
      "Epoch 123/150\n",
      "60000/60000 [==============================] - 2s 40us/step - loss: 0.0155 - acc: 0.9947 - val_loss: 0.0277 - val_acc: 0.9911\n",
      "Epoch 124/150\n",
      "60000/60000 [==============================] - 2s 39us/step - loss: 0.0154 - acc: 0.9950 - val_loss: 0.0316 - val_acc: 0.9904\n",
      "Epoch 125/150\n",
      "60000/60000 [==============================] - 2s 39us/step - loss: 0.0164 - acc: 0.9943 - val_loss: 0.0278 - val_acc: 0.9907\n",
      "Epoch 126/150\n",
      "60000/60000 [==============================] - 2s 39us/step - loss: 0.0162 - acc: 0.9948 - val_loss: 0.0318 - val_acc: 0.9908\n",
      "Epoch 127/150\n",
      "60000/60000 [==============================] - 2s 40us/step - loss: 0.0150 - acc: 0.9949 - val_loss: 0.0287 - val_acc: 0.9910\n",
      "Epoch 128/150\n",
      "60000/60000 [==============================] - 2s 39us/step - loss: 0.0141 - acc: 0.9952 - val_loss: 0.0302 - val_acc: 0.9907\n",
      "Epoch 129/150\n",
      "60000/60000 [==============================] - 2s 40us/step - loss: 0.0150 - acc: 0.9947 - val_loss: 0.0268 - val_acc: 0.9915\n",
      "Epoch 130/150\n",
      "60000/60000 [==============================] - 2s 40us/step - loss: 0.0141 - acc: 0.9952 - val_loss: 0.0289 - val_acc: 0.9903\n",
      "Epoch 131/150\n",
      "60000/60000 [==============================] - 2s 40us/step - loss: 0.0147 - acc: 0.9948 - val_loss: 0.0263 - val_acc: 0.9915\n",
      "Epoch 132/150\n",
      "60000/60000 [==============================] - 2s 39us/step - loss: 0.0150 - acc: 0.9948 - val_loss: 0.0277 - val_acc: 0.9912\n",
      "Epoch 133/150\n",
      "60000/60000 [==============================] - 2s 40us/step - loss: 0.0136 - acc: 0.9952 - val_loss: 0.0273 - val_acc: 0.9917\n",
      "Epoch 134/150\n",
      "60000/60000 [==============================] - 2s 40us/step - loss: 0.0141 - acc: 0.9952 - val_loss: 0.0285 - val_acc: 0.9913\n",
      "Epoch 135/150\n",
      "60000/60000 [==============================] - 2s 40us/step - loss: 0.0158 - acc: 0.9945 - val_loss: 0.0293 - val_acc: 0.9911\n",
      "Epoch 136/150\n",
      "60000/60000 [==============================] - 2s 40us/step - loss: 0.0147 - acc: 0.9947 - val_loss: 0.0265 - val_acc: 0.9920\n",
      "Epoch 137/150\n",
      "60000/60000 [==============================] - 2s 41us/step - loss: 0.0151 - acc: 0.9948 - val_loss: 0.0268 - val_acc: 0.9916\n",
      "Epoch 138/150\n",
      "60000/60000 [==============================] - 2s 39us/step - loss: 0.0135 - acc: 0.9955 - val_loss: 0.0264 - val_acc: 0.9915\n",
      "Epoch 139/150\n",
      "60000/60000 [==============================] - 2s 40us/step - loss: 0.0134 - acc: 0.9956 - val_loss: 0.0271 - val_acc: 0.9912\n",
      "Epoch 140/150\n",
      "60000/60000 [==============================] - 2s 40us/step - loss: 0.0144 - acc: 0.9949 - val_loss: 0.0255 - val_acc: 0.9916\n",
      "Epoch 141/150\n",
      "60000/60000 [==============================] - 2s 40us/step - loss: 0.0132 - acc: 0.9954 - val_loss: 0.0283 - val_acc: 0.9911\n",
      "Epoch 142/150\n",
      "60000/60000 [==============================] - 2s 41us/step - loss: 0.0155 - acc: 0.9948 - val_loss: 0.0270 - val_acc: 0.9914\n",
      "Epoch 143/150\n",
      "60000/60000 [==============================] - 2s 39us/step - loss: 0.0149 - acc: 0.9949 - val_loss: 0.0280 - val_acc: 0.9911\n",
      "Epoch 144/150\n",
      "60000/60000 [==============================] - 2s 39us/step - loss: 0.0147 - acc: 0.9949 - val_loss: 0.0262 - val_acc: 0.9915\n",
      "Epoch 145/150\n",
      "60000/60000 [==============================] - 2s 40us/step - loss: 0.0139 - acc: 0.9952 - val_loss: 0.0337 - val_acc: 0.9893\n",
      "Epoch 146/150\n",
      "60000/60000 [==============================] - 2s 40us/step - loss: 0.0142 - acc: 0.9953 - val_loss: 0.0249 - val_acc: 0.9918\n",
      "Epoch 147/150\n",
      "60000/60000 [==============================] - 2s 40us/step - loss: 0.0134 - acc: 0.9957 - val_loss: 0.0274 - val_acc: 0.9915\n",
      "Epoch 148/150\n",
      "60000/60000 [==============================] - 2s 40us/step - loss: 0.0138 - acc: 0.9951 - val_loss: 0.0268 - val_acc: 0.9917\n",
      "Epoch 149/150\n",
      "60000/60000 [==============================] - 2s 40us/step - loss: 0.0136 - acc: 0.9954 - val_loss: 0.0265 - val_acc: 0.9914\n",
      "Epoch 150/150\n",
      "60000/60000 [==============================] - 2s 41us/step - loss: 0.0131 - acc: 0.9952 - val_loss: 0.0254 - val_acc: 0.9914\n"
     ]
    }
   ],
   "source": [
    "cnn_history = cnn.fit((data_train, labels_train),\n",
    "                    (data_test, labels_test),\n",
    "                    n_epochs=150,\n",
    "                    batch_size=1024)"
   ]
  },
  {
   "cell_type": "code",
   "execution_count": 0,
   "metadata": {
    "colab": {},
    "colab_type": "code",
    "id": "6fcahxa2SbYv"
   },
   "outputs": [],
   "source": [
    "cnn.save_model_weights(\"bonus_cnn_model_weights.h5\")\n",
    "cnn.save_model(\"bonus_cnn_model.json\")\n",
    "cnn.save_model_history(cnn_history, \"bonus_cnn_model_history.pkl\")"
   ]
  },
  {
   "cell_type": "code",
   "execution_count": 0,
   "metadata": {
    "colab": {},
    "colab_type": "code",
    "id": "doCWeJkESqRT"
   },
   "outputs": [],
   "source": [
    "! cp -r bonus_cnn_model.json bonus_cnn_model_weights.h5 bonus_cnn_model_history.pkl ./gdrive/My\\ Drive/ece595_ml2/models/"
   ]
  },
  {
   "cell_type": "code",
   "execution_count": 0,
   "metadata": {
    "colab": {},
    "colab_type": "code",
    "id": "ONqJsV2tSyg-"
   },
   "outputs": [],
   "source": [
    "cnn_model = cnn.load_model(\"bonus_cnn_model.json\", \"bonus_cnn_model_weights.h5\")"
   ]
  },
  {
   "cell_type": "code",
   "execution_count": 0,
   "metadata": {
    "colab": {},
    "colab_type": "code",
    "id": "sJni4bHpSzay"
   },
   "outputs": [],
   "source": [
    "cnn_reconstructions = cnn_model.predict(data_test)"
   ]
  },
  {
   "cell_type": "code",
   "execution_count": 15,
   "metadata": {
    "colab": {
     "base_uri": "https://localhost:8080/",
     "height": 297
    },
    "colab_type": "code",
    "id": "isbzriNLjcFv",
    "outputId": "de3d329a-12f1-4b79-c33b-79167dc76aa5"
   },
   "outputs": [
    {
     "data": {
      "image/png": "[encoded data removed]",
      "text/plain": [
       "<Figure size 432x288 with 1 Axes>"
      ]
     },
     "metadata": {
      "tags": []
     },
     "output_type": "display_data"
    }
   ],
   "source": [
    "plt.plot(cnn_history.history['acc'])\n",
    "plt.plot(cnn_history.history['val_acc'])\n",
    "plt.legend(['acc', 'val-acc'], loc='upper right')\n",
    "plt.xlabel(\"epochs\")\n",
    "plt.ylabel(r\"Accuracy (%)\")\n",
    "plt.tight_layout()\n",
    "plt.show()"
   ]
  },
  {
   "cell_type": "code",
   "execution_count": 16,
   "metadata": {
    "colab": {
     "base_uri": "https://localhost:8080/",
     "height": 527
    },
    "colab_type": "code",
    "id": "AQkSBaJISz5C",
    "outputId": "2f547b69-c681-45ca-c8c6-b84b8f8ce69b"
   },
   "outputs": [
    {
     "name": "stdout",
     "output_type": "stream",
     "text": [
      "10\n",
      "Model: \"sequential_1\"\n",
      "_________________________________________________________________\n",
      "Layer (type)                 Output Shape              Param #   \n",
      "=================================================================\n",
      "conv2d_1 (Conv2D)            (None, 28, 28, 16)        160       \n",
      "_________________________________________________________________\n",
      "dropout_1 (Dropout)          (None, 28, 28, 16)        0         \n",
      "_________________________________________________________________\n",
      "max_pooling2d_1 (MaxPooling2 (None, 14, 14, 16)        0         \n",
      "_________________________________________________________________\n",
      "conv2d_2 (Conv2D)            (None, 14, 14, 8)         1160      \n",
      "_________________________________________________________________\n",
      "dropout_2 (Dropout)          (None, 14, 14, 8)         0         \n",
      "_________________________________________________________________\n",
      "max_pooling2d_2 (MaxPooling2 (None, 7, 7, 8)           0         \n",
      "_________________________________________________________________\n",
      "flatten_1 (Flatten)          (None, 392)               0         \n",
      "_________________________________________________________________\n",
      "dense_1 (Dense)              (None, 50)                19650     \n",
      "_________________________________________________________________\n",
      "dense_2 (Dense)              (None, 50)                2550      \n",
      "_________________________________________________________________\n",
      "dense_3 (Dense)              (None, 10)                510       \n",
      "=================================================================\n",
      "Total params: 24,030\n",
      "Trainable params: 24,030\n",
      "Non-trainable params: 0\n",
      "_________________________________________________________________\n",
      "None\n"
     ]
    }
   ],
   "source": [
    "print(len(cnn_model.layers))\n",
    "print(cnn_model.summary())"
   ]
  },
  {
   "cell_type": "code",
   "execution_count": 17,
   "metadata": {
    "colab": {
     "base_uri": "https://localhost:8080/",
     "height": 1000
    },
    "colab_type": "code",
    "id": "tlwdLRLpLeJd",
    "outputId": "57da8801-f14b-4362-b4cc-d8abf17e78f1"
   },
   "outputs": [
    {
     "data": {
      "image/png": "[encoded data removed]",
      "text/plain": [
       "<IPython.core.display.Image object>"
      ]
     },
     "execution_count": 17,
     "metadata": {
      "tags": []
     },
     "output_type": "execute_result"
    }
   ],
   "source": [
    "from keras.utils.vis_utils import plot_model\n",
    "plot_model(cnn_model, to_file='model_plot.png', show_shapes=True, show_layer_names=True)"
   ]
  },
  {
   "cell_type": "code",
   "execution_count": 0,
   "metadata": {
    "colab": {},
    "colab_type": "code",
    "id": "APXgL-qQL2sV"
   },
   "outputs": [],
   "source": [
    "conv2d_1 = K.function([cnn_model.layers[0].input], [cnn_model.layers[0].output])\n",
    "conv2d_2 = K.function([cnn_model.layers[0].input], [cnn_model.layers[3].output])\n",
    "dense_1 = K.function([cnn_model.layers[0].input], [cnn_model.layers[7].output])\n",
    "dense_2 = K.function([cnn_model.layers[0].input], [cnn_model.layers[8].output])\n",
    "dense_3 = K.function([cnn_model.layers[0].input], [cnn_model.layers[9].output])"
   ]
  },
  {
   "cell_type": "code",
   "execution_count": 26,
   "metadata": {
    "colab": {
     "base_uri": "https://localhost:8080/",
     "height": 34
    },
    "colab_type": "code",
    "id": "S4RFbxnaU1-O",
    "outputId": "8e5c8eca-40aa-4da8-d259-e0f5aa2c5776"
   },
   "outputs": [
    {
     "name": "stdout",
     "output_type": "stream",
     "text": [
      "(125440000,)\n"
     ]
    }
   ],
   "source": [
    "units = conv2d_1([data_test])[0].flatten()\n",
    "print(units.shape)"
   ]
  },
  {
   "cell_type": "code",
   "execution_count": 0,
   "metadata": {
    "colab": {},
    "colab_type": "code",
    "id": "JrmsJp2JRZNb"
   },
   "outputs": [],
   "source": [
    "def count_active_units(layer_function):\n",
    "  \"\"\"\n",
    "    Count the number of active/inactive units in a layer\n",
    "    Parameters:\n",
    "      layer_function: \n",
    "  \"\"\"\n",
    "  units = layer_function([data_test])[0].flatten()\n",
    "  total_units = units.shape[0]\n",
    "  non_zero = np.count_nonzero(units)\n",
    "  return [total_units, non_zero]"
   ]
  },
  {
   "cell_type": "code",
   "execution_count": 0,
   "metadata": {
    "colab": {},
    "colab_type": "code",
    "id": "pdvB0fdWRZiI"
   },
   "outputs": [],
   "source": [
    "non_zero = []\n",
    "total = []\n",
    "for layer in [conv2d_1, conv2d_2, dense_1, dense_2, dense_3]:\n",
    "  temp_tot, temp_nz = count_active_units(layer)\n",
    "  non_zero.append(temp_nz)\n",
    "  total.append(temp_tot)"
   ]
  },
  {
   "cell_type": "code",
   "execution_count": 41,
   "metadata": {
    "colab": {
     "base_uri": "https://localhost:8080/",
     "height": 34
    },
    "colab_type": "code",
    "id": "o1DfMWZrXdSX",
    "outputId": "e6ab7529-051f-460e-a3d8-45d1844adfd1"
   },
   "outputs": [
    {
     "name": "stdout",
     "output_type": "stream",
     "text": [
      "[74510928, 10171293, 225561, 206053, 0]\n"
     ]
    }
   ],
   "source": [
    "zero = [i - j for i, j in zip(total, non_zero)]\n",
    "ratios = [100 * (i-j) / i for i, j in zip(total, non_zero)]\n",
    "print(zero)"
   ]
  },
  {
   "cell_type": "code",
   "execution_count": 48,
   "metadata": {
    "colab": {
     "base_uri": "https://localhost:8080/",
     "height": 297
    },
    "colab_type": "code",
    "id": "lnAooScBXxCr",
    "outputId": "3ad7887e-0bbb-45fc-f218-095ee2ff39de"
   },
   "outputs": [
    {
     "data": {
      "image/png": "[encoded data removed]",
      "text/plain": [
       "<Figure size 432x288 with 1 Axes>"
      ]
     },
     "metadata": {
      "tags": []
     },
     "output_type": "display_data"
    }
   ],
   "source": [
    "n_layers = len(zero)\n",
    "n = ['conv2d_1', 'conv2d_2', 'dense_1', 'dense_2', 'dense_3']\n",
    "fig, ax = plt.subplots()\n",
    "ax.plot(n, total, label='Total Units')\n",
    "ax.plot(n, non_zero, label='Active Units')\n",
    "ax.plot(n, zero, label='Inactive Units')\n",
    "ax.legend(loc='upper right')\n",
    "ax.set_ylabel(\"Number of Units\")\n",
    "fig.tight_layout()\n",
    "plt.show()"
   ]
  },
  {
   "cell_type": "code",
   "execution_count": 61,
   "metadata": {
    "colab": {
     "base_uri": "https://localhost:8080/",
     "height": 297
    },
    "colab_type": "code",
    "id": "kEvJyMA0eSII",
    "outputId": "c45dd5b4-9e5c-4136-fefe-802d752ed268"
   },
   "outputs": [
    {
     "data": {
      "image/png": "[encoded data removed]",
      "text/plain": [
       "<Figure size 432x288 with 1 Axes>"
      ]
     },
     "metadata": {
      "tags": []
     },
     "output_type": "display_data"
    }
   ],
   "source": [
    "n_layers = len(zero)\n",
    "n = ['conv2d_1', 'conv2d_2', 'dense_1', 'dense_2', 'dense_3']\n",
    "fig, ax = plt.subplots()\n",
    "ax.plot(n, ratios, 'r--',\n",
    "         label=\"Percent Inactive Units\")\n",
    "for i, j in zip(n, ratios):\n",
    "  label = \"{:.2f}\".format(j)\n",
    "  ax.annotate(label ,xy = (i,j))\n",
    "ax.legend(loc='upper right')\n",
    "ax.set_ylabel(r\"Inactive Units (%)\")\n",
    "fig.tight_layout()\n",
    "plt.show()"
   ]
  },
  {
   "cell_type": "code",
   "execution_count": 0,
   "metadata": {
    "colab": {},
    "colab_type": "code",
    "id": "ZzdAgN6zaM9B"
   },
   "outputs": [],
   "source": []
  }
 ],
 "metadata": {
  "accelerator": "GPU",
  "colab": {
   "collapsed_sections": [],
   "name": "bonus_exercise_1.ipynb",
   "provenance": []
  },
  "kernelspec": {
   "display_name": "Python 3",
   "language": "python",
   "name": "python3"
  },
  "language_info": {
   "codemirror_mode": {
    "name": "ipython",
    "version": 3
   },
   "file_extension": ".py",
   "mimetype": "text/x-python",
   "name": "python",
   "nbconvert_exporter": "python",
   "pygments_lexer": "ipython3",
   "version": "3.6.8"
  }
 },
 "nbformat": 4,
 "nbformat_minor": 1
}
